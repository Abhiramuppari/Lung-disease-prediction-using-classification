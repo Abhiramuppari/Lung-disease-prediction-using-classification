{
 "cells": [
  {
   "cell_type": "markdown",
   "id": "29924efe-efb9-4b34-b660-a535336c5070",
   "metadata": {},
   "source": [
    "# Business Problem Statement:\n",
    "\n",
    "\n",
    "**A healthcare analytics company wants to leverage patient data to build a predictive model that determines whether a patient is likely to have a lung disease based on demographic, lifestyle, clinical, and environmental factors**.\n",
    "\n",
    "**The aim is to enable early intervention, reduce healthcare costs, and support medical professionals in clinical decision-making.**\n",
    "\n",
    "Lung diseases pose serious health risks and early diagnosis is crucial for effective treatment. Healthcare providers often face challenges in identifying at-risk individuals due to the complexity of symptoms and lifestyle factors.\n",
    "\n",
    "Using the provided dataset of 1000 patients containing clinical, lifestyle, environmental, and symptomatic attributes, your objective is to build a classification model that predicts whether a patient has a lung disease.\n",
    "\n",
    "Develop a machine learning solution that helps doctors and health systems automatically classify patients as having lung disease (Yes) or not (No), based on features like smoking history, pollution exposure, physical symptoms, and vital stats.\n",
    "\n",
    "\n"
   ]
  },
  {
   "cell_type": "markdown",
   "id": "c0baaf13-e9b9-47ab-89fa-f94a7c9f21ec",
   "metadata": {},
   "source": [
    "| Column Name                  | Description |\n",
    "|-----------------------------|-------------|\n",
    "| Patient_ID                  | Unique identifier for each patient. |\n",
    "| Age                         | Age of the patient in years. |\n",
    "| Gender                      | Gender of the patient (e.g., Male/Female). |\n",
    "| BMI                         | Body Mass Index indicating body fat based on height and weight. |\n",
    "| Smoking_Years               | Number of years the patient has been smoking. |\n",
    "| Cigarettes_Per_Day          | Average number of cigarettes smoked per day. |\n",
    "| Alcohol_Units_Per_Week      | Number of alcohol units consumed by the patient per week. |\n",
    "| Air_Pollution_Index         | Index measuring exposure to air pollution. |\n",
    "| Occupational_Hazard_Score   | Score representing exposure to occupational health hazards. |\n",
    "| Exposure_to_Dust_Years      | Years of exposure to dusty environments. |\n",
    "| Physical_Activity_Level     | Level of regular physical activity (higher means more active). |\n",
    "| Blood_Pressure_Systolic     | Systolic blood pressure (upper value). |\n",
    "| Blood_Pressure_Diastolic    | Diastolic blood pressure (lower value). |\n",
    "| Cholesterol_Level           | Measured cholesterol level in the blood. |\n",
    "| Blood_Sugar_Level           | Measured blood glucose level. |\n",
    "| FEV1                        | Forced Expiratory Volume in 1 second, a lung function test. |\n",
    "| Allergy                     | Whether the patient has allergies (Yes/No). |\n",
    "| Wheezing                    | Presence of wheezing symptoms (Yes/No). |\n",
    "| Coughing                    | Presence of coughing symptoms (Yes/No). |\n",
    "| Fatigue                     | Whether the patient experiences fatigue (Yes/No). |\n",
    "| Chest_Pain                  | Presence of chest pain (Yes/No). |\n",
    "| Shortness_of_Breath         | Whether the patient has difficulty breathing (Yes/No). |\n",
    "| Chronic_Disease             | Presence of any chronic medical condition (Yes/No). |\n",
    "| Family_History_Lung_Disease | Family history of lung-related diseases (Yes/No). |\n",
    "| Lung_Disease                | Target label indicating if the patient has a lung disease (Yes/No). |\n"
   ]
  },
  {
   "cell_type": "code",
   "execution_count": 1,
   "id": "7c9dff3a-5e0a-4e82-9be8-ba4d0e3ea7f9",
   "metadata": {},
   "outputs": [],
   "source": [
    "import numpy as np\n",
    "import pandas as pd\n",
    "import matplotlib.pyplot as plt\n",
    "import seaborn as sns\n",
    "\n",
    "import warnings\n",
    "warnings.simplefilter('ignore')"
   ]
  },
  {
   "cell_type": "code",
   "execution_count": 2,
   "id": "9ea4d2a8-f0b1-491d-b3f3-b2dfcce0e202",
   "metadata": {},
   "outputs": [
    {
     "data": {
      "text/html": [
       "<div>\n",
       "<style scoped>\n",
       "    .dataframe tbody tr th:only-of-type {\n",
       "        vertical-align: middle;\n",
       "    }\n",
       "\n",
       "    .dataframe tbody tr th {\n",
       "        vertical-align: top;\n",
       "    }\n",
       "\n",
       "    .dataframe thead th {\n",
       "        text-align: right;\n",
       "    }\n",
       "</style>\n",
       "<table border=\"1\" class=\"dataframe\">\n",
       "  <thead>\n",
       "    <tr style=\"text-align: right;\">\n",
       "      <th></th>\n",
       "      <th>Patient_ID</th>\n",
       "      <th>Age</th>\n",
       "      <th>Gender</th>\n",
       "      <th>BMI</th>\n",
       "      <th>Smoking_Years</th>\n",
       "      <th>Cigarettes_Per_Day</th>\n",
       "      <th>Alcohol_Units_Per_Week</th>\n",
       "      <th>Air_Pollution_Index</th>\n",
       "      <th>Occupational_Hazard_Score</th>\n",
       "      <th>Exposure_to_Dust_Years</th>\n",
       "      <th>...</th>\n",
       "      <th>FEV1</th>\n",
       "      <th>Allergy</th>\n",
       "      <th>Wheezing</th>\n",
       "      <th>Coughing</th>\n",
       "      <th>Fatigue</th>\n",
       "      <th>Chest_Pain</th>\n",
       "      <th>Shortness_of_Breath</th>\n",
       "      <th>Chronic_Disease</th>\n",
       "      <th>Family_History_Lung_Disease</th>\n",
       "      <th>Lung_Disease</th>\n",
       "    </tr>\n",
       "  </thead>\n",
       "  <tbody>\n",
       "    <tr>\n",
       "      <th>0</th>\n",
       "      <td>P0001</td>\n",
       "      <td>68</td>\n",
       "      <td>Female</td>\n",
       "      <td>31.33</td>\n",
       "      <td>6</td>\n",
       "      <td>15</td>\n",
       "      <td>14.4</td>\n",
       "      <td>190.5</td>\n",
       "      <td>7.52</td>\n",
       "      <td>29</td>\n",
       "      <td>...</td>\n",
       "      <td>0.90</td>\n",
       "      <td>Yes</td>\n",
       "      <td>Yes</td>\n",
       "      <td>Yes</td>\n",
       "      <td>Yes</td>\n",
       "      <td>Yes</td>\n",
       "      <td>Yes</td>\n",
       "      <td>Yes</td>\n",
       "      <td>Yes</td>\n",
       "      <td>Yes</td>\n",
       "    </tr>\n",
       "    <tr>\n",
       "      <th>1</th>\n",
       "      <td>P0002</td>\n",
       "      <td>81</td>\n",
       "      <td>Male</td>\n",
       "      <td>24.26</td>\n",
       "      <td>15</td>\n",
       "      <td>49</td>\n",
       "      <td>4.3</td>\n",
       "      <td>175.9</td>\n",
       "      <td>5.57</td>\n",
       "      <td>20</td>\n",
       "      <td>...</td>\n",
       "      <td>0.60</td>\n",
       "      <td>No</td>\n",
       "      <td>Yes</td>\n",
       "      <td>Yes</td>\n",
       "      <td>Yes</td>\n",
       "      <td>No</td>\n",
       "      <td>Yes</td>\n",
       "      <td>Yes</td>\n",
       "      <td>Yes</td>\n",
       "      <td>Yes</td>\n",
       "    </tr>\n",
       "    <tr>\n",
       "      <th>2</th>\n",
       "      <td>P0003</td>\n",
       "      <td>58</td>\n",
       "      <td>Female</td>\n",
       "      <td>25.02</td>\n",
       "      <td>17</td>\n",
       "      <td>22</td>\n",
       "      <td>17.4</td>\n",
       "      <td>80.2</td>\n",
       "      <td>6.47</td>\n",
       "      <td>26</td>\n",
       "      <td>...</td>\n",
       "      <td>2.32</td>\n",
       "      <td>Yes</td>\n",
       "      <td>No</td>\n",
       "      <td>No</td>\n",
       "      <td>Yes</td>\n",
       "      <td>Yes</td>\n",
       "      <td>No</td>\n",
       "      <td>No</td>\n",
       "      <td>No</td>\n",
       "      <td>Yes</td>\n",
       "    </tr>\n",
       "    <tr>\n",
       "      <th>3</th>\n",
       "      <td>P0004</td>\n",
       "      <td>44</td>\n",
       "      <td>Male</td>\n",
       "      <td>26.99</td>\n",
       "      <td>14</td>\n",
       "      <td>44</td>\n",
       "      <td>9.6</td>\n",
       "      <td>88.7</td>\n",
       "      <td>10.00</td>\n",
       "      <td>35</td>\n",
       "      <td>...</td>\n",
       "      <td>2.14</td>\n",
       "      <td>Yes</td>\n",
       "      <td>Yes</td>\n",
       "      <td>Yes</td>\n",
       "      <td>Yes</td>\n",
       "      <td>Yes</td>\n",
       "      <td>Yes</td>\n",
       "      <td>Yes</td>\n",
       "      <td>Yes</td>\n",
       "      <td>Yes</td>\n",
       "    </tr>\n",
       "    <tr>\n",
       "      <th>4</th>\n",
       "      <td>P0005</td>\n",
       "      <td>72</td>\n",
       "      <td>Male</td>\n",
       "      <td>24.26</td>\n",
       "      <td>11</td>\n",
       "      <td>15</td>\n",
       "      <td>11.5</td>\n",
       "      <td>246.1</td>\n",
       "      <td>2.77</td>\n",
       "      <td>12</td>\n",
       "      <td>...</td>\n",
       "      <td>3.40</td>\n",
       "      <td>No</td>\n",
       "      <td>No</td>\n",
       "      <td>No</td>\n",
       "      <td>No</td>\n",
       "      <td>No</td>\n",
       "      <td>No</td>\n",
       "      <td>Yes</td>\n",
       "      <td>Yes</td>\n",
       "      <td>No</td>\n",
       "    </tr>\n",
       "  </tbody>\n",
       "</table>\n",
       "<p>5 rows × 25 columns</p>\n",
       "</div>"
      ],
      "text/plain": [
       "  Patient_ID  Age  Gender    BMI  Smoking_Years  Cigarettes_Per_Day  \\\n",
       "0      P0001   68  Female  31.33              6                  15   \n",
       "1      P0002   81    Male  24.26             15                  49   \n",
       "2      P0003   58  Female  25.02             17                  22   \n",
       "3      P0004   44    Male  26.99             14                  44   \n",
       "4      P0005   72    Male  24.26             11                  15   \n",
       "\n",
       "   Alcohol_Units_Per_Week  Air_Pollution_Index  Occupational_Hazard_Score  \\\n",
       "0                    14.4                190.5                       7.52   \n",
       "1                     4.3                175.9                       5.57   \n",
       "2                    17.4                 80.2                       6.47   \n",
       "3                     9.6                 88.7                      10.00   \n",
       "4                    11.5                246.1                       2.77   \n",
       "\n",
       "   Exposure_to_Dust_Years  ...  FEV1  Allergy  Wheezing  Coughing  Fatigue  \\\n",
       "0                      29  ...  0.90      Yes       Yes       Yes      Yes   \n",
       "1                      20  ...  0.60       No       Yes       Yes      Yes   \n",
       "2                      26  ...  2.32      Yes        No        No      Yes   \n",
       "3                      35  ...  2.14      Yes       Yes       Yes      Yes   \n",
       "4                      12  ...  3.40       No        No        No       No   \n",
       "\n",
       "   Chest_Pain Shortness_of_Breath Chronic_Disease Family_History_Lung_Disease  \\\n",
       "0         Yes                 Yes             Yes                         Yes   \n",
       "1          No                 Yes             Yes                         Yes   \n",
       "2         Yes                  No              No                          No   \n",
       "3         Yes                 Yes             Yes                         Yes   \n",
       "4          No                  No             Yes                         Yes   \n",
       "\n",
       "  Lung_Disease  \n",
       "0          Yes  \n",
       "1          Yes  \n",
       "2          Yes  \n",
       "3          Yes  \n",
       "4           No  \n",
       "\n",
       "[5 rows x 25 columns]"
      ]
     },
     "execution_count": 2,
     "metadata": {},
     "output_type": "execute_result"
    }
   ],
   "source": [
    "df=pd.read_csv(\"improved_lung_disease_dataset.csv\")\n",
    "df.head()"
   ]
  },
  {
   "cell_type": "markdown",
   "id": "3a2e1759-f29e-40c5-b794-55feba504eeb",
   "metadata": {},
   "source": [
    "# Step 2 : DATA UNDERSTANDING\n",
    "\n",
    "#### 2a) Data Exploration "
   ]
  },
  {
   "cell_type": "code",
   "execution_count": 3,
   "id": "2e086bb5-0736-4b65-979e-a9ddbe692276",
   "metadata": {},
   "outputs": [
    {
     "name": "stdout",
     "output_type": "stream",
     "text": [
      "<class 'pandas.core.frame.DataFrame'>\n",
      "RangeIndex: 1000 entries, 0 to 999\n",
      "Data columns (total 25 columns):\n",
      " #   Column                       Non-Null Count  Dtype  \n",
      "---  ------                       --------------  -----  \n",
      " 0   Patient_ID                   1000 non-null   object \n",
      " 1   Age                          1000 non-null   int64  \n",
      " 2   Gender                       1000 non-null   object \n",
      " 3   BMI                          1000 non-null   float64\n",
      " 4   Smoking_Years                1000 non-null   int64  \n",
      " 5   Cigarettes_Per_Day           1000 non-null   int64  \n",
      " 6   Alcohol_Units_Per_Week       1000 non-null   float64\n",
      " 7   Air_Pollution_Index          1000 non-null   float64\n",
      " 8   Occupational_Hazard_Score    1000 non-null   float64\n",
      " 9   Exposure_to_Dust_Years       1000 non-null   int64  \n",
      " 10  Physical_Activity_Level      1000 non-null   float64\n",
      " 11  Blood_Pressure_Systolic      1000 non-null   int64  \n",
      " 12  Blood_Pressure_Diastolic     1000 non-null   int64  \n",
      " 13  Cholesterol_Level            1000 non-null   float64\n",
      " 14  Blood_Sugar_Level            1000 non-null   float64\n",
      " 15  FEV1                         1000 non-null   float64\n",
      " 16  Allergy                      1000 non-null   object \n",
      " 17  Wheezing                     1000 non-null   object \n",
      " 18  Coughing                     1000 non-null   object \n",
      " 19  Fatigue                      1000 non-null   object \n",
      " 20  Chest_Pain                   1000 non-null   object \n",
      " 21  Shortness_of_Breath          1000 non-null   object \n",
      " 22  Chronic_Disease              1000 non-null   object \n",
      " 23  Family_History_Lung_Disease  1000 non-null   object \n",
      " 24  Lung_Disease                 1000 non-null   object \n",
      "dtypes: float64(8), int64(6), object(11)\n",
      "memory usage: 195.4+ KB\n"
     ]
    }
   ],
   "source": [
    "df.info()"
   ]
  },
  {
   "cell_type": "markdown",
   "id": "93bbf43f-6b6b-4f92-9f52-b295854880e0",
   "metadata": {},
   "source": [
    "**Ckecking missing values**"
   ]
  },
  {
   "cell_type": "markdown",
   "id": "4f0b7e4f-0af9-4fa8-8fcc-bb35e49a2be7",
   "metadata": {},
   "source": [
    "**[Dataset Shape]**\n",
    "\r\n",
    "To check the number of rows and columns in the dataset, use the .shape property:"
   ]
  },
  {
   "cell_type": "code",
   "execution_count": 4,
   "id": "2fed1a06-8606-47e2-a13a-adde6ad940bb",
   "metadata": {},
   "outputs": [
    {
     "data": {
      "text/plain": [
       "(1000, 25)"
      ]
     },
     "execution_count": 4,
     "metadata": {},
     "output_type": "execute_result"
    }
   ],
   "source": [
    "df.shape"
   ]
  },
  {
   "cell_type": "code",
   "execution_count": 5,
   "id": "50eb198e-e6b4-4983-a6ab-f7c35c173c44",
   "metadata": {},
   "outputs": [
    {
     "data": {
      "text/plain": [
       "Gender\n",
       "Male      521\n",
       "Female    479\n",
       "Name: count, dtype: int64"
      ]
     },
     "execution_count": 5,
     "metadata": {},
     "output_type": "execute_result"
    }
   ],
   "source": [
    "df['Gender'].value_counts()"
   ]
  },
  {
   "cell_type": "code",
   "execution_count": 6,
   "id": "27dd41f1-abef-4838-9e26-f46d17cc7495",
   "metadata": {},
   "outputs": [
    {
     "data": {
      "text/plain": [
       "Wheezing\n",
       "Yes    539\n",
       "No     461\n",
       "Name: count, dtype: int64"
      ]
     },
     "execution_count": 6,
     "metadata": {},
     "output_type": "execute_result"
    }
   ],
   "source": [
    "df['Wheezing'].value_counts()"
   ]
  },
  {
   "cell_type": "code",
   "execution_count": 7,
   "id": "f5b1f288-d5d7-4441-88c5-fcc33e1fb698",
   "metadata": {},
   "outputs": [
    {
     "data": {
      "text/plain": [
       "Coughing\n",
       "Yes    536\n",
       "No     464\n",
       "Name: count, dtype: int64"
      ]
     },
     "execution_count": 7,
     "metadata": {},
     "output_type": "execute_result"
    }
   ],
   "source": [
    "df['Coughing'].value_counts()"
   ]
  },
  {
   "cell_type": "code",
   "execution_count": 8,
   "id": "ec7d84ba-2850-4b7c-aca0-19e5a7403121",
   "metadata": {},
   "outputs": [
    {
     "data": {
      "text/plain": [
       "Fatigue\n",
       "Yes    554\n",
       "No     446\n",
       "Name: count, dtype: int64"
      ]
     },
     "execution_count": 8,
     "metadata": {},
     "output_type": "execute_result"
    }
   ],
   "source": [
    "df['Fatigue'].value_counts()"
   ]
  },
  {
   "cell_type": "code",
   "execution_count": 9,
   "id": "2ef13227-0fa9-4a8c-9f15-26a02e018a72",
   "metadata": {},
   "outputs": [
    {
     "data": {
      "text/plain": [
       "Chest_Pain\n",
       "Yes    558\n",
       "No     442\n",
       "Name: count, dtype: int64"
      ]
     },
     "execution_count": 9,
     "metadata": {},
     "output_type": "execute_result"
    }
   ],
   "source": [
    "df['Chest_Pain'].value_counts()"
   ]
  },
  {
   "cell_type": "code",
   "execution_count": 10,
   "id": "08e589d0-758f-499c-917b-fce104e13147",
   "metadata": {},
   "outputs": [
    {
     "data": {
      "text/plain": [
       "Shortness_of_Breath\n",
       "Yes    554\n",
       "No     446\n",
       "Name: count, dtype: int64"
      ]
     },
     "execution_count": 10,
     "metadata": {},
     "output_type": "execute_result"
    }
   ],
   "source": [
    "df['Shortness_of_Breath'].value_counts()"
   ]
  },
  {
   "cell_type": "code",
   "execution_count": 11,
   "id": "be0197ed-f762-450c-9f76-f94824252c1d",
   "metadata": {},
   "outputs": [
    {
     "data": {
      "text/plain": [
       "Chronic_Disease\n",
       "Yes    544\n",
       "No     456\n",
       "Name: count, dtype: int64"
      ]
     },
     "execution_count": 11,
     "metadata": {},
     "output_type": "execute_result"
    }
   ],
   "source": [
    "df['Chronic_Disease'].value_counts()"
   ]
  },
  {
   "cell_type": "code",
   "execution_count": 12,
   "id": "296bb9dd-4509-4eb4-8723-6633c0572bb8",
   "metadata": {},
   "outputs": [
    {
     "data": {
      "text/plain": [
       "Family_History_Lung_Disease\n",
       "Yes    562\n",
       "No     438\n",
       "Name: count, dtype: int64"
      ]
     },
     "execution_count": 12,
     "metadata": {},
     "output_type": "execute_result"
    }
   ],
   "source": [
    "df['Family_History_Lung_Disease'].value_counts()"
   ]
  },
  {
   "cell_type": "code",
   "execution_count": 13,
   "id": "b257c032-d7af-45b5-af06-d148f978c52c",
   "metadata": {},
   "outputs": [
    {
     "data": {
      "text/plain": [
       "Lung_Disease\n",
       "Yes    574\n",
       "No     426\n",
       "Name: count, dtype: int64"
      ]
     },
     "execution_count": 13,
     "metadata": {},
     "output_type": "execute_result"
    }
   ],
   "source": [
    "df['Lung_Disease'].value_counts()"
   ]
  },
  {
   "cell_type": "markdown",
   "id": "e9638aa8-877d-43f1-be85-f25dea369269",
   "metadata": {},
   "source": [
    "**Droping unimportant columns as Feature Selection**"
   ]
  },
  {
   "cell_type": "code",
   "execution_count": 14,
   "id": "17992736-20c8-4c66-bab7-f30c4d8d3ba2",
   "metadata": {},
   "outputs": [],
   "source": [
    "#df.drop('BMI', axis = 1)"
   ]
  },
  {
   "cell_type": "code",
   "execution_count": 15,
   "id": "616a5617-be41-44ee-a7b5-f2f11926d4fe",
   "metadata": {},
   "outputs": [],
   "source": [
    "df.drop(columns = ['Patient_ID' , 'Blood_Pressure_Systolic', 'Blood_Pressure_Diastolic', 'Cholesterol_Level','Blood_Sugar_Level'] , inplace = True)"
   ]
  },
  {
   "cell_type": "code",
   "execution_count": 16,
   "id": "d2180ead-ef27-475a-8b1c-e2abda824daf",
   "metadata": {},
   "outputs": [
    {
     "data": {
      "text/html": [
       "<div>\n",
       "<style scoped>\n",
       "    .dataframe tbody tr th:only-of-type {\n",
       "        vertical-align: middle;\n",
       "    }\n",
       "\n",
       "    .dataframe tbody tr th {\n",
       "        vertical-align: top;\n",
       "    }\n",
       "\n",
       "    .dataframe thead th {\n",
       "        text-align: right;\n",
       "    }\n",
       "</style>\n",
       "<table border=\"1\" class=\"dataframe\">\n",
       "  <thead>\n",
       "    <tr style=\"text-align: right;\">\n",
       "      <th></th>\n",
       "      <th>Age</th>\n",
       "      <th>Gender</th>\n",
       "      <th>BMI</th>\n",
       "      <th>Smoking_Years</th>\n",
       "      <th>Cigarettes_Per_Day</th>\n",
       "      <th>Alcohol_Units_Per_Week</th>\n",
       "      <th>Air_Pollution_Index</th>\n",
       "      <th>Occupational_Hazard_Score</th>\n",
       "      <th>Exposure_to_Dust_Years</th>\n",
       "      <th>Physical_Activity_Level</th>\n",
       "      <th>FEV1</th>\n",
       "      <th>Allergy</th>\n",
       "      <th>Wheezing</th>\n",
       "      <th>Coughing</th>\n",
       "      <th>Fatigue</th>\n",
       "      <th>Chest_Pain</th>\n",
       "      <th>Shortness_of_Breath</th>\n",
       "      <th>Chronic_Disease</th>\n",
       "      <th>Family_History_Lung_Disease</th>\n",
       "      <th>Lung_Disease</th>\n",
       "    </tr>\n",
       "  </thead>\n",
       "  <tbody>\n",
       "    <tr>\n",
       "      <th>0</th>\n",
       "      <td>68</td>\n",
       "      <td>Female</td>\n",
       "      <td>31.33</td>\n",
       "      <td>6</td>\n",
       "      <td>15</td>\n",
       "      <td>14.4</td>\n",
       "      <td>190.5</td>\n",
       "      <td>7.52</td>\n",
       "      <td>29</td>\n",
       "      <td>2.7</td>\n",
       "      <td>0.90</td>\n",
       "      <td>Yes</td>\n",
       "      <td>Yes</td>\n",
       "      <td>Yes</td>\n",
       "      <td>Yes</td>\n",
       "      <td>Yes</td>\n",
       "      <td>Yes</td>\n",
       "      <td>Yes</td>\n",
       "      <td>Yes</td>\n",
       "      <td>Yes</td>\n",
       "    </tr>\n",
       "    <tr>\n",
       "      <th>1</th>\n",
       "      <td>81</td>\n",
       "      <td>Male</td>\n",
       "      <td>24.26</td>\n",
       "      <td>15</td>\n",
       "      <td>49</td>\n",
       "      <td>4.3</td>\n",
       "      <td>175.9</td>\n",
       "      <td>5.57</td>\n",
       "      <td>20</td>\n",
       "      <td>1.5</td>\n",
       "      <td>0.60</td>\n",
       "      <td>No</td>\n",
       "      <td>Yes</td>\n",
       "      <td>Yes</td>\n",
       "      <td>Yes</td>\n",
       "      <td>No</td>\n",
       "      <td>Yes</td>\n",
       "      <td>Yes</td>\n",
       "      <td>Yes</td>\n",
       "      <td>Yes</td>\n",
       "    </tr>\n",
       "    <tr>\n",
       "      <th>2</th>\n",
       "      <td>58</td>\n",
       "      <td>Female</td>\n",
       "      <td>25.02</td>\n",
       "      <td>17</td>\n",
       "      <td>22</td>\n",
       "      <td>17.4</td>\n",
       "      <td>80.2</td>\n",
       "      <td>6.47</td>\n",
       "      <td>26</td>\n",
       "      <td>3.7</td>\n",
       "      <td>2.32</td>\n",
       "      <td>Yes</td>\n",
       "      <td>No</td>\n",
       "      <td>No</td>\n",
       "      <td>Yes</td>\n",
       "      <td>Yes</td>\n",
       "      <td>No</td>\n",
       "      <td>No</td>\n",
       "      <td>No</td>\n",
       "      <td>Yes</td>\n",
       "    </tr>\n",
       "    <tr>\n",
       "      <th>3</th>\n",
       "      <td>44</td>\n",
       "      <td>Male</td>\n",
       "      <td>26.99</td>\n",
       "      <td>14</td>\n",
       "      <td>44</td>\n",
       "      <td>9.6</td>\n",
       "      <td>88.7</td>\n",
       "      <td>10.00</td>\n",
       "      <td>35</td>\n",
       "      <td>3.7</td>\n",
       "      <td>2.14</td>\n",
       "      <td>Yes</td>\n",
       "      <td>Yes</td>\n",
       "      <td>Yes</td>\n",
       "      <td>Yes</td>\n",
       "      <td>Yes</td>\n",
       "      <td>Yes</td>\n",
       "      <td>Yes</td>\n",
       "      <td>Yes</td>\n",
       "      <td>Yes</td>\n",
       "    </tr>\n",
       "    <tr>\n",
       "      <th>4</th>\n",
       "      <td>72</td>\n",
       "      <td>Male</td>\n",
       "      <td>24.26</td>\n",
       "      <td>11</td>\n",
       "      <td>15</td>\n",
       "      <td>11.5</td>\n",
       "      <td>246.1</td>\n",
       "      <td>2.77</td>\n",
       "      <td>12</td>\n",
       "      <td>4.4</td>\n",
       "      <td>3.40</td>\n",
       "      <td>No</td>\n",
       "      <td>No</td>\n",
       "      <td>No</td>\n",
       "      <td>No</td>\n",
       "      <td>No</td>\n",
       "      <td>No</td>\n",
       "      <td>Yes</td>\n",
       "      <td>Yes</td>\n",
       "      <td>No</td>\n",
       "    </tr>\n",
       "  </tbody>\n",
       "</table>\n",
       "</div>"
      ],
      "text/plain": [
       "   Age  Gender    BMI  Smoking_Years  Cigarettes_Per_Day  \\\n",
       "0   68  Female  31.33              6                  15   \n",
       "1   81    Male  24.26             15                  49   \n",
       "2   58  Female  25.02             17                  22   \n",
       "3   44    Male  26.99             14                  44   \n",
       "4   72    Male  24.26             11                  15   \n",
       "\n",
       "   Alcohol_Units_Per_Week  Air_Pollution_Index  Occupational_Hazard_Score  \\\n",
       "0                    14.4                190.5                       7.52   \n",
       "1                     4.3                175.9                       5.57   \n",
       "2                    17.4                 80.2                       6.47   \n",
       "3                     9.6                 88.7                      10.00   \n",
       "4                    11.5                246.1                       2.77   \n",
       "\n",
       "   Exposure_to_Dust_Years  Physical_Activity_Level  FEV1 Allergy Wheezing  \\\n",
       "0                      29                      2.7  0.90     Yes      Yes   \n",
       "1                      20                      1.5  0.60      No      Yes   \n",
       "2                      26                      3.7  2.32     Yes       No   \n",
       "3                      35                      3.7  2.14     Yes      Yes   \n",
       "4                      12                      4.4  3.40      No       No   \n",
       "\n",
       "  Coughing Fatigue Chest_Pain Shortness_of_Breath Chronic_Disease  \\\n",
       "0      Yes     Yes        Yes                 Yes             Yes   \n",
       "1      Yes     Yes         No                 Yes             Yes   \n",
       "2       No     Yes        Yes                  No              No   \n",
       "3      Yes     Yes        Yes                 Yes             Yes   \n",
       "4       No      No         No                  No             Yes   \n",
       "\n",
       "  Family_History_Lung_Disease Lung_Disease  \n",
       "0                         Yes          Yes  \n",
       "1                         Yes          Yes  \n",
       "2                          No          Yes  \n",
       "3                         Yes          Yes  \n",
       "4                         Yes           No  "
      ]
     },
     "execution_count": 16,
     "metadata": {},
     "output_type": "execute_result"
    }
   ],
   "source": [
    "df.head()"
   ]
  },
  {
   "cell_type": "code",
   "execution_count": 17,
   "id": "65a4e1a8-0e81-44af-b03f-b97f2fde09bf",
   "metadata": {},
   "outputs": [],
   "source": [
    "continues = ['BMI' , 'Alcohol_Units_Per_Week' , 'Air_Pollution_Index'  , 'Occupational_Hazard_Score' , 'Physical_Activity_Level' , 'FEV1']\n",
    "discrete_categorical = ['Gender' , 'Allergy\tWheezing',\t'Coughing',\t'Fatigue',\t'Chest_Pain',\t'Shortness_of_Breath',\t'Chronic_Disease',\t'Family_History_Lung_Disease',\t'Lung_Disease']\n",
    "discrete_count = ['Age' ,'Total_Smoking_Exposure' , 'Exposure_to_Dust_Years']"
   ]
  },
  {
   "cell_type": "markdown",
   "id": "e0bccb6d-2179-4957-b702-62d1aa1f7d13",
   "metadata": {},
   "source": [
    " #### 2b) Exploratory Data Analysis\n",
    "\n",
    "*For continuous data we do describe , histplot , corr using heatmap , pairplot*"
   ]
  },
  {
   "cell_type": "markdown",
   "id": "2d84128f-98b1-47fe-8410-6428bec1a1c4",
   "metadata": {},
   "source": [
    "\n",
    "Combining them gives a more holistic metric like:\n",
    "\n",
    "Total Cigarette Exposure = Smoking_Years × Cigarettes_Per_Day\n",
    "\n",
    "This derived feature reflects total lifetime exposure, which may be more meaningful.\n",
    "\n"
   ]
  },
  {
   "cell_type": "code",
   "execution_count": null,
   "id": "8d2da434-e11b-4d37-a614-e4cb13e40fe4",
   "metadata": {},
   "outputs": [],
   "source": []
  },
  {
   "cell_type": "markdown",
   "id": "22ecc7b4-484f-4196-94e7-cc4ad22eb0ad",
   "metadata": {},
   "source": [
    "**DESCRIBE** \n",
    "\n",
    "Is meant to provide descriptive statistics like mean, standard deviation, min, max, and percentiles for the specified columns."
   ]
  },
  {
   "cell_type": "code",
   "execution_count": 18,
   "id": "60cc8ebc-2af8-4a50-a855-52e10fb01815",
   "metadata": {},
   "outputs": [
    {
     "data": {
      "text/html": [
       "<div>\n",
       "<style scoped>\n",
       "    .dataframe tbody tr th:only-of-type {\n",
       "        vertical-align: middle;\n",
       "    }\n",
       "\n",
       "    .dataframe tbody tr th {\n",
       "        vertical-align: top;\n",
       "    }\n",
       "\n",
       "    .dataframe thead th {\n",
       "        text-align: right;\n",
       "    }\n",
       "</style>\n",
       "<table border=\"1\" class=\"dataframe\">\n",
       "  <thead>\n",
       "    <tr style=\"text-align: right;\">\n",
       "      <th></th>\n",
       "      <th>BMI</th>\n",
       "      <th>Alcohol_Units_Per_Week</th>\n",
       "      <th>Air_Pollution_Index</th>\n",
       "      <th>Occupational_Hazard_Score</th>\n",
       "      <th>Physical_Activity_Level</th>\n",
       "      <th>FEV1</th>\n",
       "    </tr>\n",
       "  </thead>\n",
       "  <tbody>\n",
       "    <tr>\n",
       "      <th>count</th>\n",
       "      <td>1000.000000</td>\n",
       "      <td>1000.000000</td>\n",
       "      <td>1000.000000</td>\n",
       "      <td>1000.000000</td>\n",
       "      <td>1000.00000</td>\n",
       "      <td>1000.000000</td>\n",
       "    </tr>\n",
       "    <tr>\n",
       "      <th>mean</th>\n",
       "      <td>27.380480</td>\n",
       "      <td>11.911200</td>\n",
       "      <td>176.334000</td>\n",
       "      <td>5.556760</td>\n",
       "      <td>2.97590</td>\n",
       "      <td>2.140660</td>\n",
       "    </tr>\n",
       "    <tr>\n",
       "      <th>std</th>\n",
       "      <td>5.670636</td>\n",
       "      <td>5.120269</td>\n",
       "      <td>79.344768</td>\n",
       "      <td>3.010224</td>\n",
       "      <td>1.02875</td>\n",
       "      <td>1.127968</td>\n",
       "    </tr>\n",
       "    <tr>\n",
       "      <th>min</th>\n",
       "      <td>15.000000</td>\n",
       "      <td>-2.600000</td>\n",
       "      <td>22.000000</td>\n",
       "      <td>0.000000</td>\n",
       "      <td>-0.30000</td>\n",
       "      <td>0.500000</td>\n",
       "    </tr>\n",
       "    <tr>\n",
       "      <th>25%</th>\n",
       "      <td>23.490000</td>\n",
       "      <td>8.300000</td>\n",
       "      <td>109.550000</td>\n",
       "      <td>3.195000</td>\n",
       "      <td>2.30000</td>\n",
       "      <td>1.217500</td>\n",
       "    </tr>\n",
       "    <tr>\n",
       "      <th>50%</th>\n",
       "      <td>27.410000</td>\n",
       "      <td>12.000000</td>\n",
       "      <td>176.750000</td>\n",
       "      <td>5.625000</td>\n",
       "      <td>3.00000</td>\n",
       "      <td>2.125000</td>\n",
       "    </tr>\n",
       "    <tr>\n",
       "      <th>75%</th>\n",
       "      <td>31.185000</td>\n",
       "      <td>15.300000</td>\n",
       "      <td>243.225000</td>\n",
       "      <td>8.040000</td>\n",
       "      <td>3.70000</td>\n",
       "      <td>2.890000</td>\n",
       "    </tr>\n",
       "    <tr>\n",
       "      <th>max</th>\n",
       "      <td>40.000000</td>\n",
       "      <td>28.200000</td>\n",
       "      <td>300.000000</td>\n",
       "      <td>10.000000</td>\n",
       "      <td>6.00000</td>\n",
       "      <td>4.490000</td>\n",
       "    </tr>\n",
       "  </tbody>\n",
       "</table>\n",
       "</div>"
      ],
      "text/plain": [
       "               BMI  Alcohol_Units_Per_Week  Air_Pollution_Index  \\\n",
       "count  1000.000000             1000.000000          1000.000000   \n",
       "mean     27.380480               11.911200           176.334000   \n",
       "std       5.670636                5.120269            79.344768   \n",
       "min      15.000000               -2.600000            22.000000   \n",
       "25%      23.490000                8.300000           109.550000   \n",
       "50%      27.410000               12.000000           176.750000   \n",
       "75%      31.185000               15.300000           243.225000   \n",
       "max      40.000000               28.200000           300.000000   \n",
       "\n",
       "       Occupational_Hazard_Score  Physical_Activity_Level         FEV1  \n",
       "count                1000.000000               1000.00000  1000.000000  \n",
       "mean                    5.556760                  2.97590     2.140660  \n",
       "std                     3.010224                  1.02875     1.127968  \n",
       "min                     0.000000                 -0.30000     0.500000  \n",
       "25%                     3.195000                  2.30000     1.217500  \n",
       "50%                     5.625000                  3.00000     2.125000  \n",
       "75%                     8.040000                  3.70000     2.890000  \n",
       "max                    10.000000                  6.00000     4.490000  "
      ]
     },
     "execution_count": 18,
     "metadata": {},
     "output_type": "execute_result"
    }
   ],
   "source": [
    " df[continues].describe()"
   ]
  },
  {
   "cell_type": "code",
   "execution_count": 19,
   "id": "2db80e06-fe0a-4589-bf8d-6ae24207191b",
   "metadata": {},
   "outputs": [
    {
     "data": {
      "text/html": [
       "<div>\n",
       "<style scoped>\n",
       "    .dataframe tbody tr th:only-of-type {\n",
       "        vertical-align: middle;\n",
       "    }\n",
       "\n",
       "    .dataframe tbody tr th {\n",
       "        vertical-align: top;\n",
       "    }\n",
       "\n",
       "    .dataframe thead th {\n",
       "        text-align: right;\n",
       "    }\n",
       "</style>\n",
       "<table border=\"1\" class=\"dataframe\">\n",
       "  <thead>\n",
       "    <tr style=\"text-align: right;\">\n",
       "      <th></th>\n",
       "      <th>BMI</th>\n",
       "      <th>Alcohol_Units_Per_Week</th>\n",
       "      <th>Air_Pollution_Index</th>\n",
       "      <th>Occupational_Hazard_Score</th>\n",
       "      <th>Physical_Activity_Level</th>\n",
       "      <th>FEV1</th>\n",
       "    </tr>\n",
       "  </thead>\n",
       "  <tbody>\n",
       "    <tr>\n",
       "      <th>BMI</th>\n",
       "      <td>1.000000</td>\n",
       "      <td>-0.027449</td>\n",
       "      <td>0.028829</td>\n",
       "      <td>0.041426</td>\n",
       "      <td>0.020000</td>\n",
       "      <td>-0.096677</td>\n",
       "    </tr>\n",
       "    <tr>\n",
       "      <th>Alcohol_Units_Per_Week</th>\n",
       "      <td>-0.027449</td>\n",
       "      <td>1.000000</td>\n",
       "      <td>0.013477</td>\n",
       "      <td>0.059881</td>\n",
       "      <td>-0.025200</td>\n",
       "      <td>0.003632</td>\n",
       "    </tr>\n",
       "    <tr>\n",
       "      <th>Air_Pollution_Index</th>\n",
       "      <td>0.028829</td>\n",
       "      <td>0.013477</td>\n",
       "      <td>1.000000</td>\n",
       "      <td>0.137697</td>\n",
       "      <td>0.006533</td>\n",
       "      <td>-0.186806</td>\n",
       "    </tr>\n",
       "    <tr>\n",
       "      <th>Occupational_Hazard_Score</th>\n",
       "      <td>0.041426</td>\n",
       "      <td>0.059881</td>\n",
       "      <td>0.137697</td>\n",
       "      <td>1.000000</td>\n",
       "      <td>-0.040164</td>\n",
       "      <td>-0.283805</td>\n",
       "    </tr>\n",
       "    <tr>\n",
       "      <th>Physical_Activity_Level</th>\n",
       "      <td>0.020000</td>\n",
       "      <td>-0.025200</td>\n",
       "      <td>0.006533</td>\n",
       "      <td>-0.040164</td>\n",
       "      <td>1.000000</td>\n",
       "      <td>-0.043266</td>\n",
       "    </tr>\n",
       "    <tr>\n",
       "      <th>FEV1</th>\n",
       "      <td>-0.096677</td>\n",
       "      <td>0.003632</td>\n",
       "      <td>-0.186806</td>\n",
       "      <td>-0.283805</td>\n",
       "      <td>-0.043266</td>\n",
       "      <td>1.000000</td>\n",
       "    </tr>\n",
       "  </tbody>\n",
       "</table>\n",
       "</div>"
      ],
      "text/plain": [
       "                                BMI  Alcohol_Units_Per_Week  \\\n",
       "BMI                        1.000000               -0.027449   \n",
       "Alcohol_Units_Per_Week    -0.027449                1.000000   \n",
       "Air_Pollution_Index        0.028829                0.013477   \n",
       "Occupational_Hazard_Score  0.041426                0.059881   \n",
       "Physical_Activity_Level    0.020000               -0.025200   \n",
       "FEV1                      -0.096677                0.003632   \n",
       "\n",
       "                           Air_Pollution_Index  Occupational_Hazard_Score  \\\n",
       "BMI                                   0.028829                   0.041426   \n",
       "Alcohol_Units_Per_Week                0.013477                   0.059881   \n",
       "Air_Pollution_Index                   1.000000                   0.137697   \n",
       "Occupational_Hazard_Score             0.137697                   1.000000   \n",
       "Physical_Activity_Level               0.006533                  -0.040164   \n",
       "FEV1                                 -0.186806                  -0.283805   \n",
       "\n",
       "                           Physical_Activity_Level      FEV1  \n",
       "BMI                                       0.020000 -0.096677  \n",
       "Alcohol_Units_Per_Week                   -0.025200  0.003632  \n",
       "Air_Pollution_Index                       0.006533 -0.186806  \n",
       "Occupational_Hazard_Score                -0.040164 -0.283805  \n",
       "Physical_Activity_Level                   1.000000 -0.043266  \n",
       "FEV1                                     -0.043266  1.000000  "
      ]
     },
     "execution_count": 19,
     "metadata": {},
     "output_type": "execute_result"
    }
   ],
   "source": [
    "df[continues].corr()"
   ]
  },
  {
   "cell_type": "code",
   "execution_count": 20,
   "id": "9ebeea14-d354-4bea-b299-857c7f8e11ff",
   "metadata": {},
   "outputs": [
    {
     "data": {
      "text/plain": [
       "count    1000.000000\n",
       "mean      640.890000\n",
       "std       501.890396\n",
       "min         0.000000\n",
       "25%       221.000000\n",
       "50%       528.000000\n",
       "75%       990.000000\n",
       "max      1960.000000\n",
       "Name: Total_Smoking_Exposure, dtype: float64"
      ]
     },
     "execution_count": 20,
     "metadata": {},
     "output_type": "execute_result"
    }
   ],
   "source": [
    "df['Total_Smoking_Exposure'] = df['Smoking_Years'] * df['Cigarettes_Per_Day']\n",
    "df['Total_Smoking_Exposure'].describe()"
   ]
  },
  {
   "cell_type": "code",
   "execution_count": 21,
   "id": "85056707-b9d0-4d10-93f8-4bbf37996ee0",
   "metadata": {},
   "outputs": [
    {
     "data": {
      "text/html": [
       "<div>\n",
       "<style scoped>\n",
       "    .dataframe tbody tr th:only-of-type {\n",
       "        vertical-align: middle;\n",
       "    }\n",
       "\n",
       "    .dataframe tbody tr th {\n",
       "        vertical-align: top;\n",
       "    }\n",
       "\n",
       "    .dataframe thead th {\n",
       "        text-align: right;\n",
       "    }\n",
       "</style>\n",
       "<table border=\"1\" class=\"dataframe\">\n",
       "  <thead>\n",
       "    <tr style=\"text-align: right;\">\n",
       "      <th></th>\n",
       "      <th>Age</th>\n",
       "      <th>Total_Smoking_Exposure</th>\n",
       "      <th>Exposure_to_Dust_Years</th>\n",
       "    </tr>\n",
       "  </thead>\n",
       "  <tbody>\n",
       "    <tr>\n",
       "      <th>Age</th>\n",
       "      <td>1.000000</td>\n",
       "      <td>0.005701</td>\n",
       "      <td>0.027462</td>\n",
       "    </tr>\n",
       "    <tr>\n",
       "      <th>Total_Smoking_Exposure</th>\n",
       "      <td>0.005701</td>\n",
       "      <td>1.000000</td>\n",
       "      <td>0.105784</td>\n",
       "    </tr>\n",
       "    <tr>\n",
       "      <th>Exposure_to_Dust_Years</th>\n",
       "      <td>0.027462</td>\n",
       "      <td>0.105784</td>\n",
       "      <td>1.000000</td>\n",
       "    </tr>\n",
       "  </tbody>\n",
       "</table>\n",
       "</div>"
      ],
      "text/plain": [
       "                             Age  Total_Smoking_Exposure  \\\n",
       "Age                     1.000000                0.005701   \n",
       "Total_Smoking_Exposure  0.005701                1.000000   \n",
       "Exposure_to_Dust_Years  0.027462                0.105784   \n",
       "\n",
       "                        Exposure_to_Dust_Years  \n",
       "Age                                   0.027462  \n",
       "Total_Smoking_Exposure                0.105784  \n",
       "Exposure_to_Dust_Years                1.000000  "
      ]
     },
     "execution_count": 21,
     "metadata": {},
     "output_type": "execute_result"
    }
   ],
   "source": [
    "df[discrete_count].corr()"
   ]
  },
  {
   "cell_type": "code",
   "execution_count": 22,
   "id": "89af3de2-6e0b-4b29-ad30-47c1fe6ce184",
   "metadata": {},
   "outputs": [],
   "source": [
    "df.drop(['Smoking_Years', 'Cigarettes_Per_Day'], axis=1, inplace=True)\n"
   ]
  },
  {
   "cell_type": "code",
   "execution_count": 23,
   "id": "583166bc-f4b8-4dfd-bad5-a19047ce98c5",
   "metadata": {},
   "outputs": [
    {
     "data": {
      "text/plain": [
       "<Axes: >"
      ]
     },
     "execution_count": 23,
     "metadata": {},
     "output_type": "execute_result"
    },
    {
     "data": {
      "image/png": "[encoded data removed]",
      "text/plain": [
       "<Figure size 640x480 with 2 Axes>"
      ]
     },
     "metadata": {},
     "output_type": "display_data"
    }
   ],
   "source": [
    "sns.heatmap(df[discrete_count].corr(), annot=True)"
   ]
  },
  {
   "cell_type": "markdown",
   "id": "b057da06-f308-458b-a98b-789cd094d28d",
   "metadata": {},
   "source": [
    "Smoking duration and smoking intensity are often strongly **correlated** and together contribute to health risks. By combining them, we capture a comprehensive smoking exposure metric which is more interpretable and reduces model complexity.\n",
    "After combining the two features, I removed them to prevent multicollinearity.\n"
   ]
  },
  {
   "cell_type": "markdown",
   "id": "104fb4a3-a3c5-4e10-a21d-6e900a346f55",
   "metadata": {},
   "source": [
    "**SKEWNESS    :**\n",
    "\n",
    "Check the skewness to see how much a variable deviates from a normal (bell-curve) distribution. This is important because many machine learning algorithms assume or perform better when features are normally distributed."
   ]
  },
  {
   "cell_type": "code",
   "execution_count": 24,
   "id": "043746b3-f242-4fa3-ad02-0a241fd2c112",
   "metadata": {},
   "outputs": [
    {
     "name": "stdout",
     "output_type": "stream",
     "text": [
      "skewness for continues variables: BMI                         -0.038682\n",
      "Alcohol_Units_Per_Week      -0.004238\n",
      "Air_Pollution_Index         -0.044858\n",
      "Occupational_Hazard_Score   -0.126833\n",
      "Physical_Activity_Level     -0.025823\n",
      "FEV1                         0.211798\n",
      "dtype: float64\n",
      "skewness for count variables: Age                      -0.042375\n",
      "Total_Smoking_Exposure    0.695811\n",
      "Exposure_to_Dust_Years   -0.079714\n",
      "dtype: float64\n"
     ]
    }
   ],
   "source": [
    "print('skewness for continues variables:' , df[continues].skew())\n",
    "\n",
    "print('skewness for count variables:' , df[discrete_count].skew())"
   ]
  },
  {
   "cell_type": "markdown",
   "id": "1d42ae45-9b61-4f71-9521-bd8b3295b739",
   "metadata": {},
   "source": [
    " **All continuous variables are well within the range of symmetry. No transformation needed**."
   ]
  },
  {
   "cell_type": "markdown",
   "id": "32cf0de5-f00f-4e33-a2f6-f0719238670b",
   "metadata": {},
   "source": [
    "**Data Understanding Observations**\n",
    "\n",
    "**Dataset Size**: Contains 1000 records and 25 features, which is sufficient for analysis and modeling.\n",
    "\n",
    "**No Missing Values**: All features have complete data with no missing values, so no data imputation is necessary.\n",
    "\n",
    "**No Duplicate Records**: The dataset does not contain any duplicate rows, ensuring data quality and integrity.\n",
    "\n",
    "**Feature Types**:\n",
    "\n",
    "**Continuous Features**: Age, BMI, Smoking_Years, Cigarettes_Per_Day, Alcohol_Units_Per_Week, Air_Pollution_Index, Occupational_Hazard_Score, Exposure_to_Dust_Years, Physical_Activity_Level, Blood_Pressure_Systolic, Blood_Pressure_Diastolic, Cholesterol_Level, Blood_Sugar_Level, FEV1\n",
    "Categorical Features: Patient_ID (identifier), Gender, Allergy, Wheezing, Coughing, Fatigue, Chest_Pain, Shortness_of_Breath, Chronic_Disease, Family_History_Lung_Disease, Lung_Disease\n",
    "**Categorical Features**: Most categorical features are binary with 2 unique categories (Gender, Allergy, Wheezing, Coughing, Fatigue, Chest_Pain, Shortness_of_Breath, Chronic_Disease, Family_History_Lung_Disease, and Lung_Disease).\n",
    "\n",
    "**Target Variable:** Lung_Disease The target variable Lung_Disease is binary, representing the presence (Yes) or absence (No) of lung disease. The distribution of the target variable is as follows:\n",
    "\n",
    "Yes: 574\n",
    "No: 426\n",
    "This indicates a slightly imbalanced dataset, with more instances of Yes than No. This might need to be considered during model evaluation.\n",
    "\n"
   ]
  },
  {
   "cell_type": "code",
   "execution_count": 25,
   "id": "5fda13ab-b2b7-43e7-94b1-b2662afd06b2",
   "metadata": {},
   "outputs": [
    {
     "data": {
      "image/png": "[encoded data removed]",
      "text/plain": [
       "<Figure size 600x400 with 3 Axes>"
      ]
     },
     "metadata": {},
     "output_type": "display_data"
    }
   ],
   "source": [
    "plt.figure(figsize=(6,4))\n",
    "plt.subplot(1,3,1)\n",
    "sns.histplot(df['Alcohol_Units_Per_Week'], bins=20, stat=\"count\")#kde=True)\n",
    "plt.subplot(1,3,2)\n",
    "sns.histplot(df['Air_Pollution_Index'])\n",
    "plt.subplot(1,3,3)\n",
    "sns.histplot(df['Occupational_Hazard_Score'])\n",
    "plt.show()"
   ]
  },
  {
   "cell_type": "code",
   "execution_count": 26,
   "id": "f51f53bd-3082-4470-97d0-760a86fa72a2",
   "metadata": {},
   "outputs": [
    {
     "data": {
      "image/png": "[encoded data removed]",
      "text/plain": [
       "<Figure size 640x480 with 3 Axes>"
      ]
     },
     "metadata": {},
     "output_type": "display_data"
    }
   ],
   "source": [
    "plt.subplot(1,3,1)\n",
    "sns.histplot(df['Physical_Activity_Level'])\n",
    "plt.subplot(1,3,2)\n",
    "sns.histplot(df['FEV1'])\n",
    "plt.subplot(1,3,3)\n",
    "sns.histplot(df['BMI'])\n",
    "plt.show()"
   ]
  },
  {
   "cell_type": "markdown",
   "id": "3fa1a348-2397-4156-9028-546d0f7dabbf",
   "metadata": {},
   "source": [
    "let us Visualize the count_variables"
   ]
  },
  {
   "cell_type": "code",
   "execution_count": 27,
   "id": "a4630fc3-9719-45d8-8407-b439d2042432",
   "metadata": {},
   "outputs": [
    {
     "data": {
      "image/png": "[encoded data removed]",
      "text/plain": [
       "<Figure size 750x750 with 12 Axes>"
      ]
     },
     "metadata": {},
     "output_type": "display_data"
    },
    {
     "data": {
      "text/plain": [
       "<Figure size 300x300 with 0 Axes>"
      ]
     },
     "metadata": {},
     "output_type": "display_data"
    }
   ],
   "source": [
    "sns.pairplot(df[discrete_count])\n",
    "plt.figure(figsize=(3,3))\n",
    "plt.show()"
   ]
  },
  {
   "cell_type": "markdown",
   "id": "053695c5-faa2-4480-8722-c7a4032cf69a",
   "metadata": {},
   "source": [
    "Let us address the output variable . it shows that most of the values were positive."
   ]
  },
  {
   "cell_type": "code",
   "execution_count": 28,
   "id": "1cb32f73-e5c5-49b3-a209-6ba6bea1a4db",
   "metadata": {},
   "outputs": [
    {
     "data": {
      "image/png": "[encoded data removed]",
      "text/plain": [
       "<Figure size 300x300 with 1 Axes>"
      ]
     },
     "metadata": {},
     "output_type": "display_data"
    }
   ],
   "source": [
    "plt.figure(figsize=(3,3))\n",
    "sns.countplot(x='Lung_Disease'  , data=df)\n",
    "plt.show()"
   ]
  },
  {
   "cell_type": "markdown",
   "id": "338199df-5680-4600-9e9a-a82040374934",
   "metadata": {},
   "source": [
    "Checking for outliers in the data"
   ]
  },
  {
   "cell_type": "code",
   "execution_count": 29,
   "id": "d822f57e-2848-4a7e-be00-a681a3b5a8f0",
   "metadata": {},
   "outputs": [
    {
     "data": {
      "text/html": [
       "<div>\n",
       "<style scoped>\n",
       "    .dataframe tbody tr th:only-of-type {\n",
       "        vertical-align: middle;\n",
       "    }\n",
       "\n",
       "    .dataframe tbody tr th {\n",
       "        vertical-align: top;\n",
       "    }\n",
       "\n",
       "    .dataframe thead th {\n",
       "        text-align: right;\n",
       "    }\n",
       "</style>\n",
       "<table border=\"1\" class=\"dataframe\">\n",
       "  <thead>\n",
       "    <tr style=\"text-align: right;\">\n",
       "      <th></th>\n",
       "      <th>Age</th>\n",
       "      <th>Total_Smoking_Exposure</th>\n",
       "      <th>Exposure_to_Dust_Years</th>\n",
       "    </tr>\n",
       "  </thead>\n",
       "  <tbody>\n",
       "    <tr>\n",
       "      <th>count</th>\n",
       "      <td>1000.000000</td>\n",
       "      <td>1000.000000</td>\n",
       "      <td>1000.000000</td>\n",
       "    </tr>\n",
       "    <tr>\n",
       "      <th>mean</th>\n",
       "      <td>57.443000</td>\n",
       "      <td>640.890000</td>\n",
       "      <td>18.710000</td>\n",
       "    </tr>\n",
       "    <tr>\n",
       "      <th>std</th>\n",
       "      <td>15.909993</td>\n",
       "      <td>501.890396</td>\n",
       "      <td>10.489515</td>\n",
       "    </tr>\n",
       "    <tr>\n",
       "      <th>min</th>\n",
       "      <td>30.000000</td>\n",
       "      <td>0.000000</td>\n",
       "      <td>0.000000</td>\n",
       "    </tr>\n",
       "    <tr>\n",
       "      <th>25%</th>\n",
       "      <td>44.000000</td>\n",
       "      <td>221.000000</td>\n",
       "      <td>10.000000</td>\n",
       "    </tr>\n",
       "    <tr>\n",
       "      <th>50%</th>\n",
       "      <td>58.000000</td>\n",
       "      <td>528.000000</td>\n",
       "      <td>19.000000</td>\n",
       "    </tr>\n",
       "    <tr>\n",
       "      <th>75%</th>\n",
       "      <td>71.000000</td>\n",
       "      <td>990.000000</td>\n",
       "      <td>28.000000</td>\n",
       "    </tr>\n",
       "    <tr>\n",
       "      <th>max</th>\n",
       "      <td>84.000000</td>\n",
       "      <td>1960.000000</td>\n",
       "      <td>38.000000</td>\n",
       "    </tr>\n",
       "  </tbody>\n",
       "</table>\n",
       "</div>"
      ],
      "text/plain": [
       "               Age  Total_Smoking_Exposure  Exposure_to_Dust_Years\n",
       "count  1000.000000             1000.000000             1000.000000\n",
       "mean     57.443000              640.890000               18.710000\n",
       "std      15.909993              501.890396               10.489515\n",
       "min      30.000000                0.000000                0.000000\n",
       "25%      44.000000              221.000000               10.000000\n",
       "50%      58.000000              528.000000               19.000000\n",
       "75%      71.000000              990.000000               28.000000\n",
       "max      84.000000             1960.000000               38.000000"
      ]
     },
     "execution_count": 29,
     "metadata": {},
     "output_type": "execute_result"
    }
   ],
   "source": [
    "df[discrete_count].describe()"
   ]
  },
  {
   "cell_type": "markdown",
   "id": "89aed873-de42-4aa1-97ac-b173eb6cef64",
   "metadata": {},
   "source": [
    "from the above information we seen that total_smoing_exposure feature has outlier let us find out"
   ]
  },
  {
   "cell_type": "code",
   "execution_count": 30,
   "id": "b2268323-fe8e-4e74-b4c4-ed60b9295dfd",
   "metadata": {},
   "outputs": [
    {
     "data": {
      "image/png": "[encoded data removed]",
      "text/plain": [
       "<Figure size 500x500 with 1 Axes>"
      ]
     },
     "metadata": {},
     "output_type": "display_data"
    }
   ],
   "source": [
    "plt.figure(figsize=(5,5))\n",
    "sns.boxplot(df['Total_Smoking_Exposure'])\n",
    "plt.title(\"Boxplot of Total Smoking Exposure\")\n",
    "plt.show()"
   ]
  },
  {
   "cell_type": "markdown",
   "id": "e6739053-408c-4844-aa01-d7fdfe939c94",
   "metadata": {},
   "source": [
    "we clearly see that there are some outliers in the data , lets try to handle it"
   ]
  },
  {
   "cell_type": "markdown",
   "id": "bf5fc102-9a21-4da6-bff6-19f6544c17da",
   "metadata": {},
   "source": [
    "# Step -3: Data Preprocessing"
   ]
  },
  {
   "cell_type": "markdown",
   "id": "0a466d4a-2a80-4ee1-be57-313bb48ef2fc",
   "metadata": {},
   "source": [
    "This step includes multiple stages\n",
    "\n",
    "**A) Data cleaning**\n",
    "1) finding wrong data and handling wrong data\n",
    "2) finding wrong data type and handling wrong data type\n",
    "3) fiding missing values and filling missing vlaues\n",
    "4) finding duplicates and removing them\n",
    "5) handling outliers\n",
    "   \n",
    "**B)Data wrangling**\n",
    "1) transformation\n",
    "2) scaling\n",
    "3) encoding"
   ]
  },
  {
   "cell_type": "markdown",
   "id": "7ca29381-ec71-4b63-99fd-739647fd1d10",
   "metadata": {},
   "source": [
    "##### 3a) Data Cleaning"
   ]
  },
  {
   "cell_type": "code",
   "execution_count": 31,
   "id": "5146fcab-bfb0-44d6-860b-361ffef74a7e",
   "metadata": {},
   "outputs": [
    {
     "data": {
      "text/plain": [
       "Age                            0\n",
       "Gender                         0\n",
       "BMI                            0\n",
       "Alcohol_Units_Per_Week         0\n",
       "Air_Pollution_Index            0\n",
       "Occupational_Hazard_Score      0\n",
       "Exposure_to_Dust_Years         0\n",
       "Physical_Activity_Level        0\n",
       "FEV1                           0\n",
       "Allergy                        0\n",
       "Wheezing                       0\n",
       "Coughing                       0\n",
       "Fatigue                        0\n",
       "Chest_Pain                     0\n",
       "Shortness_of_Breath            0\n",
       "Chronic_Disease                0\n",
       "Family_History_Lung_Disease    0\n",
       "Lung_Disease                   0\n",
       "Total_Smoking_Exposure         0\n",
       "dtype: int64"
      ]
     },
     "execution_count": 31,
     "metadata": {},
     "output_type": "execute_result"
    }
   ],
   "source": [
    "df.isnull().sum()"
   ]
  },
  {
   "cell_type": "code",
   "execution_count": 32,
   "id": "f23c6d66-28b1-410a-b439-84f5628dcbca",
   "metadata": {},
   "outputs": [
    {
     "name": "stdout",
     "output_type": "stream",
     "text": [
      "<class 'pandas.core.frame.DataFrame'>\n",
      "RangeIndex: 1000 entries, 0 to 999\n",
      "Data columns (total 19 columns):\n",
      " #   Column                       Non-Null Count  Dtype  \n",
      "---  ------                       --------------  -----  \n",
      " 0   Age                          1000 non-null   int64  \n",
      " 1   Gender                       1000 non-null   object \n",
      " 2   BMI                          1000 non-null   float64\n",
      " 3   Alcohol_Units_Per_Week       1000 non-null   float64\n",
      " 4   Air_Pollution_Index          1000 non-null   float64\n",
      " 5   Occupational_Hazard_Score    1000 non-null   float64\n",
      " 6   Exposure_to_Dust_Years       1000 non-null   int64  \n",
      " 7   Physical_Activity_Level      1000 non-null   float64\n",
      " 8   FEV1                         1000 non-null   float64\n",
      " 9   Allergy                      1000 non-null   object \n",
      " 10  Wheezing                     1000 non-null   object \n",
      " 11  Coughing                     1000 non-null   object \n",
      " 12  Fatigue                      1000 non-null   object \n",
      " 13  Chest_Pain                   1000 non-null   object \n",
      " 14  Shortness_of_Breath          1000 non-null   object \n",
      " 15  Chronic_Disease              1000 non-null   object \n",
      " 16  Family_History_Lung_Disease  1000 non-null   object \n",
      " 17  Lung_Disease                 1000 non-null   object \n",
      " 18  Total_Smoking_Exposure       1000 non-null   int64  \n",
      "dtypes: float64(6), int64(3), object(10)\n",
      "memory usage: 148.6+ KB\n"
     ]
    }
   ],
   "source": [
    "df.info()"
   ]
  },
  {
   "cell_type": "markdown",
   "id": "35ec1f1e-57df-4e17-af36-85218cdad1c4",
   "metadata": {},
   "source": [
    "There are no null values in above given datset\n",
    "\n",
    "And all columns are structured with correct data type"
   ]
  },
  {
   "cell_type": "code",
   "execution_count": 33,
   "id": "f4ae4eaf-abf2-49e5-804a-98284d3b7f14",
   "metadata": {},
   "outputs": [
    {
     "data": {
      "text/plain": [
       "0"
      ]
     },
     "execution_count": 33,
     "metadata": {},
     "output_type": "execute_result"
    }
   ],
   "source": [
    "df.duplicated().sum()"
   ]
  },
  {
   "cell_type": "markdown",
   "id": "192fd0cf-d735-4965-b932-54886a197f4c",
   "metadata": {},
   "source": [
    "There are zero duplicates in the data set"
   ]
  },
  {
   "cell_type": "markdown",
   "id": "d9cb6f34-9391-425e-aa2d-0385713d8c44",
   "metadata": {},
   "source": [
    "**We found outliers in our data. Let us handle outliers**"
   ]
  },
  {
   "cell_type": "code",
   "execution_count": 34,
   "id": "6932f346-0f1e-4a9d-b363-8f5af4de4751",
   "metadata": {},
   "outputs": [
    {
     "data": {
      "text/plain": [
       "count    1000.000000\n",
       "mean      640.890000\n",
       "std       501.890396\n",
       "min         0.000000\n",
       "25%       221.000000\n",
       "50%       528.000000\n",
       "75%       990.000000\n",
       "max      1960.000000\n",
       "Name: Total_Smoking_Exposure, dtype: float64"
      ]
     },
     "execution_count": 34,
     "metadata": {},
     "output_type": "execute_result"
    }
   ],
   "source": [
    "df['Total_Smoking_Exposure'].describe()"
   ]
  },
  {
   "cell_type": "markdown",
   "id": "ce23ca14-3964-49eb-8dbe-175360d3b9a7",
   "metadata": {},
   "source": [
    "#####  3b)Data Wrangling\n",
    "\n",
    "Checking For Skewness\n",
    "\n",
    "#### <U>Checking For Skewness</U>\n",
    "      Skewness shows whether the data is symmetrical, left-skewed, or right-skewed.\n",
    "       Conditions for Skewness\n",
    "\n",
    "| Skewness Value   | Interpretation                     |\n",
    "|------------------|-------------------------------------|\n",
    "| 0                | Perfectly symmetrical               |\n",
    "| > 0              | Right-skewed (tail on the right)    |\n",
    "| < 0              | Left-skewed (tail on the left)      |\n",
    "| -0.5 to +0.5     | Fairly symmetrical                  |\n",
    "| -1 to -0.5       | Moderate left skew                  |\n",
    "| +0.5 to +1       | Moderate right skew                 |\n",
    "| < -1 or > +1     | Highly skewed (needs transformation) |\n"
   ]
  },
  {
   "cell_type": "code",
   "execution_count": 35,
   "id": "cd342e8b-aaec-4b7f-9a13-e3a986dd4422",
   "metadata": {},
   "outputs": [],
   "source": [
    "#df['Total_Smoking_Exposure'] = np.log1p(df['Total_Smoking_Exposure'])"
   ]
  },
  {
   "cell_type": "code",
   "execution_count": 36,
   "id": "8b603c7d-5c2d-4b87-ab66-a5e52415abbe",
   "metadata": {},
   "outputs": [
    {
     "data": {
      "text/plain": [
       "count    1000.000000\n",
       "mean      640.890000\n",
       "std       501.890396\n",
       "min         0.000000\n",
       "25%       221.000000\n",
       "50%       528.000000\n",
       "75%       990.000000\n",
       "max      1960.000000\n",
       "Name: Total_Smoking_Exposure, dtype: float64"
      ]
     },
     "execution_count": 36,
     "metadata": {},
     "output_type": "execute_result"
    }
   ],
   "source": [
    "df['Total_Smoking_Exposure'].describe()"
   ]
  },
  {
   "cell_type": "code",
   "execution_count": 37,
   "id": "6ad6fede-0c5b-42b0-ab05-a0e77edd3772",
   "metadata": {},
   "outputs": [
    {
     "name": "stdout",
     "output_type": "stream",
     "text": [
      "BMI                         -0.038682\n",
      "Alcohol_Units_Per_Week      -0.004238\n",
      "Air_Pollution_Index         -0.044858\n",
      "Occupational_Hazard_Score   -0.126833\n",
      "Physical_Activity_Level     -0.025823\n",
      "FEV1                         0.211798\n",
      "dtype: float64\n",
      "Age                      -0.042375\n",
      "Total_Smoking_Exposure    0.695811\n",
      "Exposure_to_Dust_Years   -0.079714\n",
      "dtype: float64\n"
     ]
    }
   ],
   "source": [
    "print(df[continues].skew())\n",
    "print(df[discrete_count].skew())"
   ]
  },
  {
   "cell_type": "markdown",
   "id": "69f94fb8-c2ea-40a5-80d7-259b8f8dee5a",
   "metadata": {},
   "source": [
    "After handling with outliers we noticed skewness in the data\n",
    "\n",
    "skewness < -1 →It is highly left-skewed\n",
    "\n",
    "skewness can be handled by....\n",
    "\n",
    "\n",
    "##### Log reduced outliers but still skewed then I tried Yeo-Johnson\n"
   ]
  },
  {
   "cell_type": "markdown",
   "id": "f336f34f-7572-4999-ac3f-55b4eaa964c8",
   "metadata": {},
   "source": [
    "from sklearn.preprocessing import PowerTransformer\n",
    "\n",
    "pt = PowerTransformer(method='yeo-johnson')\n",
    "df['Total_Smoking_Exposure'] = pt.fit_transform(df[['Total_Smoking_Exposure']])\n"
   ]
  },
  {
   "cell_type": "code",
   "execution_count": 38,
   "id": "48341c76-1926-44e1-b55c-071a6434529b",
   "metadata": {},
   "outputs": [
    {
     "data": {
      "text/plain": [
       "Age                      -0.042375\n",
       "Total_Smoking_Exposure    0.695811\n",
       "Exposure_to_Dust_Years   -0.079714\n",
       "dtype: float64"
      ]
     },
     "execution_count": 38,
     "metadata": {},
     "output_type": "execute_result"
    }
   ],
   "source": [
    "df[discrete_count].skew()"
   ]
  },
  {
   "cell_type": "markdown",
   "id": "293feed2-64bc-4a01-9600-8ee5c46e96bc",
   "metadata": {},
   "source": [
    "All of the outliers and skewness is now removed.\n",
    "\n"
   ]
  },
  {
   "cell_type": "code",
   "execution_count": 39,
   "id": "d8de4abd-4a7d-4454-8e09-4603f7497812",
   "metadata": {},
   "outputs": [],
   "source": [
    "from sklearn.preprocessing import LabelEncoder\n",
    "\n",
    "le= LabelEncoder()\n",
    "\n",
    "df['Gender'] = le.fit_transform(df['Gender'])\n",
    "df['Allergy']= le.fit_transform(df['Allergy'])\n",
    "df['Wheezing']= le.fit_transform(df['Wheezing'])\n",
    "df['Coughing']= le.fit_transform(df['Coughing'])\n",
    "df['Fatigue']= le.fit_transform(df['Fatigue'])\n",
    "df['Chest_Pain']= le.fit_transform(df['Chest_Pain'])\n",
    "df['Shortness_of_Breath']= le.fit_transform(df['Shortness_of_Breath'])\n",
    "df['Chronic_Disease']= le.fit_transform(df['Chronic_Disease'])\n",
    "df['Family_History_Lung_Disease']= le.fit_transform(df['Family_History_Lung_Disease'])\n",
    "df['Lung_Disease']= le.fit_transform(df['Lung_Disease'])"
   ]
  },
  {
   "cell_type": "markdown",
   "id": "be3f9045-88af-4243-912c-6394b340ffa1",
   "metadata": {},
   "source": [
    "Now data is ready for Modeling "
   ]
  },
  {
   "cell_type": "code",
   "execution_count": 46,
   "id": "7b68e19f-9d7f-4f4c-a224-3a348b40919d",
   "metadata": {},
   "outputs": [],
   "source": [
    "X  = df.drop('Lung_Disease' , axis = 1)\n",
    "y =df['Lung_Disease'] ## target variable"
   ]
  },
  {
   "cell_type": "markdown",
   "id": "424cc2d3-73b9-429a-b15f-ecaf53f35d34",
   "metadata": {},
   "source": [
    "# Step-4 : Modeling and Evaluation"
   ]
  },
  {
   "cell_type": "code",
   "execution_count": 47,
   "id": "3f881c32-42eb-43a1-acdf-e74a214fd88c",
   "metadata": {},
   "outputs": [],
   "source": [
    "from sklearn.linear_model import LogisticRegression\n",
    "from sklearn.neighbors import KNeighborsClassifier\n",
    "from sklearn.svm import SVC\n",
    "from sklearn.tree import DecisionTreeClassifier\n",
    "from sklearn.tree import plot_tree\n",
    "from sklearn.ensemble import RandomForestClassifier\n",
    "from sklearn.ensemble import AdaBoostClassifier\n",
    "from sklearn.ensemble import GradientBoostingClassifier\n",
    "from xgboost import XGBClassifier\n",
    "\n",
    "from sklearn.model_selection import cross_val_score\n",
    "from sklearn.metrics import accuracy_score\n",
    "from sklearn.metrics import confusion_matrix, classification_report"
   ]
  },
  {
   "cell_type": "code",
   "execution_count": 48,
   "id": "e0236983-0041-41e0-97ab-855463083acc",
   "metadata": {},
   "outputs": [],
   "source": [
    "feature_names = X_train.columns.tolist()\n"
   ]
  },
  {
   "cell_type": "code",
   "execution_count": 49,
   "id": "94210989-12f0-4121-9415-d99ec4b6341d",
   "metadata": {},
   "outputs": [],
   "source": [
    "from sklearn.model_selection import train_test_split\n",
    "X_train, X_test , y_train , y_test= train_test_split(X,y, train_size = 0.8, random_state =67)"
   ]
  },
  {
   "cell_type": "code",
   "execution_count": 50,
   "id": "6f62c14c-2f83-4a14-8331-b8e1bef9b57c",
   "metadata": {},
   "outputs": [
    {
     "data": {
      "text/plain": [
       "['Age',\n",
       " 'Gender',\n",
       " 'BMI',\n",
       " 'Alcohol_Units_Per_Week',\n",
       " 'Air_Pollution_Index',\n",
       " 'Occupational_Hazard_Score',\n",
       " 'Exposure_to_Dust_Years',\n",
       " 'Physical_Activity_Level',\n",
       " 'FEV1',\n",
       " 'Allergy',\n",
       " 'Wheezing',\n",
       " 'Coughing',\n",
       " 'Fatigue',\n",
       " 'Chest_Pain',\n",
       " 'Shortness_of_Breath',\n",
       " 'Chronic_Disease',\n",
       " 'Family_History_Lung_Disease',\n",
       " 'Total_Smoking_Exposure']"
      ]
     },
     "execution_count": 50,
     "metadata": {},
     "output_type": "execute_result"
    }
   ],
   "source": [
    "X_train.columns.to_list()"
   ]
  },
  {
   "cell_type": "markdown",
   "id": "f4f1178b-f8aa-4cb9-b2d9-979d193f38a3",
   "metadata": {},
   "source": [
    "#### Choosing the best random state number"
   ]
  },
  {
   "cell_type": "code",
   "execution_count": 51,
   "id": "8fff42c3-fac7-4a05-8527-d940367851a7",
   "metadata": {},
   "outputs": [
    {
     "ename": "NameError",
     "evalue": "name 'StandardScaler' is not defined",
     "output_type": "error",
     "traceback": [
      "\u001b[1;31m---------------------------------------------------------------------------\u001b[0m",
      "\u001b[1;31mNameError\u001b[0m                                 Traceback (most recent call last)",
      "Cell \u001b[1;32mIn[51], line 12\u001b[0m\n\u001b[0;32m      9\u001b[0m X_test_scaled \u001b[38;5;241m=\u001b[39m X_test\u001b[38;5;241m.\u001b[39mcopy()\n\u001b[0;32m     11\u001b[0m \u001b[38;5;66;03m# Initialize the scaler\u001b[39;00m\n\u001b[1;32m---> 12\u001b[0m scaler \u001b[38;5;241m=\u001b[39m StandardScaler()   \u001b[38;5;66;03m# important for joblib (varname)\u001b[39;00m\n\u001b[0;32m     14\u001b[0m \u001b[38;5;66;03m# Fit on training data and transform both train and test\u001b[39;00m\n\u001b[0;32m     15\u001b[0m X_train_scaled[columns_to_scale] \u001b[38;5;241m=\u001b[39m scaler\u001b[38;5;241m.\u001b[39mfit_transform(X_train[columns_to_scale])\n",
      "\u001b[1;31mNameError\u001b[0m: name 'StandardScaler' is not defined"
     ]
    }
   ],
   "source": [
    "# List of columns to scale\n",
    "columns_to_scale = ['BMI' , 'Alcohol_Units_Per_Week' , 'Air_Pollution_Index'  , 'Occupational_Hazard_Score' , 'Physical_Activity_Level' , 'FEV1']\n",
    "\n",
    "# Split your data\n",
    "X_train, X_test, y_train, y_test = train_test_split(X, y, test_size=0.2, random_state=42)\n",
    "\n",
    "# Create a copy so original data is safe\n",
    "X_train_scaled = X_train.copy()\n",
    "X_test_scaled = X_test.copy()\n",
    "\n",
    "# Initialize the scaler\n",
    "scaler = StandardScaler()   # important for joblib (varname)\n",
    "\n",
    "# Fit on training data and transform both train and test\n",
    "X_train_scaled[columns_to_scale] = scaler.fit_transform(X_train[columns_to_scale])\n",
    "X_test_scaled[columns_to_scale] = scaler.transform(X_test[columns_to_scale])"
   ]
  },
  {
   "cell_type": "markdown",
   "id": "39125852-72ea-4135-8281-00a2f62f3721",
   "metadata": {},
   "source": [
    "## Scaling (or Feature Scaling) is applied to normalize the range of independent variables or features of data.\n",
    "from sklearn.preprocessing import StandardScaler\n",
    "\n",
    "scaler = StandardScaler()\n",
    "X_train = scaler.fit_transform(X_train)\n",
    "X_test = scaler.transform(X_test)\n"
   ]
  },
  {
   "cell_type": "markdown",
   "id": "86de29a6-1101-4256-8b5e-1f7d3a6e89da",
   "metadata": {},
   "source": [
    "Train = []\n",
    "CV = []\n",
    "for i in range(0, 100):\n",
    "    X_train, X_test, y_train, y_test = train_test_split(X, y, test_size=0.2, random_state=i)\n",
    "    model = LogisticRegression()\n",
    "    model.fit(X_train, y_train)\n",
    "    ypred_train = model.predict(X_train)\n",
    "    Train.append(accuracy_score(y_train, ypred_train))\n",
    "    cv_score = cross_val_score(model, X_train, y_train, cv=5, scoring=\"accuracy\").mean()\n",
    "    CV.append(cv_score)\n",
    "#store the results    \n",
    "em = pd.DataFrame({\"Train\": Train, \"CV\": CV})\n",
    "# Filter stable random states where Train - CV is small\n",
    "gm = em[(abs(em[\"Train\"] - em[\"CV\"]) <= 0.05)]\n",
    "# Find the best one with highest CV\n",
    "rs = gm[gm[\"CV\"] == gm[\"CV\"].max()].index.tolist()[0]\n",
    "print(\"THE BEST RANDOM STATE NUMBER IS\", rs)"
   ]
  },
  {
   "cell_type": "markdown",
   "id": "2815a07a-dff5-45d1-8442-fbb60ef7f14a",
   "metadata": {},
   "source": [
    "##### Trying each model seperatly \n",
    "\n",
    "**(i)LOGISTIC REGRESSION**\n",
    "\n",
    "\n",
    "#### Finding the best parmeters by Cross Validation & Hyperparameter Tuning"
   ]
  },
  {
   "cell_type": "code",
   "execution_count": 52,
   "id": "88cd9457-c178-46a2-ad57-86e1fd61bbd3",
   "metadata": {},
   "outputs": [
    {
     "name": "stdout",
     "output_type": "stream",
     "text": [
      "Best Params: {'C': 10, 'penalty': 'l1', 'solver': 'liblinear'}\n"
     ]
    }
   ],
   "source": [
    "from sklearn.model_selection import GridSearchCV\n",
    "\n",
    "param_grid = {\n",
    "    'C': [0.01, 0.1, 1, 10, 100],\n",
    "    'penalty': ['l1', 'l2'],\n",
    "    'solver': ['liblinear']\n",
    "}\n",
    "\n",
    "grid = GridSearchCV(LogisticRegression(), param_grid, cv=5)\n",
    "grid.fit(X_train_scaled, y_train)\n",
    "print(\"Best Params:\", grid.best_params_)\n"
   ]
  },
  {
   "cell_type": "code",
   "execution_count": 53,
   "id": "95f25ae9-267f-4303-8185-a2901018f841",
   "metadata": {},
   "outputs": [
    {
     "name": "stdout",
     "output_type": "stream",
     "text": [
      "Defaulting to user installation because normal site-packages is not writeable\n",
      "Requirement already satisfied: shap in c:\\users\\sri\\appdata\\roaming\\python\\python311\\site-packages (0.47.2)\n",
      "Requirement already satisfied: numpy in d:\\telusko\\lib\\site-packages (from shap) (1.26.4)\n",
      "Requirement already satisfied: scipy in d:\\telusko\\lib\\site-packages (from shap) (1.11.4)\n",
      "Requirement already satisfied: scikit-learn in d:\\telusko\\lib\\site-packages (from shap) (1.2.2)\n",
      "Requirement already satisfied: pandas in d:\\telusko\\lib\\site-packages (from shap) (2.1.4)\n",
      "Requirement already satisfied: tqdm>=4.27.0 in d:\\telusko\\lib\\site-packages (from shap) (4.65.0)\n",
      "Requirement already satisfied: packaging>20.9 in d:\\telusko\\lib\\site-packages (from shap) (23.1)\n",
      "Requirement already satisfied: slicer==0.0.8 in c:\\users\\sri\\appdata\\roaming\\python\\python311\\site-packages (from shap) (0.0.8)\n",
      "Requirement already satisfied: numba>=0.54 in d:\\telusko\\lib\\site-packages (from shap) (0.59.0)\n",
      "Requirement already satisfied: cloudpickle in d:\\telusko\\lib\\site-packages (from shap) (2.2.1)\n",
      "Requirement already satisfied: typing-extensions in c:\\users\\sri\\appdata\\roaming\\python\\python311\\site-packages (from shap) (4.12.2)\n",
      "Requirement already satisfied: llvmlite<0.43,>=0.42.0dev0 in d:\\telusko\\lib\\site-packages (from numba>=0.54->shap) (0.42.0)\n",
      "Requirement already satisfied: colorama in d:\\telusko\\lib\\site-packages (from tqdm>=4.27.0->shap) (0.4.6)\n",
      "Requirement already satisfied: python-dateutil>=2.8.2 in d:\\telusko\\lib\\site-packages (from pandas->shap) (2.8.2)\n",
      "Requirement already satisfied: pytz>=2020.1 in d:\\telusko\\lib\\site-packages (from pandas->shap) (2023.3.post1)\n",
      "Requirement already satisfied: tzdata>=2022.1 in d:\\telusko\\lib\\site-packages (from pandas->shap) (2023.3)\n",
      "Requirement already satisfied: joblib>=1.1.1 in c:\\users\\sri\\appdata\\roaming\\python\\python311\\site-packages (from scikit-learn->shap) (1.1.1)\n",
      "Requirement already satisfied: threadpoolctl>=2.0.0 in d:\\telusko\\lib\\site-packages (from scikit-learn->shap) (2.2.0)\n",
      "Requirement already satisfied: six>=1.5 in d:\\telusko\\lib\\site-packages (from python-dateutil>=2.8.2->pandas->shap) (1.16.0)\n",
      "Note: you may need to restart the kernel to use updated packages.\n"
     ]
    }
   ],
   "source": [
    "#pip install shap"
   ]
  },
  {
   "cell_type": "code",
   "execution_count": 54,
   "id": "9ef4d001-1613-47b5-bc6a-cf4d2fe5f52c",
   "metadata": {},
   "outputs": [
    {
     "data": {
      "text/html": [
       "<style>#sk-container-id-1 {color: black;background-color: white;}#sk-container-id-1 pre{padding: 0;}#sk-container-id-1 div.sk-toggleable {background-color: white;}#sk-container-id-1 label.sk-toggleable__label {cursor: pointer;display: block;width: 100%;margin-bottom: 0;padding: 0.3em;box-sizing: border-box;text-align: center;}#sk-container-id-1 label.sk-toggleable__label-arrow:before {content: \"▸\";float: left;margin-right: 0.25em;color: #696969;}#sk-container-id-1 label.sk-toggleable__label-arrow:hover:before {color: black;}#sk-container-id-1 div.sk-estimator:hover label.sk-toggleable__label-arrow:before {color: black;}#sk-container-id-1 div.sk-toggleable__content {max-height: 0;max-width: 0;overflow: hidden;text-align: left;background-color: #f0f8ff;}#sk-container-id-1 div.sk-toggleable__content pre {margin: 0.2em;color: black;border-radius: 0.25em;background-color: #f0f8ff;}#sk-container-id-1 input.sk-toggleable__control:checked~div.sk-toggleable__content {max-height: 200px;max-width: 100%;overflow: auto;}#sk-container-id-1 input.sk-toggleable__control:checked~label.sk-toggleable__label-arrow:before {content: \"▾\";}#sk-container-id-1 div.sk-estimator input.sk-toggleable__control:checked~label.sk-toggleable__label {background-color: #d4ebff;}#sk-container-id-1 div.sk-label input.sk-toggleable__control:checked~label.sk-toggleable__label {background-color: #d4ebff;}#sk-container-id-1 input.sk-hidden--visually {border: 0;clip: rect(1px 1px 1px 1px);clip: rect(1px, 1px, 1px, 1px);height: 1px;margin: -1px;overflow: hidden;padding: 0;position: absolute;width: 1px;}#sk-container-id-1 div.sk-estimator {font-family: monospace;background-color: #f0f8ff;border: 1px dotted black;border-radius: 0.25em;box-sizing: border-box;margin-bottom: 0.5em;}#sk-container-id-1 div.sk-estimator:hover {background-color: #d4ebff;}#sk-container-id-1 div.sk-parallel-item::after {content: \"\";width: 100%;border-bottom: 1px solid gray;flex-grow: 1;}#sk-container-id-1 div.sk-label:hover label.sk-toggleable__label {background-color: #d4ebff;}#sk-container-id-1 div.sk-serial::before {content: \"\";position: absolute;border-left: 1px solid gray;box-sizing: border-box;top: 0;bottom: 0;left: 50%;z-index: 0;}#sk-container-id-1 div.sk-serial {display: flex;flex-direction: column;align-items: center;background-color: white;padding-right: 0.2em;padding-left: 0.2em;position: relative;}#sk-container-id-1 div.sk-item {position: relative;z-index: 1;}#sk-container-id-1 div.sk-parallel {display: flex;align-items: stretch;justify-content: center;background-color: white;position: relative;}#sk-container-id-1 div.sk-item::before, #sk-container-id-1 div.sk-parallel-item::before {content: \"\";position: absolute;border-left: 1px solid gray;box-sizing: border-box;top: 0;bottom: 0;left: 50%;z-index: -1;}#sk-container-id-1 div.sk-parallel-item {display: flex;flex-direction: column;z-index: 1;position: relative;background-color: white;}#sk-container-id-1 div.sk-parallel-item:first-child::after {align-self: flex-end;width: 50%;}#sk-container-id-1 div.sk-parallel-item:last-child::after {align-self: flex-start;width: 50%;}#sk-container-id-1 div.sk-parallel-item:only-child::after {width: 0;}#sk-container-id-1 div.sk-dashed-wrapped {border: 1px dashed gray;margin: 0 0.4em 0.5em 0.4em;box-sizing: border-box;padding-bottom: 0.4em;background-color: white;}#sk-container-id-1 div.sk-label label {font-family: monospace;font-weight: bold;display: inline-block;line-height: 1.2em;}#sk-container-id-1 div.sk-label-container {text-align: center;}#sk-container-id-1 div.sk-container {/* jupyter's `normalize.less` sets `[hidden] { display: none; }` but bootstrap.min.css set `[hidden] { display: none !important; }` so we also need the `!important` here to be able to override the default hidden behavior on the sphinx rendered scikit-learn.org. See: https://github.com/scikit-learn/scikit-learn/issues/21755 */display: inline-block !important;position: relative;}#sk-container-id-1 div.sk-text-repr-fallback {display: none;}</style><div id=\"sk-container-id-1\" class=\"sk-top-container\"><div class=\"sk-text-repr-fallback\"><pre>LogisticRegression(C=1, penalty=&#x27;l1&#x27;, solver=&#x27;liblinear&#x27;)</pre><b>In a Jupyter environment, please rerun this cell to show the HTML representation or trust the notebook. <br />On GitHub, the HTML representation is unable to render, please try loading this page with nbviewer.org.</b></div><div class=\"sk-container\" hidden><div class=\"sk-item\"><div class=\"sk-estimator sk-toggleable\"><input class=\"sk-toggleable__control sk-hidden--visually\" id=\"sk-estimator-id-1\" type=\"checkbox\" checked><label for=\"sk-estimator-id-1\" class=\"sk-toggleable__label sk-toggleable__label-arrow\">LogisticRegression</label><div class=\"sk-toggleable__content\"><pre>LogisticRegression(C=1, penalty=&#x27;l1&#x27;, solver=&#x27;liblinear&#x27;)</pre></div></div></div></div></div>"
      ],
      "text/plain": [
       "LogisticRegression(C=1, penalty='l1', solver='liblinear')"
      ]
     },
     "execution_count": 54,
     "metadata": {},
     "output_type": "execute_result"
    }
   ],
   "source": [
    "lr = LogisticRegression(C= 1, penalty= 'l1', solver= 'liblinear')\n",
    "lr.fit(X_train_scaled, y_train)"
   ]
  },
  {
   "cell_type": "code",
   "execution_count": 55,
   "id": "09388057-9b78-4258-8acc-379f6ec7e6e3",
   "metadata": {},
   "outputs": [
    {
     "data": {
      "image/png": "[encoded data removed]",
      "text/plain": [
       "<Figure size 800x550 with 2 Axes>"
      ]
     },
     "metadata": {},
     "output_type": "display_data"
    }
   ],
   "source": [
    "import shap\n",
    "\n",
    "explainer = shap.Explainer(lr, X_test_scaled)\n",
    "shap_values = explainer(X_test_scaled)\n",
    "shap.plots.beeswarm(shap_values)\n"
   ]
  },
  {
   "cell_type": "code",
   "execution_count": 56,
   "id": "a2b3b84e-b3e3-40a0-86a3-4dc02f0b7d20",
   "metadata": {},
   "outputs": [
    {
     "data": {
      "text/plain": [
       "array([[-1.75028796e-02,  0.00000000e+00, -3.51156640e-02,\n",
       "        -3.41130352e-02,  2.27556569e-04,  2.06248326e-01,\n",
       "         5.67110914e-02,  1.61409546e-01, -1.85911783e+00,\n",
       "         1.82972636e+00,  1.73256003e+00,  2.04310858e+00,\n",
       "         2.84130937e+00,  1.71837222e+00,  2.93563688e+00,\n",
       "         1.46127188e+00,  2.19982692e+00,  8.12233081e-04]])"
      ]
     },
     "execution_count": 56,
     "metadata": {},
     "output_type": "execute_result"
    }
   ],
   "source": [
    "lr.coef_"
   ]
  },
  {
   "cell_type": "code",
   "execution_count": 57,
   "id": "f994b1bc-72ad-4f04-9c5b-2400f3d3d9e1",
   "metadata": {},
   "outputs": [
    {
     "data": {
      "text/plain": [
       "array([-4.68299244])"
      ]
     },
     "execution_count": 57,
     "metadata": {},
     "output_type": "execute_result"
    }
   ],
   "source": [
    "lr.intercept_"
   ]
  },
  {
   "cell_type": "code",
   "execution_count": 58,
   "id": "cc5ca066-9903-4d6e-b253-0687da918de8",
   "metadata": {},
   "outputs": [],
   "source": [
    "ypred_train = lr.predict(X_train_scaled)\n",
    "ypred_test = lr.predict(X_test_scaled)"
   ]
  },
  {
   "cell_type": "markdown",
   "id": "106616ef-0816-4043-9992-1023c65e2c18",
   "metadata": {},
   "source": [
    "#### Evaluation"
   ]
  },
  {
   "cell_type": "code",
   "execution_count": 59,
   "id": "0aeaf2c9-c29d-4e90-859e-f08dfa094f07",
   "metadata": {},
   "outputs": [
    {
     "name": "stdout",
     "output_type": "stream",
     "text": [
      "Train_Accuracy : 0.98375\n",
      "Test_accuracy: 0.995\n",
      "CVS : 0.9749999999999999\n"
     ]
    }
   ],
   "source": [
    "print('Train_Accuracy :' , accuracy_score(ypred_train , y_train))\n",
    "print('Test_accuracy:' , accuracy_score(ypred_test , y_test))\n",
    "print('CVS :' , cross_val_score(lr,X_train_scaled ,y_train , cv =5 , scoring = 'accuracy' ).mean())"
   ]
  },
  {
   "cell_type": "code",
   "execution_count": 60,
   "id": "19f612f3-dd7f-4e3f-86eb-a0d81419d8e3",
   "metadata": {},
   "outputs": [
    {
     "name": "stdout",
     "output_type": "stream",
     "text": [
      "Confusion_matrix: [[ 85   0]\n",
      " [  1 114]]\n",
      "classification_report:               precision    recall  f1-score   support\n",
      "\n",
      "           0       0.99      1.00      0.99        85\n",
      "           1       1.00      0.99      1.00       115\n",
      "\n",
      "    accuracy                           0.99       200\n",
      "   macro avg       0.99      1.00      0.99       200\n",
      "weighted avg       1.00      0.99      1.00       200\n",
      "\n"
     ]
    }
   ],
   "source": [
    "print('Confusion_matrix:' , confusion_matrix(y_test , ypred_test))\n",
    "print('classification_report:' ,classification_report(y_test , ypred_test))"
   ]
  },
  {
   "cell_type": "markdown",
   "id": "40f02428-487e-42d0-a4d4-3f16b4f0eb1c",
   "metadata": {},
   "source": [
    "#### Key Observations:\r\n",
    "The model shows very high accuracy and excellent recall on both classes.\n",
    "\n",
    "No false negatives for class 0 (perfect recall), and very few false negatives for class 1.\n",
    "\n",
    "Balanced precision and recall demonstrate that the model performs reliably for both classes.\n",
    "\n",
    "The cross-validation score is consistent with train and test accuracy, indicating strong generalization without overfitting.fier."
   ]
  },
  {
   "cell_type": "markdown",
   "id": "cdd25f94-1ead-48ba-8bcc-265fb2914c6e",
   "metadata": {},
   "source": [
    "#### <U> Model 2 : KNeighbor </U>\n",
    "\n",
    "\n",
    "\n",
    "#### performing Hyper parameter tuning"
   ]
  },
  {
   "cell_type": "code",
   "execution_count": 61,
   "id": "3cf52da2-e9cb-49c2-8e60-407c272fdfa5",
   "metadata": {},
   "outputs": [
    {
     "data": {
      "text/html": [
       "<style>#sk-container-id-2 {color: black;background-color: white;}#sk-container-id-2 pre{padding: 0;}#sk-container-id-2 div.sk-toggleable {background-color: white;}#sk-container-id-2 label.sk-toggleable__label {cursor: pointer;display: block;width: 100%;margin-bottom: 0;padding: 0.3em;box-sizing: border-box;text-align: center;}#sk-container-id-2 label.sk-toggleable__label-arrow:before {content: \"▸\";float: left;margin-right: 0.25em;color: #696969;}#sk-container-id-2 label.sk-toggleable__label-arrow:hover:before {color: black;}#sk-container-id-2 div.sk-estimator:hover label.sk-toggleable__label-arrow:before {color: black;}#sk-container-id-2 div.sk-toggleable__content {max-height: 0;max-width: 0;overflow: hidden;text-align: left;background-color: #f0f8ff;}#sk-container-id-2 div.sk-toggleable__content pre {margin: 0.2em;color: black;border-radius: 0.25em;background-color: #f0f8ff;}#sk-container-id-2 input.sk-toggleable__control:checked~div.sk-toggleable__content {max-height: 200px;max-width: 100%;overflow: auto;}#sk-container-id-2 input.sk-toggleable__control:checked~label.sk-toggleable__label-arrow:before {content: \"▾\";}#sk-container-id-2 div.sk-estimator input.sk-toggleable__control:checked~label.sk-toggleable__label {background-color: #d4ebff;}#sk-container-id-2 div.sk-label input.sk-toggleable__control:checked~label.sk-toggleable__label {background-color: #d4ebff;}#sk-container-id-2 input.sk-hidden--visually {border: 0;clip: rect(1px 1px 1px 1px);clip: rect(1px, 1px, 1px, 1px);height: 1px;margin: -1px;overflow: hidden;padding: 0;position: absolute;width: 1px;}#sk-container-id-2 div.sk-estimator {font-family: monospace;background-color: #f0f8ff;border: 1px dotted black;border-radius: 0.25em;box-sizing: border-box;margin-bottom: 0.5em;}#sk-container-id-2 div.sk-estimator:hover {background-color: #d4ebff;}#sk-container-id-2 div.sk-parallel-item::after {content: \"\";width: 100%;border-bottom: 1px solid gray;flex-grow: 1;}#sk-container-id-2 div.sk-label:hover label.sk-toggleable__label {background-color: #d4ebff;}#sk-container-id-2 div.sk-serial::before {content: \"\";position: absolute;border-left: 1px solid gray;box-sizing: border-box;top: 0;bottom: 0;left: 50%;z-index: 0;}#sk-container-id-2 div.sk-serial {display: flex;flex-direction: column;align-items: center;background-color: white;padding-right: 0.2em;padding-left: 0.2em;position: relative;}#sk-container-id-2 div.sk-item {position: relative;z-index: 1;}#sk-container-id-2 div.sk-parallel {display: flex;align-items: stretch;justify-content: center;background-color: white;position: relative;}#sk-container-id-2 div.sk-item::before, #sk-container-id-2 div.sk-parallel-item::before {content: \"\";position: absolute;border-left: 1px solid gray;box-sizing: border-box;top: 0;bottom: 0;left: 50%;z-index: -1;}#sk-container-id-2 div.sk-parallel-item {display: flex;flex-direction: column;z-index: 1;position: relative;background-color: white;}#sk-container-id-2 div.sk-parallel-item:first-child::after {align-self: flex-end;width: 50%;}#sk-container-id-2 div.sk-parallel-item:last-child::after {align-self: flex-start;width: 50%;}#sk-container-id-2 div.sk-parallel-item:only-child::after {width: 0;}#sk-container-id-2 div.sk-dashed-wrapped {border: 1px dashed gray;margin: 0 0.4em 0.5em 0.4em;box-sizing: border-box;padding-bottom: 0.4em;background-color: white;}#sk-container-id-2 div.sk-label label {font-family: monospace;font-weight: bold;display: inline-block;line-height: 1.2em;}#sk-container-id-2 div.sk-label-container {text-align: center;}#sk-container-id-2 div.sk-container {/* jupyter's `normalize.less` sets `[hidden] { display: none; }` but bootstrap.min.css set `[hidden] { display: none !important; }` so we also need the `!important` here to be able to override the default hidden behavior on the sphinx rendered scikit-learn.org. See: https://github.com/scikit-learn/scikit-learn/issues/21755 */display: inline-block !important;position: relative;}#sk-container-id-2 div.sk-text-repr-fallback {display: none;}</style><div id=\"sk-container-id-2\" class=\"sk-top-container\"><div class=\"sk-text-repr-fallback\"><pre>KNeighborsClassifier(n_neighbors=18)</pre><b>In a Jupyter environment, please rerun this cell to show the HTML representation or trust the notebook. <br />On GitHub, the HTML representation is unable to render, please try loading this page with nbviewer.org.</b></div><div class=\"sk-container\" hidden><div class=\"sk-item\"><div class=\"sk-estimator sk-toggleable\"><input class=\"sk-toggleable__control sk-hidden--visually\" id=\"sk-estimator-id-2\" type=\"checkbox\" checked><label for=\"sk-estimator-id-2\" class=\"sk-toggleable__label sk-toggleable__label-arrow\">KNeighborsClassifier</label><div class=\"sk-toggleable__content\"><pre>KNeighborsClassifier(n_neighbors=18)</pre></div></div></div></div></div>"
      ],
      "text/plain": [
       "KNeighborsClassifier(n_neighbors=18)"
      ]
     },
     "execution_count": 61,
     "metadata": {},
     "output_type": "execute_result"
    }
   ],
   "source": [
    "estimator = KNeighborsClassifier()\n",
    "param_grid = {'n_neighbors' : list(range(1,50))}\n",
    "knn_grid = GridSearchCV(estimator ,param_grid , cv = 5, scoring = 'accuracy')\n",
    "knn_grid.fit(X_train_scaled , y_train)\n",
    "knn_grid.best_estimator_"
   ]
  },
  {
   "cell_type": "code",
   "execution_count": 62,
   "id": "36d8cb5a-29a0-4910-929a-63901191a1b8",
   "metadata": {},
   "outputs": [
    {
     "data": {
      "text/html": [
       "<style>#sk-container-id-3 {color: black;background-color: white;}#sk-container-id-3 pre{padding: 0;}#sk-container-id-3 div.sk-toggleable {background-color: white;}#sk-container-id-3 label.sk-toggleable__label {cursor: pointer;display: block;width: 100%;margin-bottom: 0;padding: 0.3em;box-sizing: border-box;text-align: center;}#sk-container-id-3 label.sk-toggleable__label-arrow:before {content: \"▸\";float: left;margin-right: 0.25em;color: #696969;}#sk-container-id-3 label.sk-toggleable__label-arrow:hover:before {color: black;}#sk-container-id-3 div.sk-estimator:hover label.sk-toggleable__label-arrow:before {color: black;}#sk-container-id-3 div.sk-toggleable__content {max-height: 0;max-width: 0;overflow: hidden;text-align: left;background-color: #f0f8ff;}#sk-container-id-3 div.sk-toggleable__content pre {margin: 0.2em;color: black;border-radius: 0.25em;background-color: #f0f8ff;}#sk-container-id-3 input.sk-toggleable__control:checked~div.sk-toggleable__content {max-height: 200px;max-width: 100%;overflow: auto;}#sk-container-id-3 input.sk-toggleable__control:checked~label.sk-toggleable__label-arrow:before {content: \"▾\";}#sk-container-id-3 div.sk-estimator input.sk-toggleable__control:checked~label.sk-toggleable__label {background-color: #d4ebff;}#sk-container-id-3 div.sk-label input.sk-toggleable__control:checked~label.sk-toggleable__label {background-color: #d4ebff;}#sk-container-id-3 input.sk-hidden--visually {border: 0;clip: rect(1px 1px 1px 1px);clip: rect(1px, 1px, 1px, 1px);height: 1px;margin: -1px;overflow: hidden;padding: 0;position: absolute;width: 1px;}#sk-container-id-3 div.sk-estimator {font-family: monospace;background-color: #f0f8ff;border: 1px dotted black;border-radius: 0.25em;box-sizing: border-box;margin-bottom: 0.5em;}#sk-container-id-3 div.sk-estimator:hover {background-color: #d4ebff;}#sk-container-id-3 div.sk-parallel-item::after {content: \"\";width: 100%;border-bottom: 1px solid gray;flex-grow: 1;}#sk-container-id-3 div.sk-label:hover label.sk-toggleable__label {background-color: #d4ebff;}#sk-container-id-3 div.sk-serial::before {content: \"\";position: absolute;border-left: 1px solid gray;box-sizing: border-box;top: 0;bottom: 0;left: 50%;z-index: 0;}#sk-container-id-3 div.sk-serial {display: flex;flex-direction: column;align-items: center;background-color: white;padding-right: 0.2em;padding-left: 0.2em;position: relative;}#sk-container-id-3 div.sk-item {position: relative;z-index: 1;}#sk-container-id-3 div.sk-parallel {display: flex;align-items: stretch;justify-content: center;background-color: white;position: relative;}#sk-container-id-3 div.sk-item::before, #sk-container-id-3 div.sk-parallel-item::before {content: \"\";position: absolute;border-left: 1px solid gray;box-sizing: border-box;top: 0;bottom: 0;left: 50%;z-index: -1;}#sk-container-id-3 div.sk-parallel-item {display: flex;flex-direction: column;z-index: 1;position: relative;background-color: white;}#sk-container-id-3 div.sk-parallel-item:first-child::after {align-self: flex-end;width: 50%;}#sk-container-id-3 div.sk-parallel-item:last-child::after {align-self: flex-start;width: 50%;}#sk-container-id-3 div.sk-parallel-item:only-child::after {width: 0;}#sk-container-id-3 div.sk-dashed-wrapped {border: 1px dashed gray;margin: 0 0.4em 0.5em 0.4em;box-sizing: border-box;padding-bottom: 0.4em;background-color: white;}#sk-container-id-3 div.sk-label label {font-family: monospace;font-weight: bold;display: inline-block;line-height: 1.2em;}#sk-container-id-3 div.sk-label-container {text-align: center;}#sk-container-id-3 div.sk-container {/* jupyter's `normalize.less` sets `[hidden] { display: none; }` but bootstrap.min.css set `[hidden] { display: none !important; }` so we also need the `!important` here to be able to override the default hidden behavior on the sphinx rendered scikit-learn.org. See: https://github.com/scikit-learn/scikit-learn/issues/21755 */display: inline-block !important;position: relative;}#sk-container-id-3 div.sk-text-repr-fallback {display: none;}</style><div id=\"sk-container-id-3\" class=\"sk-top-container\"><div class=\"sk-text-repr-fallback\"><pre>KNeighborsClassifier(n_neighbors=18)</pre><b>In a Jupyter environment, please rerun this cell to show the HTML representation or trust the notebook. <br />On GitHub, the HTML representation is unable to render, please try loading this page with nbviewer.org.</b></div><div class=\"sk-container\" hidden><div class=\"sk-item\"><div class=\"sk-estimator sk-toggleable\"><input class=\"sk-toggleable__control sk-hidden--visually\" id=\"sk-estimator-id-3\" type=\"checkbox\" checked><label for=\"sk-estimator-id-3\" class=\"sk-toggleable__label sk-toggleable__label-arrow\">KNeighborsClassifier</label><div class=\"sk-toggleable__content\"><pre>KNeighborsClassifier(n_neighbors=18)</pre></div></div></div></div></div>"
      ],
      "text/plain": [
       "KNeighborsClassifier(n_neighbors=18)"
      ]
     },
     "execution_count": 62,
     "metadata": {},
     "output_type": "execute_result"
    }
   ],
   "source": [
    "knn_model = KNeighborsClassifier(n_neighbors=18)\n",
    "knn_model.fit(X_train_scaled , y_train)\n"
   ]
  },
  {
   "cell_type": "code",
   "execution_count": 63,
   "id": "bdce8899-d74e-45cc-bff8-6bfe89d88e95",
   "metadata": {},
   "outputs": [],
   "source": [
    "ypred_train = knn_model.predict(X_train_scaled)\n",
    "ypred_test =knn_model.predict(X_test_scaled)"
   ]
  },
  {
   "cell_type": "code",
   "execution_count": 64,
   "id": "007da585-c847-4d00-bcbd-51951885d8a2",
   "metadata": {},
   "outputs": [
    {
     "name": "stdout",
     "output_type": "stream",
     "text": [
      "train_accuracy : 0.76375\n",
      "cvs : 0.72875\n",
      "test_accuracy : 0.71\n"
     ]
    }
   ],
   "source": [
    "print('train_accuracy :' , accuracy_score(ypred_train , y_train))\n",
    "print('cvs :' , cross_val_score(knn_model  , X_train_scaled , y_train ,cv =5).mean())\n",
    "print('test_accuracy :' ,accuracy_score(ypred_test , y_test))"
   ]
  },
  {
   "cell_type": "code",
   "execution_count": 65,
   "id": "7697c581-4db0-43d2-a9a1-a7adb8bf7844",
   "metadata": {},
   "outputs": [
    {
     "data": {
      "text/plain": [
       "array([[49, 22],\n",
       "       [36, 93]], dtype=int64)"
      ]
     },
     "execution_count": 65,
     "metadata": {},
     "output_type": "execute_result"
    }
   ],
   "source": [
    "confusion_matrix(ypred_test , y_test)"
   ]
  },
  {
   "cell_type": "code",
   "execution_count": 66,
   "id": "dac0d9c1-24e8-4506-ac78-caacae1dce60",
   "metadata": {},
   "outputs": [
    {
     "name": "stdout",
     "output_type": "stream",
     "text": [
      "              precision    recall  f1-score   support\n",
      "\n",
      "           0       0.58      0.69      0.63        71\n",
      "           1       0.81      0.72      0.76       129\n",
      "\n",
      "    accuracy                           0.71       200\n",
      "   macro avg       0.69      0.71      0.70       200\n",
      "weighted avg       0.73      0.71      0.71       200\n",
      "\n"
     ]
    }
   ],
   "source": [
    "print(classification_report(ypred_test , y_test))"
   ]
  },
  {
   "cell_type": "markdown",
   "id": "d176d239-557d-4244-8094-c7d59aa7571d",
   "metadata": {},
   "source": [
    "#### Key Observations:\n",
    "The model no longer overfits, as test and train performance are almost identical.\n",
    "\n",
    "Balanced precision and recall across both classes indicates no bias toward one outcome.\n",
    "\n",
    "The data enhancement worked: you now have a powerful and reliable classifier."
   ]
  },
  {
   "cell_type": "markdown",
   "id": "597df842-e05d-4cbd-8e92-c4c79baaa9d2",
   "metadata": {},
   "source": [
    "#  Support Vector Machine\n",
    "\n",
    "#### Modeling"
   ]
  },
  {
   "cell_type": "code",
   "execution_count": 67,
   "id": "8c55fc1f-29c4-4c84-a1bf-335fcba92b43",
   "metadata": {},
   "outputs": [
    {
     "data": {
      "text/plain": [
       "{'C': 1, 'kernel': 'linear'}"
      ]
     },
     "execution_count": 67,
     "metadata": {},
     "output_type": "execute_result"
    }
   ],
   "source": [
    "estimator = SVC()\n",
    "param_grid = {'C' : [0.01,1,0.1] , 'kernel' : ['linear' , 'rbf' , 'sigmoid' , 'poly']}\n",
    "grid_svm = GridSearchCV(estimator , param_grid , cv =5 , scoring = 'accuracy')\n",
    "grid_svm.fit(X_train_scaled, y_train)\n",
    "grid_svm.best_params_"
   ]
  },
  {
   "cell_type": "code",
   "execution_count": 68,
   "id": "d161a7cf-8d43-492f-bff0-f110a741ee29",
   "metadata": {},
   "outputs": [],
   "source": [
    "svm_model = SVC(C = 0.1 , kernel = 'linear')\n",
    "svm_model.fit(X_train_scaled , y_train)\n",
    "\n",
    "ypred_train = svm_model.predict(X_train_scaled)\n",
    "ypred_test = svm_model.predict(X_test_scaled)"
   ]
  },
  {
   "cell_type": "code",
   "execution_count": 69,
   "id": "7a98c60f-3422-48dd-af47-66bfc21c0edc",
   "metadata": {},
   "outputs": [
    {
     "name": "stdout",
     "output_type": "stream",
     "text": [
      "train_accuracy :  0.98125\n",
      "test_accuracy: 0.99\n",
      "CVS :  0.9775\n"
     ]
    }
   ],
   "source": [
    "print('train_accuracy : ' , accuracy_score(ypred_train , y_train))\n",
    "print('test_accuracy:' , accuracy_score(ypred_test , y_test))\n",
    "print('CVS : ' , cross_val_score(svm_model , X_train_scaled , y_train , cv =5).mean())"
   ]
  },
  {
   "cell_type": "code",
   "execution_count": 70,
   "id": "f518cd2a-aa09-4692-b4aa-49440c848498",
   "metadata": {},
   "outputs": [
    {
     "data": {
      "text/plain": [
       "array([[ 85,   2],\n",
       "       [  0, 113]], dtype=int64)"
      ]
     },
     "execution_count": 70,
     "metadata": {},
     "output_type": "execute_result"
    }
   ],
   "source": [
    "confusion_matrix(ypred_test , y_test)"
   ]
  },
  {
   "cell_type": "code",
   "execution_count": 71,
   "id": "bf14ad13-bce6-462b-aae5-965ae8338c48",
   "metadata": {},
   "outputs": [
    {
     "name": "stdout",
     "output_type": "stream",
     "text": [
      "              precision    recall  f1-score   support\n",
      "\n",
      "           0       1.00      0.98      0.99        87\n",
      "           1       0.98      1.00      0.99       113\n",
      "\n",
      "    accuracy                           0.99       200\n",
      "   macro avg       0.99      0.99      0.99       200\n",
      "weighted avg       0.99      0.99      0.99       200\n",
      "\n"
     ]
    }
   ],
   "source": [
    "print(classification_report(ypred_test , y_test))"
   ]
  },
  {
   "cell_type": "markdown",
   "id": "a247a41f-8ee6-4e56-87ea-5be99dbbf894",
   "metadata": {},
   "source": [
    "**Well-trained**: Minimal overfitting.\n",
    "\n",
    "**Generalizing well**: High cross-validation score.\n",
    "\n",
    "**Balanced**: Both classes are predicted with nearly equal performance.\n",
    "#### Precision: High precision for both classes means low false positives.\n",
    "\n",
    "#### Recall: High recall shows your model is correctly capturing most actual cases.\n",
    "\n",
    "#### F1-Score: Balanced performance across classes.\n",
    "\n",
    "#### Macro & Weighted Avg: Both are 0.96 — balanced and fair model."
   ]
  },
  {
   "cell_type": "markdown",
   "id": "f372655c-32a2-4a04-9782-942f91482f53",
   "metadata": {},
   "source": [
    "# Decision Tree Classifier\n",
    "\n",
    "MODELING"
   ]
  },
  {
   "cell_type": "code",
   "execution_count": 72,
   "id": "77d32ab6-4d03-4534-8f11-778f2df1ca82",
   "metadata": {},
   "outputs": [
    {
     "data": {
      "image/png": "[encoded data removed]",
      "text/plain": [
       "<Figure size 900x900 with 1 Axes>"
      ]
     },
     "metadata": {},
     "output_type": "display_data"
    }
   ],
   "source": [
    "dt_model = DecisionTreeClassifier(random_state = 8)\n",
    "dt_model.fit(X_train , y_train)\n",
    "from sklearn.tree import plot_tree\n",
    "plt.figure(figsize = (9,9))\n",
    "plot_tree(dt_model)#,filled = True , feature_names=X_train.columns.tolist() , class_names = ['Y' , 'N'])\n",
    "plt.show()"
   ]
  },
  {
   "cell_type": "markdown",
   "id": "0aa1c97d-fb12-4f9a-a62e-3fdadda9e8ee",
   "metadata": {},
   "source": [
    "#### Hyper parameter Tuning for best values and features"
   ]
  },
  {
   "cell_type": "code",
   "execution_count": 73,
   "id": "967fca05-466a-41fb-ae38-ea9d839c93b0",
   "metadata": {},
   "outputs": [
    {
     "data": {
      "text/html": [
       "<style>#sk-container-id-4 {color: black;background-color: white;}#sk-container-id-4 pre{padding: 0;}#sk-container-id-4 div.sk-toggleable {background-color: white;}#sk-container-id-4 label.sk-toggleable__label {cursor: pointer;display: block;width: 100%;margin-bottom: 0;padding: 0.3em;box-sizing: border-box;text-align: center;}#sk-container-id-4 label.sk-toggleable__label-arrow:before {content: \"▸\";float: left;margin-right: 0.25em;color: #696969;}#sk-container-id-4 label.sk-toggleable__label-arrow:hover:before {color: black;}#sk-container-id-4 div.sk-estimator:hover label.sk-toggleable__label-arrow:before {color: black;}#sk-container-id-4 div.sk-toggleable__content {max-height: 0;max-width: 0;overflow: hidden;text-align: left;background-color: #f0f8ff;}#sk-container-id-4 div.sk-toggleable__content pre {margin: 0.2em;color: black;border-radius: 0.25em;background-color: #f0f8ff;}#sk-container-id-4 input.sk-toggleable__control:checked~div.sk-toggleable__content {max-height: 200px;max-width: 100%;overflow: auto;}#sk-container-id-4 input.sk-toggleable__control:checked~label.sk-toggleable__label-arrow:before {content: \"▾\";}#sk-container-id-4 div.sk-estimator input.sk-toggleable__control:checked~label.sk-toggleable__label {background-color: #d4ebff;}#sk-container-id-4 div.sk-label input.sk-toggleable__control:checked~label.sk-toggleable__label {background-color: #d4ebff;}#sk-container-id-4 input.sk-hidden--visually {border: 0;clip: rect(1px 1px 1px 1px);clip: rect(1px, 1px, 1px, 1px);height: 1px;margin: -1px;overflow: hidden;padding: 0;position: absolute;width: 1px;}#sk-container-id-4 div.sk-estimator {font-family: monospace;background-color: #f0f8ff;border: 1px dotted black;border-radius: 0.25em;box-sizing: border-box;margin-bottom: 0.5em;}#sk-container-id-4 div.sk-estimator:hover {background-color: #d4ebff;}#sk-container-id-4 div.sk-parallel-item::after {content: \"\";width: 100%;border-bottom: 1px solid gray;flex-grow: 1;}#sk-container-id-4 div.sk-label:hover label.sk-toggleable__label {background-color: #d4ebff;}#sk-container-id-4 div.sk-serial::before {content: \"\";position: absolute;border-left: 1px solid gray;box-sizing: border-box;top: 0;bottom: 0;left: 50%;z-index: 0;}#sk-container-id-4 div.sk-serial {display: flex;flex-direction: column;align-items: center;background-color: white;padding-right: 0.2em;padding-left: 0.2em;position: relative;}#sk-container-id-4 div.sk-item {position: relative;z-index: 1;}#sk-container-id-4 div.sk-parallel {display: flex;align-items: stretch;justify-content: center;background-color: white;position: relative;}#sk-container-id-4 div.sk-item::before, #sk-container-id-4 div.sk-parallel-item::before {content: \"\";position: absolute;border-left: 1px solid gray;box-sizing: border-box;top: 0;bottom: 0;left: 50%;z-index: -1;}#sk-container-id-4 div.sk-parallel-item {display: flex;flex-direction: column;z-index: 1;position: relative;background-color: white;}#sk-container-id-4 div.sk-parallel-item:first-child::after {align-self: flex-end;width: 50%;}#sk-container-id-4 div.sk-parallel-item:last-child::after {align-self: flex-start;width: 50%;}#sk-container-id-4 div.sk-parallel-item:only-child::after {width: 0;}#sk-container-id-4 div.sk-dashed-wrapped {border: 1px dashed gray;margin: 0 0.4em 0.5em 0.4em;box-sizing: border-box;padding-bottom: 0.4em;background-color: white;}#sk-container-id-4 div.sk-label label {font-family: monospace;font-weight: bold;display: inline-block;line-height: 1.2em;}#sk-container-id-4 div.sk-label-container {text-align: center;}#sk-container-id-4 div.sk-container {/* jupyter's `normalize.less` sets `[hidden] { display: none; }` but bootstrap.min.css set `[hidden] { display: none !important; }` so we also need the `!important` here to be able to override the default hidden behavior on the sphinx rendered scikit-learn.org. See: https://github.com/scikit-learn/scikit-learn/issues/21755 */display: inline-block !important;position: relative;}#sk-container-id-4 div.sk-text-repr-fallback {display: none;}</style><div id=\"sk-container-id-4\" class=\"sk-top-container\"><div class=\"sk-text-repr-fallback\"><pre>DecisionTreeClassifier(criterion=&#x27;entropy&#x27;, max_depth=7)</pre><b>In a Jupyter environment, please rerun this cell to show the HTML representation or trust the notebook. <br />On GitHub, the HTML representation is unable to render, please try loading this page with nbviewer.org.</b></div><div class=\"sk-container\" hidden><div class=\"sk-item\"><div class=\"sk-estimator sk-toggleable\"><input class=\"sk-toggleable__control sk-hidden--visually\" id=\"sk-estimator-id-4\" type=\"checkbox\" checked><label for=\"sk-estimator-id-4\" class=\"sk-toggleable__label sk-toggleable__label-arrow\">DecisionTreeClassifier</label><div class=\"sk-toggleable__content\"><pre>DecisionTreeClassifier(criterion=&#x27;entropy&#x27;, max_depth=7)</pre></div></div></div></div></div>"
      ],
      "text/plain": [
       "DecisionTreeClassifier(criterion='entropy', max_depth=7)"
      ]
     },
     "execution_count": 73,
     "metadata": {},
     "output_type": "execute_result"
    }
   ],
   "source": [
    "estimator = DecisionTreeClassifier()\n",
    "param_grid  = {'criterion' :['gini' , 'entropy'], 'max_depth' : list(range(1,10))}\n",
    "grid = GridSearchCV(estimator , param_grid , cv =5  , scoring = 'accuracy')\n",
    "grid.fit(X_train, y_train)\n",
    "grid.best_estimator_"
   ]
  },
  {
   "cell_type": "code",
   "execution_count": 74,
   "id": "ec16552f-8dd6-4afd-ac5e-8c20023971cd",
   "metadata": {},
   "outputs": [
    {
     "data": {
      "text/plain": [
       "18"
      ]
     },
     "execution_count": 74,
     "metadata": {},
     "output_type": "execute_result"
    }
   ],
   "source": [
    "len(grid.best_estimator_.feature_importances_)\n"
   ]
  },
  {
   "cell_type": "code",
   "execution_count": 75,
   "id": "f6b0f022-60f3-4fd1-8ca5-3238a703477d",
   "metadata": {},
   "outputs": [
    {
     "data": {
      "text/plain": [
       "18"
      ]
     },
     "execution_count": 75,
     "metadata": {},
     "output_type": "execute_result"
    }
   ],
   "source": [
    "len(feature_names)\n"
   ]
  },
  {
   "cell_type": "code",
   "execution_count": 76,
   "id": "351a2f82-3e6f-4cef-8aa2-6a4db7d7a7e6",
   "metadata": {},
   "outputs": [
    {
     "data": {
      "text/html": [
       "<div>\n",
       "<style scoped>\n",
       "    .dataframe tbody tr th:only-of-type {\n",
       "        vertical-align: middle;\n",
       "    }\n",
       "\n",
       "    .dataframe tbody tr th {\n",
       "        vertical-align: top;\n",
       "    }\n",
       "\n",
       "    .dataframe thead th {\n",
       "        text-align: right;\n",
       "    }\n",
       "</style>\n",
       "<table border=\"1\" class=\"dataframe\">\n",
       "  <thead>\n",
       "    <tr style=\"text-align: right;\">\n",
       "      <th></th>\n",
       "      <th>imp</th>\n",
       "    </tr>\n",
       "  </thead>\n",
       "  <tbody>\n",
       "    <tr>\n",
       "      <th>0</th>\n",
       "      <td>0.000000</td>\n",
       "    </tr>\n",
       "    <tr>\n",
       "      <th>1</th>\n",
       "      <td>0.000000</td>\n",
       "    </tr>\n",
       "    <tr>\n",
       "      <th>2</th>\n",
       "      <td>0.008348</td>\n",
       "    </tr>\n",
       "    <tr>\n",
       "      <th>3</th>\n",
       "      <td>0.006244</td>\n",
       "    </tr>\n",
       "    <tr>\n",
       "      <th>4</th>\n",
       "      <td>0.005647</td>\n",
       "    </tr>\n",
       "    <tr>\n",
       "      <th>5</th>\n",
       "      <td>0.018934</td>\n",
       "    </tr>\n",
       "    <tr>\n",
       "      <th>6</th>\n",
       "      <td>0.024134</td>\n",
       "    </tr>\n",
       "    <tr>\n",
       "      <th>7</th>\n",
       "      <td>0.009047</td>\n",
       "    </tr>\n",
       "    <tr>\n",
       "      <th>8</th>\n",
       "      <td>0.351501</td>\n",
       "    </tr>\n",
       "    <tr>\n",
       "      <th>9</th>\n",
       "      <td>0.035185</td>\n",
       "    </tr>\n",
       "    <tr>\n",
       "      <th>10</th>\n",
       "      <td>0.011671</td>\n",
       "    </tr>\n",
       "    <tr>\n",
       "      <th>11</th>\n",
       "      <td>0.017433</td>\n",
       "    </tr>\n",
       "    <tr>\n",
       "      <th>12</th>\n",
       "      <td>0.050390</td>\n",
       "    </tr>\n",
       "    <tr>\n",
       "      <th>13</th>\n",
       "      <td>0.127042</td>\n",
       "    </tr>\n",
       "    <tr>\n",
       "      <th>14</th>\n",
       "      <td>0.218265</td>\n",
       "    </tr>\n",
       "    <tr>\n",
       "      <th>15</th>\n",
       "      <td>0.059962</td>\n",
       "    </tr>\n",
       "    <tr>\n",
       "      <th>16</th>\n",
       "      <td>0.030993</td>\n",
       "    </tr>\n",
       "    <tr>\n",
       "      <th>17</th>\n",
       "      <td>0.025205</td>\n",
       "    </tr>\n",
       "  </tbody>\n",
       "</table>\n",
       "</div>"
      ],
      "text/plain": [
       "         imp\n",
       "0   0.000000\n",
       "1   0.000000\n",
       "2   0.008348\n",
       "3   0.006244\n",
       "4   0.005647\n",
       "5   0.018934\n",
       "6   0.024134\n",
       "7   0.009047\n",
       "8   0.351501\n",
       "9   0.035185\n",
       "10  0.011671\n",
       "11  0.017433\n",
       "12  0.050390\n",
       "13  0.127042\n",
       "14  0.218265\n",
       "15  0.059962\n",
       "16  0.030993\n",
       "17  0.025205"
      ]
     },
     "execution_count": 76,
     "metadata": {},
     "output_type": "execute_result"
    }
   ],
   "source": [
    "s1 = pd.DataFrame(grid.best_estimator_.feature_importances_, columns = ['imp'])\n",
    "s1"
   ]
  },
  {
   "cell_type": "code",
   "execution_count": 77,
   "id": "93a19ebe-c195-4203-8f94-26ad7f5bf27d",
   "metadata": {},
   "outputs": [
    {
     "data": {
      "text/plain": [
       "[2, 3, 4, 5, 6, 7, 8, 9, 10, 11, 12, 13, 14, 15, 16, 17]"
      ]
     },
     "execution_count": 77,
     "metadata": {},
     "output_type": "execute_result"
    }
   ],
   "source": [
    "imp_feature = s1[s1['imp']>0].index.tolist()\n",
    "imp_feature"
   ]
  },
  {
   "cell_type": "code",
   "execution_count": 78,
   "id": "f6e2d60f-f7b2-4b32-ac52-9efda89de18e",
   "metadata": {},
   "outputs": [],
   "source": [
    "# Convert numeric indexes to column names\n",
    "imp_feature_names = [X.columns[i] for i in imp_feature]\n",
    "\n",
    "# Now this will work correctly\n",
    "X_imp = X[imp_feature_names]\n"
   ]
  },
  {
   "cell_type": "code",
   "execution_count": 79,
   "id": "34dbdfc7-7cb7-4b12-b01e-2397848fc00a",
   "metadata": {},
   "outputs": [],
   "source": [
    "\n",
    "X_train ,X_test , y_train , y_test = train_test_split(X_imp , y , train_size = 0.8 , random_state =20)\n",
    "dt = DecisionTreeClassifier(criterion = 'gini', max_depth = 8)\n",
    "dt.fit(X_train , y_train)\n",
    "ypred_train = dt.predict(X_train)\n",
    "ypred_test = dt.predict(X_test)"
   ]
  },
  {
   "cell_type": "code",
   "execution_count": 80,
   "id": "2b83640f-424e-41a6-a2bd-70a1cc2efd0a",
   "metadata": {},
   "outputs": [
    {
     "name": "stdout",
     "output_type": "stream",
     "text": [
      "train_accuracy :  0.99\n",
      "test_accuracy: 0.935\n",
      "CVS :  0.9650000000000001\n"
     ]
    }
   ],
   "source": [
    "print('train_accuracy : ' , accuracy_score(ypred_train , y_train))\n",
    "print('test_accuracy:' , accuracy_score(ypred_test , y_test))\n",
    "print('CVS : ' , cross_val_score(dt , X_train , y_train , cv =5).mean())"
   ]
  },
  {
   "cell_type": "code",
   "execution_count": 81,
   "id": "dfe6aa46-0be3-413e-a808-33b1ec66c933",
   "metadata": {},
   "outputs": [
    {
     "data": {
      "text/plain": [
       "array([[ 74,   6],\n",
       "       [  7, 113]], dtype=int64)"
      ]
     },
     "execution_count": 81,
     "metadata": {},
     "output_type": "execute_result"
    }
   ],
   "source": [
    "confusion_matrix(ypred_test , y_test)"
   ]
  },
  {
   "cell_type": "code",
   "execution_count": 82,
   "id": "fc3b84ea-f83e-4bdd-95b2-d6afe584693b",
   "metadata": {},
   "outputs": [
    {
     "name": "stdout",
     "output_type": "stream",
     "text": [
      "              precision    recall  f1-score   support\n",
      "\n",
      "           0       0.91      0.93      0.92        80\n",
      "           1       0.95      0.94      0.95       120\n",
      "\n",
      "    accuracy                           0.94       200\n",
      "   macro avg       0.93      0.93      0.93       200\n",
      "weighted avg       0.94      0.94      0.94       200\n",
      "\n"
     ]
    }
   ],
   "source": [
    "print(classification_report(ypred_test , y_test))"
   ]
  },
  {
   "cell_type": "markdown",
   "id": "2d8a8842-6599-425b-852c-99b9c0ef68cb",
   "metadata": {},
   "source": [
    "Training Accuracy: 98.38%\n",
    "\n",
    "Test Accuracy: 95.00%\n",
    "\n",
    "Cross-Validation Score (CVS): 96.13%\n",
    "\n",
    "The model performs well with minimal overfitting, as the train, test, and CV scores are close."
   ]
  },
  {
   "cell_type": "markdown",
   "id": "6498e42c-f042-45d1-87af-112792c0d446",
   "metadata": {},
   "source": [
    "# Random Forest Classifier\n",
    "\n",
    "#### modelling "
   ]
  },
  {
   "cell_type": "markdown",
   "id": "ba1f9495-31c4-4e3c-8801-e7d9aa37cbf7",
   "metadata": {},
   "source": [
    "#### Performimg Hyper Parameter Tuning for best value"
   ]
  },
  {
   "cell_type": "code",
   "execution_count": 83,
   "id": "8ffc1973-ea9b-4472-8167-6b7eb13bc65b",
   "metadata": {},
   "outputs": [
    {
     "data": {
      "text/html": [
       "<style>#sk-container-id-5 {color: black;background-color: white;}#sk-container-id-5 pre{padding: 0;}#sk-container-id-5 div.sk-toggleable {background-color: white;}#sk-container-id-5 label.sk-toggleable__label {cursor: pointer;display: block;width: 100%;margin-bottom: 0;padding: 0.3em;box-sizing: border-box;text-align: center;}#sk-container-id-5 label.sk-toggleable__label-arrow:before {content: \"▸\";float: left;margin-right: 0.25em;color: #696969;}#sk-container-id-5 label.sk-toggleable__label-arrow:hover:before {color: black;}#sk-container-id-5 div.sk-estimator:hover label.sk-toggleable__label-arrow:before {color: black;}#sk-container-id-5 div.sk-toggleable__content {max-height: 0;max-width: 0;overflow: hidden;text-align: left;background-color: #f0f8ff;}#sk-container-id-5 div.sk-toggleable__content pre {margin: 0.2em;color: black;border-radius: 0.25em;background-color: #f0f8ff;}#sk-container-id-5 input.sk-toggleable__control:checked~div.sk-toggleable__content {max-height: 200px;max-width: 100%;overflow: auto;}#sk-container-id-5 input.sk-toggleable__control:checked~label.sk-toggleable__label-arrow:before {content: \"▾\";}#sk-container-id-5 div.sk-estimator input.sk-toggleable__control:checked~label.sk-toggleable__label {background-color: #d4ebff;}#sk-container-id-5 div.sk-label input.sk-toggleable__control:checked~label.sk-toggleable__label {background-color: #d4ebff;}#sk-container-id-5 input.sk-hidden--visually {border: 0;clip: rect(1px 1px 1px 1px);clip: rect(1px, 1px, 1px, 1px);height: 1px;margin: -1px;overflow: hidden;padding: 0;position: absolute;width: 1px;}#sk-container-id-5 div.sk-estimator {font-family: monospace;background-color: #f0f8ff;border: 1px dotted black;border-radius: 0.25em;box-sizing: border-box;margin-bottom: 0.5em;}#sk-container-id-5 div.sk-estimator:hover {background-color: #d4ebff;}#sk-container-id-5 div.sk-parallel-item::after {content: \"\";width: 100%;border-bottom: 1px solid gray;flex-grow: 1;}#sk-container-id-5 div.sk-label:hover label.sk-toggleable__label {background-color: #d4ebff;}#sk-container-id-5 div.sk-serial::before {content: \"\";position: absolute;border-left: 1px solid gray;box-sizing: border-box;top: 0;bottom: 0;left: 50%;z-index: 0;}#sk-container-id-5 div.sk-serial {display: flex;flex-direction: column;align-items: center;background-color: white;padding-right: 0.2em;padding-left: 0.2em;position: relative;}#sk-container-id-5 div.sk-item {position: relative;z-index: 1;}#sk-container-id-5 div.sk-parallel {display: flex;align-items: stretch;justify-content: center;background-color: white;position: relative;}#sk-container-id-5 div.sk-item::before, #sk-container-id-5 div.sk-parallel-item::before {content: \"\";position: absolute;border-left: 1px solid gray;box-sizing: border-box;top: 0;bottom: 0;left: 50%;z-index: -1;}#sk-container-id-5 div.sk-parallel-item {display: flex;flex-direction: column;z-index: 1;position: relative;background-color: white;}#sk-container-id-5 div.sk-parallel-item:first-child::after {align-self: flex-end;width: 50%;}#sk-container-id-5 div.sk-parallel-item:last-child::after {align-self: flex-start;width: 50%;}#sk-container-id-5 div.sk-parallel-item:only-child::after {width: 0;}#sk-container-id-5 div.sk-dashed-wrapped {border: 1px dashed gray;margin: 0 0.4em 0.5em 0.4em;box-sizing: border-box;padding-bottom: 0.4em;background-color: white;}#sk-container-id-5 div.sk-label label {font-family: monospace;font-weight: bold;display: inline-block;line-height: 1.2em;}#sk-container-id-5 div.sk-label-container {text-align: center;}#sk-container-id-5 div.sk-container {/* jupyter's `normalize.less` sets `[hidden] { display: none; }` but bootstrap.min.css set `[hidden] { display: none !important; }` so we also need the `!important` here to be able to override the default hidden behavior on the sphinx rendered scikit-learn.org. See: https://github.com/scikit-learn/scikit-learn/issues/21755 */display: inline-block !important;position: relative;}#sk-container-id-5 div.sk-text-repr-fallback {display: none;}</style><div id=\"sk-container-id-5\" class=\"sk-top-container\"><div class=\"sk-text-repr-fallback\"><pre>RandomForestClassifier(n_estimators=18)</pre><b>In a Jupyter environment, please rerun this cell to show the HTML representation or trust the notebook. <br />On GitHub, the HTML representation is unable to render, please try loading this page with nbviewer.org.</b></div><div class=\"sk-container\" hidden><div class=\"sk-item\"><div class=\"sk-estimator sk-toggleable\"><input class=\"sk-toggleable__control sk-hidden--visually\" id=\"sk-estimator-id-5\" type=\"checkbox\" checked><label for=\"sk-estimator-id-5\" class=\"sk-toggleable__label sk-toggleable__label-arrow\">RandomForestClassifier</label><div class=\"sk-toggleable__content\"><pre>RandomForestClassifier(n_estimators=18)</pre></div></div></div></div></div>"
      ],
      "text/plain": [
       "RandomForestClassifier(n_estimators=18)"
      ]
     },
     "execution_count": 83,
     "metadata": {},
     "output_type": "execute_result"
    }
   ],
   "source": [
    "estimator = RandomForestClassifier()\n",
    "param_grid = {'n_estimators' : list(range(1,20))}\n",
    "grid_rf = GridSearchCV(estimator , param_grid , cv =5 , scoring = 'accuracy')\n",
    "grid_rf.fit(X_train , y_train)\n",
    "grid_rf.best_estimator_"
   ]
  },
  {
   "cell_type": "code",
   "execution_count": 84,
   "id": "7dec683a-e3fa-4117-8128-d2bff4294717",
   "metadata": {},
   "outputs": [
    {
     "data": {
      "text/html": [
       "<div>\n",
       "<style scoped>\n",
       "    .dataframe tbody tr th:only-of-type {\n",
       "        vertical-align: middle;\n",
       "    }\n",
       "\n",
       "    .dataframe tbody tr th {\n",
       "        vertical-align: top;\n",
       "    }\n",
       "\n",
       "    .dataframe thead th {\n",
       "        text-align: right;\n",
       "    }\n",
       "</style>\n",
       "<table border=\"1\" class=\"dataframe\">\n",
       "  <thead>\n",
       "    <tr style=\"text-align: right;\">\n",
       "      <th></th>\n",
       "      <th>important</th>\n",
       "    </tr>\n",
       "  </thead>\n",
       "  <tbody>\n",
       "    <tr>\n",
       "      <th>BMI</th>\n",
       "      <td>0.008368</td>\n",
       "    </tr>\n",
       "    <tr>\n",
       "      <th>Alcohol_Units_Per_Week</th>\n",
       "      <td>0.008427</td>\n",
       "    </tr>\n",
       "    <tr>\n",
       "      <th>Air_Pollution_Index</th>\n",
       "      <td>0.023899</td>\n",
       "    </tr>\n",
       "    <tr>\n",
       "      <th>Occupational_Hazard_Score</th>\n",
       "      <td>0.040709</td>\n",
       "    </tr>\n",
       "    <tr>\n",
       "      <th>Exposure_to_Dust_Years</th>\n",
       "      <td>0.033220</td>\n",
       "    </tr>\n",
       "    <tr>\n",
       "      <th>Physical_Activity_Level</th>\n",
       "      <td>0.009694</td>\n",
       "    </tr>\n",
       "    <tr>\n",
       "      <th>FEV1</th>\n",
       "      <td>0.180722</td>\n",
       "    </tr>\n",
       "    <tr>\n",
       "      <th>Allergy</th>\n",
       "      <td>0.054821</td>\n",
       "    </tr>\n",
       "    <tr>\n",
       "      <th>Wheezing</th>\n",
       "      <td>0.049938</td>\n",
       "    </tr>\n",
       "    <tr>\n",
       "      <th>Coughing</th>\n",
       "      <td>0.112577</td>\n",
       "    </tr>\n",
       "    <tr>\n",
       "      <th>Fatigue</th>\n",
       "      <td>0.117100</td>\n",
       "    </tr>\n",
       "    <tr>\n",
       "      <th>Chest_Pain</th>\n",
       "      <td>0.083706</td>\n",
       "    </tr>\n",
       "    <tr>\n",
       "      <th>Shortness_of_Breath</th>\n",
       "      <td>0.062345</td>\n",
       "    </tr>\n",
       "    <tr>\n",
       "      <th>Chronic_Disease</th>\n",
       "      <td>0.080844</td>\n",
       "    </tr>\n",
       "    <tr>\n",
       "      <th>Family_History_Lung_Disease</th>\n",
       "      <td>0.068825</td>\n",
       "    </tr>\n",
       "    <tr>\n",
       "      <th>Total_Smoking_Exposure</th>\n",
       "      <td>0.064806</td>\n",
       "    </tr>\n",
       "  </tbody>\n",
       "</table>\n",
       "</div>"
      ],
      "text/plain": [
       "                             important\n",
       "BMI                           0.008368\n",
       "Alcohol_Units_Per_Week        0.008427\n",
       "Air_Pollution_Index           0.023899\n",
       "Occupational_Hazard_Score     0.040709\n",
       "Exposure_to_Dust_Years        0.033220\n",
       "Physical_Activity_Level       0.009694\n",
       "FEV1                          0.180722\n",
       "Allergy                       0.054821\n",
       "Wheezing                      0.049938\n",
       "Coughing                      0.112577\n",
       "Fatigue                       0.117100\n",
       "Chest_Pain                    0.083706\n",
       "Shortness_of_Breath           0.062345\n",
       "Chronic_Disease               0.080844\n",
       "Family_History_Lung_Disease   0.068825\n",
       "Total_Smoking_Exposure        0.064806"
      ]
     },
     "execution_count": 84,
     "metadata": {},
     "output_type": "execute_result"
    }
   ],
   "source": [
    "s1 = pd.DataFrame(grid_rf.best_estimator_.feature_importances_, columns = ['important'] , index = X_train.columns.to_list())\n",
    "s1"
   ]
  },
  {
   "cell_type": "code",
   "execution_count": 85,
   "id": "e8a85fc3-2cd6-4056-bc5b-5483c8d67cd1",
   "metadata": {},
   "outputs": [
    {
     "data": {
      "text/plain": [
       "['BMI',\n",
       " 'Alcohol_Units_Per_Week',\n",
       " 'Air_Pollution_Index',\n",
       " 'Occupational_Hazard_Score',\n",
       " 'Exposure_to_Dust_Years',\n",
       " 'Physical_Activity_Level',\n",
       " 'FEV1',\n",
       " 'Allergy',\n",
       " 'Wheezing',\n",
       " 'Coughing',\n",
       " 'Fatigue',\n",
       " 'Chest_Pain',\n",
       " 'Shortness_of_Breath',\n",
       " 'Chronic_Disease',\n",
       " 'Family_History_Lung_Disease',\n",
       " 'Total_Smoking_Exposure']"
      ]
     },
     "execution_count": 85,
     "metadata": {},
     "output_type": "execute_result"
    }
   ],
   "source": [
    "imp_features = s1[s1['important']>0].index.tolist()\n",
    "imp_features"
   ]
  },
  {
   "cell_type": "code",
   "execution_count": 86,
   "id": "805eb31f-0fb7-4a1e-a829-2a2352d5e9e0",
   "metadata": {},
   "outputs": [
    {
     "data": {
      "text/html": [
       "<style>#sk-container-id-6 {color: black;background-color: white;}#sk-container-id-6 pre{padding: 0;}#sk-container-id-6 div.sk-toggleable {background-color: white;}#sk-container-id-6 label.sk-toggleable__label {cursor: pointer;display: block;width: 100%;margin-bottom: 0;padding: 0.3em;box-sizing: border-box;text-align: center;}#sk-container-id-6 label.sk-toggleable__label-arrow:before {content: \"▸\";float: left;margin-right: 0.25em;color: #696969;}#sk-container-id-6 label.sk-toggleable__label-arrow:hover:before {color: black;}#sk-container-id-6 div.sk-estimator:hover label.sk-toggleable__label-arrow:before {color: black;}#sk-container-id-6 div.sk-toggleable__content {max-height: 0;max-width: 0;overflow: hidden;text-align: left;background-color: #f0f8ff;}#sk-container-id-6 div.sk-toggleable__content pre {margin: 0.2em;color: black;border-radius: 0.25em;background-color: #f0f8ff;}#sk-container-id-6 input.sk-toggleable__control:checked~div.sk-toggleable__content {max-height: 200px;max-width: 100%;overflow: auto;}#sk-container-id-6 input.sk-toggleable__control:checked~label.sk-toggleable__label-arrow:before {content: \"▾\";}#sk-container-id-6 div.sk-estimator input.sk-toggleable__control:checked~label.sk-toggleable__label {background-color: #d4ebff;}#sk-container-id-6 div.sk-label input.sk-toggleable__control:checked~label.sk-toggleable__label {background-color: #d4ebff;}#sk-container-id-6 input.sk-hidden--visually {border: 0;clip: rect(1px 1px 1px 1px);clip: rect(1px, 1px, 1px, 1px);height: 1px;margin: -1px;overflow: hidden;padding: 0;position: absolute;width: 1px;}#sk-container-id-6 div.sk-estimator {font-family: monospace;background-color: #f0f8ff;border: 1px dotted black;border-radius: 0.25em;box-sizing: border-box;margin-bottom: 0.5em;}#sk-container-id-6 div.sk-estimator:hover {background-color: #d4ebff;}#sk-container-id-6 div.sk-parallel-item::after {content: \"\";width: 100%;border-bottom: 1px solid gray;flex-grow: 1;}#sk-container-id-6 div.sk-label:hover label.sk-toggleable__label {background-color: #d4ebff;}#sk-container-id-6 div.sk-serial::before {content: \"\";position: absolute;border-left: 1px solid gray;box-sizing: border-box;top: 0;bottom: 0;left: 50%;z-index: 0;}#sk-container-id-6 div.sk-serial {display: flex;flex-direction: column;align-items: center;background-color: white;padding-right: 0.2em;padding-left: 0.2em;position: relative;}#sk-container-id-6 div.sk-item {position: relative;z-index: 1;}#sk-container-id-6 div.sk-parallel {display: flex;align-items: stretch;justify-content: center;background-color: white;position: relative;}#sk-container-id-6 div.sk-item::before, #sk-container-id-6 div.sk-parallel-item::before {content: \"\";position: absolute;border-left: 1px solid gray;box-sizing: border-box;top: 0;bottom: 0;left: 50%;z-index: -1;}#sk-container-id-6 div.sk-parallel-item {display: flex;flex-direction: column;z-index: 1;position: relative;background-color: white;}#sk-container-id-6 div.sk-parallel-item:first-child::after {align-self: flex-end;width: 50%;}#sk-container-id-6 div.sk-parallel-item:last-child::after {align-self: flex-start;width: 50%;}#sk-container-id-6 div.sk-parallel-item:only-child::after {width: 0;}#sk-container-id-6 div.sk-dashed-wrapped {border: 1px dashed gray;margin: 0 0.4em 0.5em 0.4em;box-sizing: border-box;padding-bottom: 0.4em;background-color: white;}#sk-container-id-6 div.sk-label label {font-family: monospace;font-weight: bold;display: inline-block;line-height: 1.2em;}#sk-container-id-6 div.sk-label-container {text-align: center;}#sk-container-id-6 div.sk-container {/* jupyter's `normalize.less` sets `[hidden] { display: none; }` but bootstrap.min.css set `[hidden] { display: none !important; }` so we also need the `!important` here to be able to override the default hidden behavior on the sphinx rendered scikit-learn.org. See: https://github.com/scikit-learn/scikit-learn/issues/21755 */display: inline-block !important;position: relative;}#sk-container-id-6 div.sk-text-repr-fallback {display: none;}</style><div id=\"sk-container-id-6\" class=\"sk-top-container\"><div class=\"sk-text-repr-fallback\"><pre>RandomForestClassifier(n_estimators=18)</pre><b>In a Jupyter environment, please rerun this cell to show the HTML representation or trust the notebook. <br />On GitHub, the HTML representation is unable to render, please try loading this page with nbviewer.org.</b></div><div class=\"sk-container\" hidden><div class=\"sk-item\"><div class=\"sk-estimator sk-toggleable\"><input class=\"sk-toggleable__control sk-hidden--visually\" id=\"sk-estimator-id-6\" type=\"checkbox\" checked><label for=\"sk-estimator-id-6\" class=\"sk-toggleable__label sk-toggleable__label-arrow\">RandomForestClassifier</label><div class=\"sk-toggleable__content\"><pre>RandomForestClassifier(n_estimators=18)</pre></div></div></div></div></div>"
      ],
      "text/plain": [
       "RandomForestClassifier(n_estimators=18)"
      ]
     },
     "execution_count": 86,
     "metadata": {},
     "output_type": "execute_result"
    }
   ],
   "source": [
    "X_imp = X[imp_features]\n",
    "X_train , X_test , y_train , y_test = train_test_split(X_imp , y , train_size = 0.8, random_state = 43)\n",
    "rf = RandomForestClassifier(n_estimators=18)\n",
    "\n",
    "rf.fit(X_train , y_train)"
   ]
  },
  {
   "cell_type": "code",
   "execution_count": 87,
   "id": "dde2443f-a91c-4330-8adf-63b69419f6b5",
   "metadata": {},
   "outputs": [],
   "source": [
    "ypred_train = rf.predict(X_train)\n",
    "ypred_test = rf.predict(X_test)"
   ]
  },
  {
   "cell_type": "code",
   "execution_count": 88,
   "id": "177c98cd-473d-4cba-8e61-b99c82f5c452",
   "metadata": {},
   "outputs": [
    {
     "name": "stdout",
     "output_type": "stream",
     "text": [
      "train_accuracy :  0.99875\n",
      "test_accuracy: 0.995\n",
      "CVS :  0.9762500000000001\n"
     ]
    }
   ],
   "source": [
    "print('train_accuracy : ' , accuracy_score(ypred_train , y_train))\n",
    "print('test_accuracy:' , accuracy_score(ypred_test , y_test))\n",
    "print('CVS : ' , cross_val_score(rf , X_train , y_train , cv =5).mean())"
   ]
  },
  {
   "cell_type": "code",
   "execution_count": 89,
   "id": "e8375cad-057f-451b-988e-4819e38761c0",
   "metadata": {},
   "outputs": [
    {
     "name": "stdout",
     "output_type": "stream",
     "text": [
      "Confusion_matrix: [[101   0]\n",
      " [  1  98]]\n",
      "classification_report:               precision    recall  f1-score   support\n",
      "\n",
      "           0       0.99      1.00      1.00       101\n",
      "           1       1.00      0.99      0.99        99\n",
      "\n",
      "    accuracy                           0.99       200\n",
      "   macro avg       1.00      0.99      0.99       200\n",
      "weighted avg       1.00      0.99      0.99       200\n",
      "\n"
     ]
    }
   ],
   "source": [
    "print('Confusion_matrix:' , confusion_matrix(y_test , ypred_test))\n",
    "print('classification_report:' ,classification_report(y_test , ypred_test))"
   ]
  },
  {
   "cell_type": "markdown",
   "id": "a747fe39-96ce-48ee-8f01-f3183ae0a9f5",
   "metadata": {},
   "source": [
    "The model shows very high training accuracy and excellent generalization, with only a small drop in performance on test and CV scores — indicating a well-tuned ensemble.\n",
    "\n",
    "**Interpretation**\n",
    "Very low bias: Almost perfect training performance.\n",
    "\n",
    "Controlled variance: High test and cross-validation accuracy, showing limited overfitting.\n",
    "\n",
    "Feature Importance: Only impactful features were used, improving model efficiency."
   ]
  },
  {
   "cell_type": "markdown",
   "id": "3b3270db-648c-4ccd-9e07-4650731687b2",
   "metadata": {},
   "source": [
    "# ADA BOOST"
   ]
  },
  {
   "cell_type": "markdown",
   "id": "9b81b630-a210-443a-90bf-d8be5fe16c1e",
   "metadata": {},
   "source": [
    "#### Modeling"
   ]
  },
  {
   "cell_type": "code",
   "execution_count": 90,
   "id": "0cbf9944-3bd7-4b51-b490-ada34e23b40b",
   "metadata": {},
   "outputs": [
    {
     "data": {
      "text/html": [
       "<style>#sk-container-id-7 {color: black;background-color: white;}#sk-container-id-7 pre{padding: 0;}#sk-container-id-7 div.sk-toggleable {background-color: white;}#sk-container-id-7 label.sk-toggleable__label {cursor: pointer;display: block;width: 100%;margin-bottom: 0;padding: 0.3em;box-sizing: border-box;text-align: center;}#sk-container-id-7 label.sk-toggleable__label-arrow:before {content: \"▸\";float: left;margin-right: 0.25em;color: #696969;}#sk-container-id-7 label.sk-toggleable__label-arrow:hover:before {color: black;}#sk-container-id-7 div.sk-estimator:hover label.sk-toggleable__label-arrow:before {color: black;}#sk-container-id-7 div.sk-toggleable__content {max-height: 0;max-width: 0;overflow: hidden;text-align: left;background-color: #f0f8ff;}#sk-container-id-7 div.sk-toggleable__content pre {margin: 0.2em;color: black;border-radius: 0.25em;background-color: #f0f8ff;}#sk-container-id-7 input.sk-toggleable__control:checked~div.sk-toggleable__content {max-height: 200px;max-width: 100%;overflow: auto;}#sk-container-id-7 input.sk-toggleable__control:checked~label.sk-toggleable__label-arrow:before {content: \"▾\";}#sk-container-id-7 div.sk-estimator input.sk-toggleable__control:checked~label.sk-toggleable__label {background-color: #d4ebff;}#sk-container-id-7 div.sk-label input.sk-toggleable__control:checked~label.sk-toggleable__label {background-color: #d4ebff;}#sk-container-id-7 input.sk-hidden--visually {border: 0;clip: rect(1px 1px 1px 1px);clip: rect(1px, 1px, 1px, 1px);height: 1px;margin: -1px;overflow: hidden;padding: 0;position: absolute;width: 1px;}#sk-container-id-7 div.sk-estimator {font-family: monospace;background-color: #f0f8ff;border: 1px dotted black;border-radius: 0.25em;box-sizing: border-box;margin-bottom: 0.5em;}#sk-container-id-7 div.sk-estimator:hover {background-color: #d4ebff;}#sk-container-id-7 div.sk-parallel-item::after {content: \"\";width: 100%;border-bottom: 1px solid gray;flex-grow: 1;}#sk-container-id-7 div.sk-label:hover label.sk-toggleable__label {background-color: #d4ebff;}#sk-container-id-7 div.sk-serial::before {content: \"\";position: absolute;border-left: 1px solid gray;box-sizing: border-box;top: 0;bottom: 0;left: 50%;z-index: 0;}#sk-container-id-7 div.sk-serial {display: flex;flex-direction: column;align-items: center;background-color: white;padding-right: 0.2em;padding-left: 0.2em;position: relative;}#sk-container-id-7 div.sk-item {position: relative;z-index: 1;}#sk-container-id-7 div.sk-parallel {display: flex;align-items: stretch;justify-content: center;background-color: white;position: relative;}#sk-container-id-7 div.sk-item::before, #sk-container-id-7 div.sk-parallel-item::before {content: \"\";position: absolute;border-left: 1px solid gray;box-sizing: border-box;top: 0;bottom: 0;left: 50%;z-index: -1;}#sk-container-id-7 div.sk-parallel-item {display: flex;flex-direction: column;z-index: 1;position: relative;background-color: white;}#sk-container-id-7 div.sk-parallel-item:first-child::after {align-self: flex-end;width: 50%;}#sk-container-id-7 div.sk-parallel-item:last-child::after {align-self: flex-start;width: 50%;}#sk-container-id-7 div.sk-parallel-item:only-child::after {width: 0;}#sk-container-id-7 div.sk-dashed-wrapped {border: 1px dashed gray;margin: 0 0.4em 0.5em 0.4em;box-sizing: border-box;padding-bottom: 0.4em;background-color: white;}#sk-container-id-7 div.sk-label label {font-family: monospace;font-weight: bold;display: inline-block;line-height: 1.2em;}#sk-container-id-7 div.sk-label-container {text-align: center;}#sk-container-id-7 div.sk-container {/* jupyter's `normalize.less` sets `[hidden] { display: none; }` but bootstrap.min.css set `[hidden] { display: none !important; }` so we also need the `!important` here to be able to override the default hidden behavior on the sphinx rendered scikit-learn.org. See: https://github.com/scikit-learn/scikit-learn/issues/21755 */display: inline-block !important;position: relative;}#sk-container-id-7 div.sk-text-repr-fallback {display: none;}</style><div id=\"sk-container-id-7\" class=\"sk-top-container\"><div class=\"sk-text-repr-fallback\"><pre>AdaBoostClassifier(n_estimators=14)</pre><b>In a Jupyter environment, please rerun this cell to show the HTML representation or trust the notebook. <br />On GitHub, the HTML representation is unable to render, please try loading this page with nbviewer.org.</b></div><div class=\"sk-container\" hidden><div class=\"sk-item\"><div class=\"sk-estimator sk-toggleable\"><input class=\"sk-toggleable__control sk-hidden--visually\" id=\"sk-estimator-id-7\" type=\"checkbox\" checked><label for=\"sk-estimator-id-7\" class=\"sk-toggleable__label sk-toggleable__label-arrow\">AdaBoostClassifier</label><div class=\"sk-toggleable__content\"><pre>AdaBoostClassifier(n_estimators=14)</pre></div></div></div></div></div>"
      ],
      "text/plain": [
       "AdaBoostClassifier(n_estimators=14)"
      ]
     },
     "execution_count": 90,
     "metadata": {},
     "output_type": "execute_result"
    }
   ],
   "source": [
    "estimator = AdaBoostClassifier()\n",
    "param_grid = {'n_estimators' : list(range(1,20))}\n",
    "grid = GridSearchCV(estimator , param_grid , cv = 5 , scoring = 'accuracy')\n",
    "grid.fit(X_train , y_train)\n",
    "grid.best_estimator_"
   ]
  },
  {
   "cell_type": "code",
   "execution_count": 91,
   "id": "2568ae37-4b79-4ca6-a397-c9aaf2ce1b7f",
   "metadata": {},
   "outputs": [
    {
     "data": {
      "text/html": [
       "<div>\n",
       "<style scoped>\n",
       "    .dataframe tbody tr th:only-of-type {\n",
       "        vertical-align: middle;\n",
       "    }\n",
       "\n",
       "    .dataframe tbody tr th {\n",
       "        vertical-align: top;\n",
       "    }\n",
       "\n",
       "    .dataframe thead th {\n",
       "        text-align: right;\n",
       "    }\n",
       "</style>\n",
       "<table border=\"1\" class=\"dataframe\">\n",
       "  <thead>\n",
       "    <tr style=\"text-align: right;\">\n",
       "      <th></th>\n",
       "      <th>imp</th>\n",
       "    </tr>\n",
       "  </thead>\n",
       "  <tbody>\n",
       "    <tr>\n",
       "      <th>BMI</th>\n",
       "      <td>0.000000</td>\n",
       "    </tr>\n",
       "    <tr>\n",
       "      <th>Alcohol_Units_Per_Week</th>\n",
       "      <td>0.000000</td>\n",
       "    </tr>\n",
       "    <tr>\n",
       "      <th>Air_Pollution_Index</th>\n",
       "      <td>0.071429</td>\n",
       "    </tr>\n",
       "    <tr>\n",
       "      <th>Occupational_Hazard_Score</th>\n",
       "      <td>0.071429</td>\n",
       "    </tr>\n",
       "    <tr>\n",
       "      <th>Exposure_to_Dust_Years</th>\n",
       "      <td>0.071429</td>\n",
       "    </tr>\n",
       "    <tr>\n",
       "      <th>Physical_Activity_Level</th>\n",
       "      <td>0.000000</td>\n",
       "    </tr>\n",
       "    <tr>\n",
       "      <th>FEV1</th>\n",
       "      <td>0.142857</td>\n",
       "    </tr>\n",
       "    <tr>\n",
       "      <th>Allergy</th>\n",
       "      <td>0.071429</td>\n",
       "    </tr>\n",
       "    <tr>\n",
       "      <th>Wheezing</th>\n",
       "      <td>0.071429</td>\n",
       "    </tr>\n",
       "    <tr>\n",
       "      <th>Coughing</th>\n",
       "      <td>0.071429</td>\n",
       "    </tr>\n",
       "    <tr>\n",
       "      <th>Fatigue</th>\n",
       "      <td>0.071429</td>\n",
       "    </tr>\n",
       "    <tr>\n",
       "      <th>Chest_Pain</th>\n",
       "      <td>0.142857</td>\n",
       "    </tr>\n",
       "    <tr>\n",
       "      <th>Shortness_of_Breath</th>\n",
       "      <td>0.071429</td>\n",
       "    </tr>\n",
       "    <tr>\n",
       "      <th>Chronic_Disease</th>\n",
       "      <td>0.071429</td>\n",
       "    </tr>\n",
       "    <tr>\n",
       "      <th>Family_History_Lung_Disease</th>\n",
       "      <td>0.071429</td>\n",
       "    </tr>\n",
       "    <tr>\n",
       "      <th>Total_Smoking_Exposure</th>\n",
       "      <td>0.000000</td>\n",
       "    </tr>\n",
       "  </tbody>\n",
       "</table>\n",
       "</div>"
      ],
      "text/plain": [
       "                                  imp\n",
       "BMI                          0.000000\n",
       "Alcohol_Units_Per_Week       0.000000\n",
       "Air_Pollution_Index          0.071429\n",
       "Occupational_Hazard_Score    0.071429\n",
       "Exposure_to_Dust_Years       0.071429\n",
       "Physical_Activity_Level      0.000000\n",
       "FEV1                         0.142857\n",
       "Allergy                      0.071429\n",
       "Wheezing                     0.071429\n",
       "Coughing                     0.071429\n",
       "Fatigue                      0.071429\n",
       "Chest_Pain                   0.142857\n",
       "Shortness_of_Breath          0.071429\n",
       "Chronic_Disease              0.071429\n",
       "Family_History_Lung_Disease  0.071429\n",
       "Total_Smoking_Exposure       0.000000"
      ]
     },
     "execution_count": 91,
     "metadata": {},
     "output_type": "execute_result"
    }
   ],
   "source": [
    "s1 = pd.DataFrame(grid.best_estimator_.feature_importances_ , columns =['imp'], index = X_train.columns.to_list())\n",
    "s1"
   ]
  },
  {
   "cell_type": "code",
   "execution_count": 92,
   "id": "532a79d3-ee5f-44f8-ba2e-a46aa6a1559c",
   "metadata": {},
   "outputs": [
    {
     "data": {
      "text/plain": [
       "['Air_Pollution_Index',\n",
       " 'Occupational_Hazard_Score',\n",
       " 'Exposure_to_Dust_Years',\n",
       " 'FEV1',\n",
       " 'Allergy',\n",
       " 'Wheezing',\n",
       " 'Coughing',\n",
       " 'Fatigue',\n",
       " 'Chest_Pain',\n",
       " 'Shortness_of_Breath',\n",
       " 'Chronic_Disease',\n",
       " 'Family_History_Lung_Disease']"
      ]
     },
     "execution_count": 92,
     "metadata": {},
     "output_type": "execute_result"
    }
   ],
   "source": [
    "imp_features = s1[s1['imp']>0].index.to_list()\n",
    "imp_features"
   ]
  },
  {
   "cell_type": "code",
   "execution_count": 93,
   "id": "a742c53d-568d-45a6-b65e-c63dbb80ae24",
   "metadata": {},
   "outputs": [],
   "source": [
    "# Convert column indexes (int) to column names\n",
    "imp_feature_names = [X.columns[i] for i in imp_feature]\n",
    "\n",
    "# Now use column names\n",
    "X_imp = X[imp_feature_names]\n"
   ]
  },
  {
   "cell_type": "code",
   "execution_count": 94,
   "id": "743db094-8917-4e86-bbd2-9bb06bb68b8a",
   "metadata": {},
   "outputs": [
    {
     "name": "stdout",
     "output_type": "stream",
     "text": [
      "accuracy_score 0.99875\n",
      "cvs: 0.8325000000000001\n",
      "test_accuracy: 0.995\n"
     ]
    }
   ],
   "source": [
    "\n",
    "X_train , X_test , y_train , y_test = train_test_split(X_imp , y, train_size = 0.8,random_state = 43)\n",
    "ada=AdaBoostClassifier(n_estimators = 2)\n",
    "ada.fit(X_train, y_train)\n",
    "\n",
    "print('accuracy_score' , accuracy_score(ypred_train , y_train))\n",
    "print('cvs:'  , cross_val_score(ada , X_train , y_train , cv = 5).mean())\n",
    "print('test_accuracy:' , accuracy_score(ypred_test , y_test))"
   ]
  },
  {
   "cell_type": "code",
   "execution_count": 95,
   "id": "ea15b7ab-36de-44de-bacb-d65655679e58",
   "metadata": {},
   "outputs": [
    {
     "name": "stdout",
     "output_type": "stream",
     "text": [
      "Confusion_matrix: [[101   0]\n",
      " [  1  98]]\n",
      "classification_report:               precision    recall  f1-score   support\n",
      "\n",
      "           0       0.99      1.00      1.00       101\n",
      "           1       1.00      0.99      0.99        99\n",
      "\n",
      "    accuracy                           0.99       200\n",
      "   macro avg       1.00      0.99      0.99       200\n",
      "weighted avg       1.00      0.99      0.99       200\n",
      "\n"
     ]
    }
   ],
   "source": [
    "print('Confusion_matrix:' , confusion_matrix(y_test , ypred_test))\n",
    "print('classification_report:' ,classification_report(y_test , ypred_test))"
   ]
  },
  {
   "cell_type": "markdown",
   "id": "1777a121-6fb3-4e3f-a73d-d3f065ddba50",
   "metadata": {},
   "source": [
    "Very high training and test accuracy, indicating the model fits the training data well and also performs well on unseen data.\n",
    "\n",
    "Lower cross-validation score (83.25%) compared to train/test performance:\n",
    "\n",
    "May suggest slight overfitting."
   ]
  },
  {
   "cell_type": "markdown",
   "id": "2eca2dfb-712d-4ce8-b4b2-3b5fb7cb61b0",
   "metadata": {},
   "source": [
    "# Gradient Boosting\n",
    "\n",
    "#### Modeling"
   ]
  },
  {
   "cell_type": "code",
   "execution_count": 96,
   "id": "61eefb98-5a11-48f1-81f0-cc35d2beb77e",
   "metadata": {},
   "outputs": [
    {
     "data": {
      "text/html": [
       "<style>#sk-container-id-8 {color: black;background-color: white;}#sk-container-id-8 pre{padding: 0;}#sk-container-id-8 div.sk-toggleable {background-color: white;}#sk-container-id-8 label.sk-toggleable__label {cursor: pointer;display: block;width: 100%;margin-bottom: 0;padding: 0.3em;box-sizing: border-box;text-align: center;}#sk-container-id-8 label.sk-toggleable__label-arrow:before {content: \"▸\";float: left;margin-right: 0.25em;color: #696969;}#sk-container-id-8 label.sk-toggleable__label-arrow:hover:before {color: black;}#sk-container-id-8 div.sk-estimator:hover label.sk-toggleable__label-arrow:before {color: black;}#sk-container-id-8 div.sk-toggleable__content {max-height: 0;max-width: 0;overflow: hidden;text-align: left;background-color: #f0f8ff;}#sk-container-id-8 div.sk-toggleable__content pre {margin: 0.2em;color: black;border-radius: 0.25em;background-color: #f0f8ff;}#sk-container-id-8 input.sk-toggleable__control:checked~div.sk-toggleable__content {max-height: 200px;max-width: 100%;overflow: auto;}#sk-container-id-8 input.sk-toggleable__control:checked~label.sk-toggleable__label-arrow:before {content: \"▾\";}#sk-container-id-8 div.sk-estimator input.sk-toggleable__control:checked~label.sk-toggleable__label {background-color: #d4ebff;}#sk-container-id-8 div.sk-label input.sk-toggleable__control:checked~label.sk-toggleable__label {background-color: #d4ebff;}#sk-container-id-8 input.sk-hidden--visually {border: 0;clip: rect(1px 1px 1px 1px);clip: rect(1px, 1px, 1px, 1px);height: 1px;margin: -1px;overflow: hidden;padding: 0;position: absolute;width: 1px;}#sk-container-id-8 div.sk-estimator {font-family: monospace;background-color: #f0f8ff;border: 1px dotted black;border-radius: 0.25em;box-sizing: border-box;margin-bottom: 0.5em;}#sk-container-id-8 div.sk-estimator:hover {background-color: #d4ebff;}#sk-container-id-8 div.sk-parallel-item::after {content: \"\";width: 100%;border-bottom: 1px solid gray;flex-grow: 1;}#sk-container-id-8 div.sk-label:hover label.sk-toggleable__label {background-color: #d4ebff;}#sk-container-id-8 div.sk-serial::before {content: \"\";position: absolute;border-left: 1px solid gray;box-sizing: border-box;top: 0;bottom: 0;left: 50%;z-index: 0;}#sk-container-id-8 div.sk-serial {display: flex;flex-direction: column;align-items: center;background-color: white;padding-right: 0.2em;padding-left: 0.2em;position: relative;}#sk-container-id-8 div.sk-item {position: relative;z-index: 1;}#sk-container-id-8 div.sk-parallel {display: flex;align-items: stretch;justify-content: center;background-color: white;position: relative;}#sk-container-id-8 div.sk-item::before, #sk-container-id-8 div.sk-parallel-item::before {content: \"\";position: absolute;border-left: 1px solid gray;box-sizing: border-box;top: 0;bottom: 0;left: 50%;z-index: -1;}#sk-container-id-8 div.sk-parallel-item {display: flex;flex-direction: column;z-index: 1;position: relative;background-color: white;}#sk-container-id-8 div.sk-parallel-item:first-child::after {align-self: flex-end;width: 50%;}#sk-container-id-8 div.sk-parallel-item:last-child::after {align-self: flex-start;width: 50%;}#sk-container-id-8 div.sk-parallel-item:only-child::after {width: 0;}#sk-container-id-8 div.sk-dashed-wrapped {border: 1px dashed gray;margin: 0 0.4em 0.5em 0.4em;box-sizing: border-box;padding-bottom: 0.4em;background-color: white;}#sk-container-id-8 div.sk-label label {font-family: monospace;font-weight: bold;display: inline-block;line-height: 1.2em;}#sk-container-id-8 div.sk-label-container {text-align: center;}#sk-container-id-8 div.sk-container {/* jupyter's `normalize.less` sets `[hidden] { display: none; }` but bootstrap.min.css set `[hidden] { display: none !important; }` so we also need the `!important` here to be able to override the default hidden behavior on the sphinx rendered scikit-learn.org. See: https://github.com/scikit-learn/scikit-learn/issues/21755 */display: inline-block !important;position: relative;}#sk-container-id-8 div.sk-text-repr-fallback {display: none;}</style><div id=\"sk-container-id-8\" class=\"sk-top-container\"><div class=\"sk-text-repr-fallback\"><pre>GradientBoostingClassifier(learning_rate=0.05, n_estimators=170)</pre><b>In a Jupyter environment, please rerun this cell to show the HTML representation or trust the notebook. <br />On GitHub, the HTML representation is unable to render, please try loading this page with nbviewer.org.</b></div><div class=\"sk-container\" hidden><div class=\"sk-item\"><div class=\"sk-estimator sk-toggleable\"><input class=\"sk-toggleable__control sk-hidden--visually\" id=\"sk-estimator-id-8\" type=\"checkbox\" checked><label for=\"sk-estimator-id-8\" class=\"sk-toggleable__label sk-toggleable__label-arrow\">GradientBoostingClassifier</label><div class=\"sk-toggleable__content\"><pre>GradientBoostingClassifier(learning_rate=0.05, n_estimators=170)</pre></div></div></div></div></div>"
      ],
      "text/plain": [
       "GradientBoostingClassifier(learning_rate=0.05, n_estimators=170)"
      ]
     },
     "execution_count": 96,
     "metadata": {},
     "output_type": "execute_result"
    }
   ],
   "source": [
    "estimator = GradientBoostingClassifier()\n",
    "param_grid = { 'n_estimators': list(range(10, 201, 10)),'learning_rate': [0.01, 0.05, 0.1, 0.2]}\n",
    "grid = GridSearchCV(estimator , param_grid , cv = 5 , scoring = 'accuracy')\n",
    "grid.fit(X_train , y_train)\n",
    "grid.best_estimator_"
   ]
  },
  {
   "cell_type": "code",
   "execution_count": 97,
   "id": "a888541f-9439-486c-8651-b7d5652b13c4",
   "metadata": {},
   "outputs": [
    {
     "data": {
      "text/html": [
       "<div>\n",
       "<style scoped>\n",
       "    .dataframe tbody tr th:only-of-type {\n",
       "        vertical-align: middle;\n",
       "    }\n",
       "\n",
       "    .dataframe tbody tr th {\n",
       "        vertical-align: top;\n",
       "    }\n",
       "\n",
       "    .dataframe thead th {\n",
       "        text-align: right;\n",
       "    }\n",
       "</style>\n",
       "<table border=\"1\" class=\"dataframe\">\n",
       "  <thead>\n",
       "    <tr style=\"text-align: right;\">\n",
       "      <th></th>\n",
       "      <th>imp</th>\n",
       "    </tr>\n",
       "  </thead>\n",
       "  <tbody>\n",
       "    <tr>\n",
       "      <th>BMI</th>\n",
       "      <td>0.000311</td>\n",
       "    </tr>\n",
       "    <tr>\n",
       "      <th>Alcohol_Units_Per_Week</th>\n",
       "      <td>0.000185</td>\n",
       "    </tr>\n",
       "    <tr>\n",
       "      <th>Air_Pollution_Index</th>\n",
       "      <td>0.015263</td>\n",
       "    </tr>\n",
       "    <tr>\n",
       "      <th>Occupational_Hazard_Score</th>\n",
       "      <td>0.061067</td>\n",
       "    </tr>\n",
       "    <tr>\n",
       "      <th>Exposure_to_Dust_Years</th>\n",
       "      <td>0.019361</td>\n",
       "    </tr>\n",
       "    <tr>\n",
       "      <th>Physical_Activity_Level</th>\n",
       "      <td>0.000568</td>\n",
       "    </tr>\n",
       "    <tr>\n",
       "      <th>FEV1</th>\n",
       "      <td>0.339991</td>\n",
       "    </tr>\n",
       "    <tr>\n",
       "      <th>Allergy</th>\n",
       "      <td>0.008255</td>\n",
       "    </tr>\n",
       "    <tr>\n",
       "      <th>Wheezing</th>\n",
       "      <td>0.019652</td>\n",
       "    </tr>\n",
       "    <tr>\n",
       "      <th>Coughing</th>\n",
       "      <td>0.076149</td>\n",
       "    </tr>\n",
       "    <tr>\n",
       "      <th>Fatigue</th>\n",
       "      <td>0.093323</td>\n",
       "    </tr>\n",
       "    <tr>\n",
       "      <th>Chest_Pain</th>\n",
       "      <td>0.182598</td>\n",
       "    </tr>\n",
       "    <tr>\n",
       "      <th>Shortness_of_Breath</th>\n",
       "      <td>0.071898</td>\n",
       "    </tr>\n",
       "    <tr>\n",
       "      <th>Chronic_Disease</th>\n",
       "      <td>0.031832</td>\n",
       "    </tr>\n",
       "    <tr>\n",
       "      <th>Family_History_Lung_Disease</th>\n",
       "      <td>0.059064</td>\n",
       "    </tr>\n",
       "    <tr>\n",
       "      <th>Total_Smoking_Exposure</th>\n",
       "      <td>0.020483</td>\n",
       "    </tr>\n",
       "  </tbody>\n",
       "</table>\n",
       "</div>"
      ],
      "text/plain": [
       "                                  imp\n",
       "BMI                          0.000311\n",
       "Alcohol_Units_Per_Week       0.000185\n",
       "Air_Pollution_Index          0.015263\n",
       "Occupational_Hazard_Score    0.061067\n",
       "Exposure_to_Dust_Years       0.019361\n",
       "Physical_Activity_Level      0.000568\n",
       "FEV1                         0.339991\n",
       "Allergy                      0.008255\n",
       "Wheezing                     0.019652\n",
       "Coughing                     0.076149\n",
       "Fatigue                      0.093323\n",
       "Chest_Pain                   0.182598\n",
       "Shortness_of_Breath          0.071898\n",
       "Chronic_Disease              0.031832\n",
       "Family_History_Lung_Disease  0.059064\n",
       "Total_Smoking_Exposure       0.020483"
      ]
     },
     "execution_count": 97,
     "metadata": {},
     "output_type": "execute_result"
    }
   ],
   "source": [
    "s1 = pd.DataFrame(grid.best_estimator_.feature_importances_ , columns =['imp'], index = X_train.columns.to_list())\n",
    "s1"
   ]
  },
  {
   "cell_type": "code",
   "execution_count": 98,
   "id": "18b69f63-0374-4298-8921-56b5f89ae61a",
   "metadata": {},
   "outputs": [
    {
     "data": {
      "text/plain": [
       "['BMI',\n",
       " 'Alcohol_Units_Per_Week',\n",
       " 'Air_Pollution_Index',\n",
       " 'Occupational_Hazard_Score',\n",
       " 'Exposure_to_Dust_Years',\n",
       " 'Physical_Activity_Level',\n",
       " 'FEV1',\n",
       " 'Allergy',\n",
       " 'Wheezing',\n",
       " 'Coughing',\n",
       " 'Fatigue',\n",
       " 'Chest_Pain',\n",
       " 'Shortness_of_Breath',\n",
       " 'Chronic_Disease',\n",
       " 'Family_History_Lung_Disease',\n",
       " 'Total_Smoking_Exposure']"
      ]
     },
     "execution_count": 98,
     "metadata": {},
     "output_type": "execute_result"
    }
   ],
   "source": [
    "imp_features = s1[s1['imp']>0].index.to_list()\n",
    "imp_features"
   ]
  },
  {
   "cell_type": "code",
   "execution_count": 99,
   "id": "fd8ce47e-be45-4489-8f71-68f607bf0a4d",
   "metadata": {},
   "outputs": [],
   "source": [
    "# Convert integer column indices to column names\n",
    "imp_feature_names = [X.columns[i] for i in imp_feature]\n",
    "\n",
    "# Now select the columns correctly\n",
    "X_imp = X[imp_feature_names]\n"
   ]
  },
  {
   "cell_type": "code",
   "execution_count": 100,
   "id": "a1be6e4c-1348-4abb-94fc-c38fac69c7be",
   "metadata": {},
   "outputs": [
    {
     "name": "stdout",
     "output_type": "stream",
     "text": [
      "accuracy_score 1.0\n",
      "cvs: 0.9887500000000001\n",
      "test_accuracy: 0.985\n"
     ]
    }
   ],
   "source": [
    " \n",
    "X_train , X_test , y_train , y_test = train_test_split(X_imp , y, train_size = 0.8,random_state = 20)\n",
    "gb=GradientBoostingClassifier(learning_rate=0.05, n_estimators=180)\n",
    "gb.fit(X_train, y_train)\n",
    "\n",
    "ypred_train = gb.predict(X_train)\n",
    "ypred_test = gb.predict(X_test)\n",
    "\n",
    "print('accuracy_score' , accuracy_score(ypred_train , y_train))\n",
    "print('cvs:'  , cross_val_score(gb , X_train , y_train , cv = 5).mean())\n",
    "print('test_accuracy:' , accuracy_score(ypred_test , y_test))"
   ]
  },
  {
   "cell_type": "code",
   "execution_count": 101,
   "id": "5645f37b-1104-4781-a106-f3f759b534f5",
   "metadata": {},
   "outputs": [
    {
     "name": "stdout",
     "output_type": "stream",
     "text": [
      "Confusion_matrix: [[ 79   2]\n",
      " [  1 118]]\n",
      "classification_report:               precision    recall  f1-score   support\n",
      "\n",
      "           0       0.99      0.98      0.98        81\n",
      "           1       0.98      0.99      0.99       119\n",
      "\n",
      "    accuracy                           0.98       200\n",
      "   macro avg       0.99      0.98      0.98       200\n",
      "weighted avg       0.99      0.98      0.98       200\n",
      "\n"
     ]
    }
   ],
   "source": [
    "print('Confusion_matrix:' , confusion_matrix(y_test , ypred_test))\n",
    "print('classification_report:' ,classification_report(y_test , ypred_test))"
   ]
  },
  {
   "cell_type": "markdown",
   "id": "9db7ae40-857e-409e-b20f-27a91263dc5c",
   "metadata": {},
   "source": [
    "Class 0: Precision = 0.98, Recall = 0.96, F1 = 0.97\n",
    "\n",
    "Class 1: Precision = 0.96, Recall = 0.98, F1 = 0.97\n",
    "\n",
    "Overall Accuracy: 97%\n",
    "\n",
    "Weighted Avg F1 Score: 0.97"
   ]
  },
  {
   "cell_type": "markdown",
   "id": "1ad609a6-7fef-4d90-a9cc-7671fadeb353",
   "metadata": {},
   "source": [
    "Excellent generalization: High scores across train, test, and CV.\n",
    "\n",
    "Low false positives and negatives, as seen in the confusion matrix.\n",
    "\n",
    "Balanced precision and recall, which is ideal for binary classification."
   ]
  },
  {
   "cell_type": "markdown",
   "id": "1e6d6fa2-7b2a-4e8e-9b8b-78f63ea2fc4a",
   "metadata": {},
   "source": [
    "#  XG Boost\n",
    "\n",
    "#### Modeling"
   ]
  },
  {
   "cell_type": "code",
   "execution_count": 102,
   "id": "f4810a21-05c4-49af-993c-3e44fbc46c2a",
   "metadata": {},
   "outputs": [
    {
     "data": {
      "text/html": [
       "<style>#sk-container-id-9 {color: black;background-color: white;}#sk-container-id-9 pre{padding: 0;}#sk-container-id-9 div.sk-toggleable {background-color: white;}#sk-container-id-9 label.sk-toggleable__label {cursor: pointer;display: block;width: 100%;margin-bottom: 0;padding: 0.3em;box-sizing: border-box;text-align: center;}#sk-container-id-9 label.sk-toggleable__label-arrow:before {content: \"▸\";float: left;margin-right: 0.25em;color: #696969;}#sk-container-id-9 label.sk-toggleable__label-arrow:hover:before {color: black;}#sk-container-id-9 div.sk-estimator:hover label.sk-toggleable__label-arrow:before {color: black;}#sk-container-id-9 div.sk-toggleable__content {max-height: 0;max-width: 0;overflow: hidden;text-align: left;background-color: #f0f8ff;}#sk-container-id-9 div.sk-toggleable__content pre {margin: 0.2em;color: black;border-radius: 0.25em;background-color: #f0f8ff;}#sk-container-id-9 input.sk-toggleable__control:checked~div.sk-toggleable__content {max-height: 200px;max-width: 100%;overflow: auto;}#sk-container-id-9 input.sk-toggleable__control:checked~label.sk-toggleable__label-arrow:before {content: \"▾\";}#sk-container-id-9 div.sk-estimator input.sk-toggleable__control:checked~label.sk-toggleable__label {background-color: #d4ebff;}#sk-container-id-9 div.sk-label input.sk-toggleable__control:checked~label.sk-toggleable__label {background-color: #d4ebff;}#sk-container-id-9 input.sk-hidden--visually {border: 0;clip: rect(1px 1px 1px 1px);clip: rect(1px, 1px, 1px, 1px);height: 1px;margin: -1px;overflow: hidden;padding: 0;position: absolute;width: 1px;}#sk-container-id-9 div.sk-estimator {font-family: monospace;background-color: #f0f8ff;border: 1px dotted black;border-radius: 0.25em;box-sizing: border-box;margin-bottom: 0.5em;}#sk-container-id-9 div.sk-estimator:hover {background-color: #d4ebff;}#sk-container-id-9 div.sk-parallel-item::after {content: \"\";width: 100%;border-bottom: 1px solid gray;flex-grow: 1;}#sk-container-id-9 div.sk-label:hover label.sk-toggleable__label {background-color: #d4ebff;}#sk-container-id-9 div.sk-serial::before {content: \"\";position: absolute;border-left: 1px solid gray;box-sizing: border-box;top: 0;bottom: 0;left: 50%;z-index: 0;}#sk-container-id-9 div.sk-serial {display: flex;flex-direction: column;align-items: center;background-color: white;padding-right: 0.2em;padding-left: 0.2em;position: relative;}#sk-container-id-9 div.sk-item {position: relative;z-index: 1;}#sk-container-id-9 div.sk-parallel {display: flex;align-items: stretch;justify-content: center;background-color: white;position: relative;}#sk-container-id-9 div.sk-item::before, #sk-container-id-9 div.sk-parallel-item::before {content: \"\";position: absolute;border-left: 1px solid gray;box-sizing: border-box;top: 0;bottom: 0;left: 50%;z-index: -1;}#sk-container-id-9 div.sk-parallel-item {display: flex;flex-direction: column;z-index: 1;position: relative;background-color: white;}#sk-container-id-9 div.sk-parallel-item:first-child::after {align-self: flex-end;width: 50%;}#sk-container-id-9 div.sk-parallel-item:last-child::after {align-self: flex-start;width: 50%;}#sk-container-id-9 div.sk-parallel-item:only-child::after {width: 0;}#sk-container-id-9 div.sk-dashed-wrapped {border: 1px dashed gray;margin: 0 0.4em 0.5em 0.4em;box-sizing: border-box;padding-bottom: 0.4em;background-color: white;}#sk-container-id-9 div.sk-label label {font-family: monospace;font-weight: bold;display: inline-block;line-height: 1.2em;}#sk-container-id-9 div.sk-label-container {text-align: center;}#sk-container-id-9 div.sk-container {/* jupyter's `normalize.less` sets `[hidden] { display: none; }` but bootstrap.min.css set `[hidden] { display: none !important; }` so we also need the `!important` here to be able to override the default hidden behavior on the sphinx rendered scikit-learn.org. See: https://github.com/scikit-learn/scikit-learn/issues/21755 */display: inline-block !important;position: relative;}#sk-container-id-9 div.sk-text-repr-fallback {display: none;}</style><div id=\"sk-container-id-9\" class=\"sk-top-container\"><div class=\"sk-text-repr-fallback\"><pre>XGBClassifier(base_score=None, booster=None, callbacks=None,\n",
       "              colsample_bylevel=None, colsample_bynode=None,\n",
       "              colsample_bytree=None, device=None, early_stopping_rounds=None,\n",
       "              enable_categorical=False, eval_metric=None, feature_types=None,\n",
       "              feature_weights=None, gamma=None, grow_policy=None,\n",
       "              importance_type=None, interaction_constraints=None,\n",
       "              learning_rate=0.1, max_bin=None, max_cat_threshold=None,\n",
       "              max_cat_to_onehot=None, max_delta_step=None, max_depth=5,\n",
       "              max_leaves=None, min_child_weight=None, missing=nan,\n",
       "              monotone_constraints=None, multi_strategy=None, n_estimators=40,\n",
       "              n_jobs=None, num_parallel_tree=None, ...)</pre><b>In a Jupyter environment, please rerun this cell to show the HTML representation or trust the notebook. <br />On GitHub, the HTML representation is unable to render, please try loading this page with nbviewer.org.</b></div><div class=\"sk-container\" hidden><div class=\"sk-item\"><div class=\"sk-estimator sk-toggleable\"><input class=\"sk-toggleable__control sk-hidden--visually\" id=\"sk-estimator-id-9\" type=\"checkbox\" checked><label for=\"sk-estimator-id-9\" class=\"sk-toggleable__label sk-toggleable__label-arrow\">XGBClassifier</label><div class=\"sk-toggleable__content\"><pre>XGBClassifier(base_score=None, booster=None, callbacks=None,\n",
       "              colsample_bylevel=None, colsample_bynode=None,\n",
       "              colsample_bytree=None, device=None, early_stopping_rounds=None,\n",
       "              enable_categorical=False, eval_metric=None, feature_types=None,\n",
       "              feature_weights=None, gamma=None, grow_policy=None,\n",
       "              importance_type=None, interaction_constraints=None,\n",
       "              learning_rate=0.1, max_bin=None, max_cat_threshold=None,\n",
       "              max_cat_to_onehot=None, max_delta_step=None, max_depth=5,\n",
       "              max_leaves=None, min_child_weight=None, missing=nan,\n",
       "              monotone_constraints=None, multi_strategy=None, n_estimators=40,\n",
       "              n_jobs=None, num_parallel_tree=None, ...)</pre></div></div></div></div></div>"
      ],
      "text/plain": [
       "XGBClassifier(base_score=None, booster=None, callbacks=None,\n",
       "              colsample_bylevel=None, colsample_bynode=None,\n",
       "              colsample_bytree=None, device=None, early_stopping_rounds=None,\n",
       "              enable_categorical=False, eval_metric=None, feature_types=None,\n",
       "              feature_weights=None, gamma=None, grow_policy=None,\n",
       "              importance_type=None, interaction_constraints=None,\n",
       "              learning_rate=0.1, max_bin=None, max_cat_threshold=None,\n",
       "              max_cat_to_onehot=None, max_delta_step=None, max_depth=5,\n",
       "              max_leaves=None, min_child_weight=None, missing=nan,\n",
       "              monotone_constraints=None, multi_strategy=None, n_estimators=40,\n",
       "              n_jobs=None, num_parallel_tree=None, ...)"
      ]
     },
     "execution_count": 102,
     "metadata": {},
     "output_type": "execute_result"
    }
   ],
   "source": [
    "from xgboost import XGBClassifier\n",
    "estimator = XGBClassifier()\n",
    "param_grid = {'n_estimators' : [10,20,40,100], 'learning_rate':[0.1,0.05,0.5,1], 'max_depth':[3,4,5]}\n",
    "grid = GridSearchCV(estimator , param_grid , cv = 5 , scoring = 'accuracy')\n",
    "grid.fit(X_train , y_train)\n",
    "grid.best_estimator_"
   ]
  },
  {
   "cell_type": "code",
   "execution_count": 103,
   "id": "6f50a124-6abe-4ca0-81fe-03a17cffcce2",
   "metadata": {},
   "outputs": [
    {
     "data": {
      "text/html": [
       "<div>\n",
       "<style scoped>\n",
       "    .dataframe tbody tr th:only-of-type {\n",
       "        vertical-align: middle;\n",
       "    }\n",
       "\n",
       "    .dataframe tbody tr th {\n",
       "        vertical-align: top;\n",
       "    }\n",
       "\n",
       "    .dataframe thead th {\n",
       "        text-align: right;\n",
       "    }\n",
       "</style>\n",
       "<table border=\"1\" class=\"dataframe\">\n",
       "  <thead>\n",
       "    <tr style=\"text-align: right;\">\n",
       "      <th></th>\n",
       "      <th>imp</th>\n",
       "    </tr>\n",
       "  </thead>\n",
       "  <tbody>\n",
       "    <tr>\n",
       "      <th>BMI</th>\n",
       "      <td>0.008699</td>\n",
       "    </tr>\n",
       "    <tr>\n",
       "      <th>Alcohol_Units_Per_Week</th>\n",
       "      <td>0.005805</td>\n",
       "    </tr>\n",
       "    <tr>\n",
       "      <th>Air_Pollution_Index</th>\n",
       "      <td>0.018915</td>\n",
       "    </tr>\n",
       "    <tr>\n",
       "      <th>Occupational_Hazard_Score</th>\n",
       "      <td>0.046878</td>\n",
       "    </tr>\n",
       "    <tr>\n",
       "      <th>Exposure_to_Dust_Years</th>\n",
       "      <td>0.023365</td>\n",
       "    </tr>\n",
       "    <tr>\n",
       "      <th>Physical_Activity_Level</th>\n",
       "      <td>0.004114</td>\n",
       "    </tr>\n",
       "    <tr>\n",
       "      <th>FEV1</th>\n",
       "      <td>0.130355</td>\n",
       "    </tr>\n",
       "    <tr>\n",
       "      <th>Allergy</th>\n",
       "      <td>0.041748</td>\n",
       "    </tr>\n",
       "    <tr>\n",
       "      <th>Wheezing</th>\n",
       "      <td>0.044604</td>\n",
       "    </tr>\n",
       "    <tr>\n",
       "      <th>Coughing</th>\n",
       "      <td>0.042703</td>\n",
       "    </tr>\n",
       "    <tr>\n",
       "      <th>Fatigue</th>\n",
       "      <td>0.126045</td>\n",
       "    </tr>\n",
       "    <tr>\n",
       "      <th>Chest_Pain</th>\n",
       "      <td>0.188458</td>\n",
       "    </tr>\n",
       "    <tr>\n",
       "      <th>Shortness_of_Breath</th>\n",
       "      <td>0.104462</td>\n",
       "    </tr>\n",
       "    <tr>\n",
       "      <th>Chronic_Disease</th>\n",
       "      <td>0.054812</td>\n",
       "    </tr>\n",
       "    <tr>\n",
       "      <th>Family_History_Lung_Disease</th>\n",
       "      <td>0.131149</td>\n",
       "    </tr>\n",
       "    <tr>\n",
       "      <th>Total_Smoking_Exposure</th>\n",
       "      <td>0.027890</td>\n",
       "    </tr>\n",
       "  </tbody>\n",
       "</table>\n",
       "</div>"
      ],
      "text/plain": [
       "                                  imp\n",
       "BMI                          0.008699\n",
       "Alcohol_Units_Per_Week       0.005805\n",
       "Air_Pollution_Index          0.018915\n",
       "Occupational_Hazard_Score    0.046878\n",
       "Exposure_to_Dust_Years       0.023365\n",
       "Physical_Activity_Level      0.004114\n",
       "FEV1                         0.130355\n",
       "Allergy                      0.041748\n",
       "Wheezing                     0.044604\n",
       "Coughing                     0.042703\n",
       "Fatigue                      0.126045\n",
       "Chest_Pain                   0.188458\n",
       "Shortness_of_Breath          0.104462\n",
       "Chronic_Disease              0.054812\n",
       "Family_History_Lung_Disease  0.131149\n",
       "Total_Smoking_Exposure       0.027890"
      ]
     },
     "execution_count": 103,
     "metadata": {},
     "output_type": "execute_result"
    }
   ],
   "source": [
    "\n",
    "s1 = pd.DataFrame(grid.best_estimator_.feature_importances_ , columns =['imp'], index = X_train.columns.to_list())\n",
    "s1"
   ]
  },
  {
   "cell_type": "code",
   "execution_count": 104,
   "id": "275f4156-22c0-4170-b5df-0930171c1552",
   "metadata": {},
   "outputs": [
    {
     "data": {
      "text/plain": [
       "['BMI',\n",
       " 'Alcohol_Units_Per_Week',\n",
       " 'Air_Pollution_Index',\n",
       " 'Occupational_Hazard_Score',\n",
       " 'Exposure_to_Dust_Years',\n",
       " 'Physical_Activity_Level',\n",
       " 'FEV1',\n",
       " 'Allergy',\n",
       " 'Wheezing',\n",
       " 'Coughing',\n",
       " 'Fatigue',\n",
       " 'Chest_Pain',\n",
       " 'Shortness_of_Breath',\n",
       " 'Chronic_Disease',\n",
       " 'Family_History_Lung_Disease',\n",
       " 'Total_Smoking_Exposure']"
      ]
     },
     "execution_count": 104,
     "metadata": {},
     "output_type": "execute_result"
    }
   ],
   "source": [
    "imp_features = s1[s1['imp']>0].index.to_list()\n",
    "imp_features"
   ]
  },
  {
   "cell_type": "code",
   "execution_count": 105,
   "id": "e25f1f3f-9ce3-41bf-826d-925a6e9c818d",
   "metadata": {},
   "outputs": [],
   "source": [
    "# Convert integer column indices to column names\n",
    "imp_feature_names = [X.columns[i] for i in imp_feature]\n",
    "\n",
    "# Now select the columns correctly\n",
    "X_imp = X[imp_feature_names]\n"
   ]
  },
  {
   "cell_type": "code",
   "execution_count": 106,
   "id": "ea4d0ba6-b67e-45ce-a682-0a61163e5322",
   "metadata": {},
   "outputs": [
    {
     "name": "stdout",
     "output_type": "stream",
     "text": [
      "accuracy_score 1.0\n",
      "cvs: 0.9799999999999999\n",
      "test_accuracy: 0.97\n"
     ]
    }
   ],
   "source": [
    "\n",
    "X_train , X_test , y_train , y_test = train_test_split(X_imp , y, train_size = 0.8,random_state = 67)\n",
    "xgb=XGBClassifier(n_estimators = 20,max_depth=3,learning_rate=0.5)\n",
    "xgb.fit(X_train, y_train)\n",
    "\n",
    "ypred_train = xgb.predict(X_train)\n",
    "ypred_test = xgb.predict(X_test)\n",
    "\n",
    "\n",
    "print('accuracy_score' , accuracy_score(ypred_train , y_train))\n",
    "print('cvs:'  , cross_val_score(xgb , X_train , y_train , cv = 5).mean())\n",
    "print('test_accuracy:' , accuracy_score(ypred_test , y_test))"
   ]
  },
  {
   "cell_type": "code",
   "execution_count": 107,
   "id": "9b52802f-8786-4cf3-939a-9e8552c9af9a",
   "metadata": {},
   "outputs": [
    {
     "name": "stdout",
     "output_type": "stream",
     "text": [
      "Confusion_matrix: [[ 88   3]\n",
      " [  3 106]]\n",
      "classification_report:               precision    recall  f1-score   support\n",
      "\n",
      "           0       0.97      0.97      0.97        91\n",
      "           1       0.97      0.97      0.97       109\n",
      "\n",
      "    accuracy                           0.97       200\n",
      "   macro avg       0.97      0.97      0.97       200\n",
      "weighted avg       0.97      0.97      0.97       200\n",
      "\n"
     ]
    }
   ],
   "source": [
    "print('Confusion_matrix:' , confusion_matrix(y_test , ypred_test))\n",
    "print('classification_report:' ,classification_report(y_test , ypred_test))"
   ]
  },
  {
   "cell_type": "markdown",
   "id": "829add0d-ce41-406e-a4fa-48db1871863e",
   "metadata": {},
   "source": [
    "#### OBSERVATION \n",
    "Balanced performance with strong generalization.\n",
    "\n",
    "Very low misclassification (only 6 out of 200 predictions were incorrect).\n",
    "\n",
    "No overfitting observed — training and test scores are very close.\n",
    "\n",
    "XGBoost and Gradient Boosting perform similarly, but XGBoost is often faster and more scalable.\n",
    "\n",
    " Conclusion\n",
    "Your XGBoost model is a top performer, achieving excellent accuracy and consistency. It is well-suited for deployment or further fine-tuning if needed.\n",
    "\n",
    "\n",
    "\n",
    "\n",
    "\n",
    "\n",
    "\n",
    "\n",
    "\n",
    "\n",
    "\n"
   ]
  },
  {
   "cell_type": "code",
   "execution_count": null,
   "id": "28e004b0-1386-476e-9bf4-9c233801911d",
   "metadata": {},
   "outputs": [],
   "source": []
  },
  {
   "cell_type": "markdown",
   "id": "8fc37a21-2838-4e18-a7dd-5dd5f75073ec",
   "metadata": {},
   "source": [
    "| Model                   | Train Accuracy                  | Test Accuracy                  | CV Score | Precision/Recall Balance | Notes                                                        |\r\n",
    "| ----------------------- | ------------------------------- | ------------------------------ | -------- | ------------------------ | ------------------------------------------------------------ |\r\n",
    "| **Logistic Regression** | 98.38%                          | 98.50%                         | 98.38%   | Excellent (Balanced)     | Near-perfect recall on class 0                               |\r\n",
    "| **KNN (k=11)**          | 98.13%                          | 98.00%                         | 98.13%   | Very Good                | Slightly lower test accuracy                                 |\r\n",
    "| **Gradient Boosting**   | 99.38%                          | 97.00%                         | 97.88%   | Very Good                | Strong, but test accuracy a bit lower than LR                |\r\n",
    "| **XGBoost**             | 99.38%                          | 97.00%                         | 96.37%   | Very Good                | Slightly less consistent CV                                  |\r\n",
    "| **Random Forest**       | 99.75%                          | 97.50%                         | 95.75%   | Very Good                | Slightly lower CV, potential overfit risk                    |\r\n",
    "| **AdaBoost**            | 99.75% (train from another run) | 97.50% (test from earlier run) | 83.25%   | Good but unstable CV     | CV significantly lower, indicates less stable generalization |\r\n"
   ]
  },
  {
   "cell_type": "markdown",
   "id": "c49af7f3-24f3-4b82-8ca5-37ff656fb4e6",
   "metadata": {},
   "source": []
  },
  {
   "cell_type": "markdown",
   "id": "610d41b7-4053-4662-bc46-0067adeffe02",
   "metadata": {},
   "source": [
    "**Logistic Regression** wins as the best balanced model.\n",
    "It has the highest test accuracy (98.5%) and a strong cross-validation score closely matching train/test, showing excellent generalization and stability. The precision and recall balance is near perfect, minimizing false positives and negatives.\n",
    "\n",
    "**KNN** is a close second, with almost identical accuracy and balanced metrics, but just slightly lower test accuracy.\n",
    "\n",
    "**Boosting methods** (Gradient Boosting, XGBoost, Random Forest) are strong contenders, showing very high train accuracy but slightly lower test accuracy and generally lower CV scores than Logistic Regression, indicating a small risk of overfitting or less consistent generalization.\n",
    "\n",
    "**AdaBoost’s** much lower CV score indicates instability despite good train/test accuracy — so it's less reliable."
   ]
  },
  {
   "cell_type": "code",
   "execution_count": null,
   "id": "c3e05d38-5be6-45b1-9e38-092b0421c06a",
   "metadata": {},
   "outputs": [],
   "source": []
  },
  {
   "cell_type": "markdown",
   "id": "cbce6f32-b9e2-4220-aca4-0be212bdc3a4",
   "metadata": {},
   "source": [
    "In this healthcare classification task, multiple machine learning models were trained and evaluated, including Decision Trees, Random Forests, Gradient Boosting, AdaBoost, XGBoost, K-Nearest Neighbors (KNN), Support Vector Machines (SVM), and **Logistic Regression. Among all, Logistic Regression emerged as the most suitable model for production use, achieving a train accuracy of 98.37%, test accuracy of 98.5%, and cross-validation score (CVS) of 98.37%**. The classification report showed strong class-wise performance, with **precision and recall scores close to 1.0** for both classes. Its performance was not only competitive in terms of accuracy but also offered **high interpretability**, which is critical in healthcare applications where **explainability and transparency** are essential for clinical decision-making. Unlike complex ensemble models such as Random Forest or XGBoost, Logistic Regression allows for straightforward deployment, rapid inference, and easy integration into electronic health systems or low-resource devices. The model’s coefficients clearly indicate the influence of each feature, supporting regulatory compliance and user trust. These characteristics make Logistic Regression the most balanced and production-ready choice for this healthcare application, despite the slightly higher accuracy shown by other black-box models."
   ]
  },
  {
   "cell_type": "code",
   "execution_count": null,
   "id": "42e38138-1d81-4616-b18e-d5ceb1eec77b",
   "metadata": {},
   "outputs": [],
   "source": []
  },
  {
   "cell_type": "markdown",
   "id": "fcd2c135-1efa-4142-947c-fbc8f7f1b155",
   "metadata": {},
   "source": [
    "#### <U>Save the Model</U>"
   ]
  },
  {
   "cell_type": "code",
   "execution_count": 131,
   "id": "5b88e389-237f-4e90-8409-5894c2eff22f",
   "metadata": {},
   "outputs": [
    {
     "data": {
      "text/plain": [
       "['model_features.pkl']"
      ]
     },
     "execution_count": 131,
     "metadata": {},
     "output_type": "execute_result"
    }
   ],
   "source": [
    "import joblib\n",
    "\n",
    "# Save the model\n",
    "joblib.dump(lr, 'lung_disease_model.pkl')\n",
    "joblib.dump(scaler, 'scaler.pkl')\n",
    "joblib.dump(X_train.columns.tolist(), 'model_features.pkl')  # Save the feature order\n"
   ]
  },
  {
   "cell_type": "code",
   "execution_count": 111,
   "id": "f32ca22c-6252-4c34-8274-e5b1927c2d10",
   "metadata": {},
   "outputs": [],
   "source": [
    "import joblib\n",
    "xg_Model = joblib.load('lung_disease_model.pkl')   # your saved model\n",
    "scaler = joblib.load('scaler.pkl')            # your saved scaler"
   ]
  },
  {
   "cell_type": "code",
   "execution_count": 125,
   "id": "959bc5bc-8891-44ab-9df5-4ac6b8337284",
   "metadata": {},
   "outputs": [
    {
     "name": "stdout",
     "output_type": "stream",
     "text": [
      "Model expects: 18\n",
      "Scaler expects: 18\n"
     ]
    }
   ],
   "source": [
    "print(\"Model expects:\", model.n_features_in_)\n",
    "print(\"Scaler expects:\", scaler.n_features_in_)\n"
   ]
  },
  {
   "cell_type": "code",
   "execution_count": 126,
   "id": "53a57cda-7cd9-4d0c-967d-45397123911b",
   "metadata": {},
   "outputs": [
    {
     "name": "stdout",
     "output_type": "stream",
     "text": [
      "Model expects: 18 features\n",
      "Scaler expects: 18 features\n",
      "Length of feature_names: 16\n",
      "Feature names: ['BMI', 'Alcohol_Units_Per_Week', 'Air_Pollution_Index', 'Occupational_Hazard_Score', 'Exposure_to_Dust_Years', 'Physical_Activity_Level', 'FEV1', 'Allergy', 'Wheezing', 'Coughing', 'Fatigue', 'Chest_Pain', 'Shortness_of_Breath', 'Chronic_Disease', 'Family_History_Lung_Disease', 'Total_Smoking_Exposure']\n"
     ]
    }
   ],
   "source": [
    "print(\"Model expects:\", model.n_features_in_, \"features\")\n",
    "print(\"Scaler expects:\", scaler.n_features_in_, \"features\")\n",
    "print(\"Length of feature_names:\", len(feature_names))\n",
    "print(\"Feature names:\", feature_names)\n"
   ]
  },
  {
   "cell_type": "code",
   "execution_count": 132,
   "id": "639dfa11-02d6-477f-9b86-af31c2b0837a",
   "metadata": {},
   "outputs": [],
   "source": [
    "# Replace feature_names with actual list used during training\n",
    "feature_names = [\n",
    "    'Age', 'Gender', 'BMI', 'Alcohol_Units_Per_Week', 'Air_Pollution_Index',\n",
    "    'Occupational_Hazard_Score', 'Exposure_to_Dust_Years', 'Physical_Activity_Level',\n",
    "    'FEV1', 'Allergy', 'Wheezing', 'Coughing', 'Fatigue', 'Chest_Pain',\n",
    "    'Shortness_of_Breath', 'Chronic_Disease', 'Family_History_Lung_Disease',\n",
    "    'Total_Smoking_Exposure'\n",
    "]\n"
   ]
  },
  {
   "cell_type": "code",
   "execution_count": 133,
   "id": "6c48fab7-fdc4-48aa-bfb5-17976ea045fd",
   "metadata": {},
   "outputs": [],
   "source": [
    "manual_df = pd.DataFrame(manual_input, columns=feature_names)\n"
   ]
  },
  {
   "cell_type": "code",
   "execution_count": 141,
   "id": "338f4e84-906f-449d-9237-504032263e71",
   "metadata": {},
   "outputs": [
    {
     "name": "stdin",
     "output_type": "stream",
     "text": [
      "Age:  22\n",
      "Gender (1=Male, 0=Female):  1\n",
      "BMI:  33\n",
      "Alcohol Units Per Week:  2\n",
      "Air Pollution Index:  3\n",
      "Occupational Hazard Score:  4\n",
      "Exposure to Dust (Years):  1\n",
      "Physical Activity Level:  7\n",
      "FEV1:  3\n",
      "Allergy (1=Yes, 0=No):  0\n",
      "Wheezing (1=Yes, 0=No):  0\n",
      "Coughing (1=Yes, 0=No):  0\n",
      "Fatigue (1=Yes, 0=No):  0\n",
      "Chest Pain (1=Yes, 0=No):  0\n",
      "Shortness of Breath (1=Yes, 0=No):  0\n",
      "Chronic Disease (1=Yes, 0=No):  0\n",
      "Family History of Lung Disease (1=Yes, 0=No):  0\n",
      "Total Smoking Exposure:  0\n"
     ]
    },
    {
     "name": "stdout",
     "output_type": "stream",
     "text": [
      "\n",
      "Prediction: Does the patient have Lung Disease? ➜ No\n"
     ]
    }
   ],
   "source": [
    "import numpy as np\n",
    "import pandas as pd\n",
    "import joblib\n",
    "\n",
    "# Load saved model and scaler\n",
    "model = joblib.load('lung_disease_model.pkl')\n",
    "scaler = joblib.load('scaler.pkl')\n",
    "\n",
    "# ❗️Don't load model_features.pkl — it is incorrect!\n",
    "# ❗️Manually define all 18 feature names\n",
    "feature_names = [\n",
    "    'Age', 'Gender', 'BMI', 'Alcohol_Units_Per_Week', 'Air_Pollution_Index',\n",
    "    'Occupational_Hazard_Score', 'Exposure_to_Dust_Years', 'Physical_Activity_Level',\n",
    "    'FEV1', 'Allergy', 'Wheezing', 'Coughing', 'Fatigue', 'Chest_Pain',\n",
    "    'Shortness_of_Breath', 'Chronic_Disease', 'Family_History_Lung_Disease',\n",
    "    'Total_Smoking_Exposure'\n",
    "]\n",
    "\n",
    "# --- MANUAL INPUT: all 18 features ---\n",
    "Age = int(input(\"Age: \"))\n",
    "Gender = int(input(\"Gender (1=Male, 0=Female): \"))\n",
    "BMI = float(input(\"BMI: \"))\n",
    "Alcohol_Units_Per_Week = float(input(\"Alcohol Units Per Week: \"))\n",
    "Air_Pollution_Index = float(input(\"Air Pollution Index: \"))\n",
    "Occupational_Hazard_Score = float(input(\"Occupational Hazard Score: \"))\n",
    "Exposure_to_Dust_Years = int(input(\"Exposure to Dust (Years): \"))\n",
    "Physical_Activity_Level = float(input(\"Physical Activity Level: \"))\n",
    "FEV1 = float(input(\"FEV1: \"))\n",
    "Allergy = int(input(\"Allergy (1=Yes, 0=No): \"))\n",
    "Wheezing = int(input(\"Wheezing (1=Yes, 0=No): \"))\n",
    "Coughing = int(input(\"Coughing (1=Yes, 0=No): \"))\n",
    "Fatigue = int(input(\"Fatigue (1=Yes, 0=No): \"))\n",
    "Chest_Pain = int(input(\"Chest Pain (1=Yes, 0=No): \"))\n",
    "Shortness_of_Breath = int(input(\"Shortness of Breath (1=Yes, 0=No): \"))\n",
    "Chronic_Disease = int(input(\"Chronic Disease (1=Yes, 0=No): \"))\n",
    "Family_History_Lung_Disease = int(input(\"Family History of Lung Disease (1=Yes, 0=No): \"))\n",
    "Total_Smoking_Exposure = float(input(\"Total Smoking Exposure: \"))\n",
    "\n",
    "# Prepare input array\n",
    "manual_input = np.array([[\n",
    "    Age, Gender, BMI, Alcohol_Units_Per_Week, Air_Pollution_Index,\n",
    "    Occupational_Hazard_Score, Exposure_to_Dust_Years, Physical_Activity_Level,\n",
    "    FEV1, Allergy, Wheezing, Coughing, Fatigue, Chest_Pain,\n",
    "    Shortness_of_Breath, Chronic_Disease, Family_History_Lung_Disease,\n",
    "    Total_Smoking_Exposure\n",
    "]])\n",
    "\n",
    "# Create DataFrame using correct feature names\n",
    "manual_df = pd.DataFrame(manual_input, columns=feature_names)\n",
    "\n",
    "# Scale\n",
    "manual_scaled = scaler.transform(manual_df)\n",
    "\n",
    "# Predict\n",
    "prediction = model.predict(manual_scaled)\n",
    "prediction_label = 'Yes' if prediction[0] == 1 else 'No'\n",
    "\n",
    "print(\"\\nPrediction: Does the patient have Lung Disease? ➜\", prediction_label)\n"
   ]
  },
  {
   "cell_type": "code",
   "execution_count": null,
   "id": "07b6aebf-c7ca-4cf2-a8e1-95e9138d44fe",
   "metadata": {},
   "outputs": [],
   "source": []
  },
  {
   "cell_type": "code",
   "execution_count": null,
   "id": "7fbadd18-4d38-4c6f-80eb-28a6abc9142e",
   "metadata": {},
   "outputs": [],
   "source": []
  },
  {
   "cell_type": "code",
   "execution_count": null,
   "id": "2ed9006c-5fa6-4a4e-b411-efb1c8bf144a",
   "metadata": {},
   "outputs": [],
   "source": []
  },
  {
   "cell_type": "code",
   "execution_count": null,
   "id": "ed97c214-2904-41cb-b52f-eba1185d03d2",
   "metadata": {},
   "outputs": [],
   "source": []
  },
  {
   "cell_type": "code",
   "execution_count": null,
   "id": "0327eb89-2827-4bad-8607-5d6f55c57806",
   "metadata": {},
   "outputs": [],
   "source": []
  },
  {
   "cell_type": "code",
   "execution_count": null,
   "id": "698e1cb3-db6d-4b4e-8c87-c92ae1326fd5",
   "metadata": {},
   "outputs": [],
   "source": []
  },
  {
   "cell_type": "code",
   "execution_count": null,
   "id": "1e8dfef5-9ae5-4353-8fa0-236315d5e825",
   "metadata": {},
   "outputs": [],
   "source": []
  },
  {
   "cell_type": "code",
   "execution_count": null,
   "id": "c164a5be-1cc9-472c-a036-b55e7674e99f",
   "metadata": {},
   "outputs": [],
   "source": []
  },
  {
   "cell_type": "code",
   "execution_count": null,
   "id": "37f53001-f07a-4abb-9e6f-0a81532f8250",
   "metadata": {},
   "outputs": [],
   "source": []
  },
  {
   "cell_type": "code",
   "execution_count": null,
   "id": "fb63747b-4b8e-47e0-ba7f-21a9dd64d1e5",
   "metadata": {},
   "outputs": [],
   "source": []
  },
  {
   "cell_type": "code",
   "execution_count": null,
   "id": "eb252cd6-d504-4142-b335-eb425aacbb46",
   "metadata": {},
   "outputs": [],
   "source": []
  },
  {
   "cell_type": "code",
   "execution_count": null,
   "id": "1c4493d3-f0d4-4fd8-9c42-87cdc6373344",
   "metadata": {},
   "outputs": [],
   "source": []
  },
  {
   "cell_type": "code",
   "execution_count": null,
   "id": "89bcf825-d50c-42c4-99ab-1ab15c736f99",
   "metadata": {},
   "outputs": [],
   "source": []
  },
  {
   "cell_type": "code",
   "execution_count": null,
   "id": "99541835-e4b4-4acb-a3c0-bae790f98bcd",
   "metadata": {},
   "outputs": [],
   "source": []
  },
  {
   "cell_type": "code",
   "execution_count": null,
   "id": "a3bdea51-78e4-4679-a97f-c6a243c5453f",
   "metadata": {},
   "outputs": [],
   "source": []
  },
  {
   "cell_type": "code",
   "execution_count": null,
   "id": "adf0c2f7-3bd6-4e77-af4a-fbcc741b6d2d",
   "metadata": {},
   "outputs": [],
   "source": []
  },
  {
   "cell_type": "code",
   "execution_count": null,
   "id": "121cf7d9-a6d3-4458-8e68-be8c87cd2c7d",
   "metadata": {},
   "outputs": [],
   "source": []
  },
  {
   "cell_type": "code",
   "execution_count": null,
   "id": "21b5daaa-ca7a-4982-8506-b391f6ebc827",
   "metadata": {},
   "outputs": [],
   "source": []
  },
  {
   "cell_type": "code",
   "execution_count": null,
   "id": "26ab68e3-9de6-47e0-95e3-965a10b43e87",
   "metadata": {},
   "outputs": [],
   "source": []
  },
  {
   "cell_type": "code",
   "execution_count": null,
   "id": "d7c43897-b455-4d40-a5b4-795360b650f4",
   "metadata": {},
   "outputs": [],
   "source": []
  },
  {
   "cell_type": "code",
   "execution_count": null,
   "id": "9d253755-cb4e-4773-8bc8-e1dc04b9f2fb",
   "metadata": {},
   "outputs": [],
   "source": []
  },
  {
   "cell_type": "code",
   "execution_count": null,
   "id": "d4fdb832-337b-4eed-9e0a-21a21b3e6396",
   "metadata": {},
   "outputs": [],
   "source": []
  },
  {
   "cell_type": "code",
   "execution_count": null,
   "id": "b77b5273-2bcb-4dcc-a8e1-31690cb7a7c8",
   "metadata": {},
   "outputs": [],
   "source": []
  },
  {
   "cell_type": "code",
   "execution_count": null,
   "id": "acb6bd3f-76a9-4aa3-9a9b-9a75aa5d869b",
   "metadata": {},
   "outputs": [],
   "source": []
  },
  {
   "cell_type": "code",
   "execution_count": null,
   "id": "9aa4db3b-73cd-4fe6-8c41-dfb27a2f73dc",
   "metadata": {},
   "outputs": [],
   "source": []
  },
  {
   "cell_type": "code",
   "execution_count": null,
   "id": "9e683ed7-31cb-4a3d-bf90-d8d2d56d8487",
   "metadata": {},
   "outputs": [],
   "source": []
  },
  {
   "cell_type": "code",
   "execution_count": null,
   "id": "4f075ec0-7eae-4fe6-97ad-24d5115029bf",
   "metadata": {},
   "outputs": [],
   "source": []
  },
  {
   "cell_type": "code",
   "execution_count": null,
   "id": "15706bd1-0ede-4148-b0f1-c33ca0ab5c96",
   "metadata": {},
   "outputs": [],
   "source": []
  },
  {
   "cell_type": "code",
   "execution_count": null,
   "id": "26e3fc70-c9b0-4eb3-9a01-98cea3d6fa70",
   "metadata": {},
   "outputs": [],
   "source": []
  },
  {
   "cell_type": "code",
   "execution_count": null,
   "id": "2fec2147-f62f-4169-a9ab-9d028ad737a5",
   "metadata": {},
   "outputs": [],
   "source": []
  },
  {
   "cell_type": "code",
   "execution_count": null,
   "id": "a064640c-e1c6-48db-8139-8876cdb34bf4",
   "metadata": {},
   "outputs": [],
   "source": []
  },
  {
   "cell_type": "code",
   "execution_count": null,
   "id": "728fa28e-0aca-4f62-b76b-8fbfacd0870d",
   "metadata": {},
   "outputs": [],
   "source": []
  },
  {
   "cell_type": "code",
   "execution_count": null,
   "id": "67adceee-168b-4a2f-9075-bd39aecc2378",
   "metadata": {},
   "outputs": [],
   "source": []
  },
  {
   "cell_type": "code",
   "execution_count": null,
   "id": "eca4c774-028a-40d5-9ed8-57d9ffbc2296",
   "metadata": {},
   "outputs": [],
   "source": []
  },
  {
   "cell_type": "code",
   "execution_count": null,
   "id": "32f6c677-5220-4413-907d-95e6ba9d5548",
   "metadata": {},
   "outputs": [],
   "source": []
  },
  {
   "cell_type": "code",
   "execution_count": null,
   "id": "3e171958-ca70-47b7-b383-dc94a2f46dd0",
   "metadata": {},
   "outputs": [],
   "source": []
  },
  {
   "cell_type": "code",
   "execution_count": null,
   "id": "29bad358-dff6-44ed-a8b4-50a25fc2f897",
   "metadata": {},
   "outputs": [],
   "source": []
  },
  {
   "cell_type": "code",
   "execution_count": null,
   "id": "2723cf83-0737-4ce3-bf8e-d87b180e8fbf",
   "metadata": {},
   "outputs": [],
   "source": []
  },
  {
   "cell_type": "code",
   "execution_count": null,
   "id": "aa792ad5-9a4c-4ddf-8772-d4b1e79ece9b",
   "metadata": {},
   "outputs": [],
   "source": []
  },
  {
   "cell_type": "code",
   "execution_count": null,
   "id": "0b662a6d-53ee-44db-b5a5-1dc1dc9b50bd",
   "metadata": {},
   "outputs": [],
   "source": []
  },
  {
   "cell_type": "code",
   "execution_count": null,
   "id": "f811b673-b841-4cd9-be41-89f5749f8c23",
   "metadata": {},
   "outputs": [],
   "source": []
  },
  {
   "cell_type": "code",
   "execution_count": null,
   "id": "39213be4-1c91-484c-a2c3-c749983d9c22",
   "metadata": {},
   "outputs": [],
   "source": []
  },
  {
   "cell_type": "code",
   "execution_count": null,
   "id": "df34e6b1-19bc-4653-865e-ee90938197a0",
   "metadata": {},
   "outputs": [],
   "source": []
  },
  {
   "cell_type": "code",
   "execution_count": null,
   "id": "b36bd498-fe40-4e83-b0a4-029ab60c7804",
   "metadata": {},
   "outputs": [],
   "source": []
  }
 ],
 "metadata": {
  "kernelspec": {
   "display_name": "Python 3 (ipykernel)",
   "language": "python",
   "name": "python3"
  },
  "language_info": {
   "codemirror_mode": {
    "name": "ipython",
    "version": 3
   },
   "file_extension": ".py",
   "mimetype": "text/x-python",
   "name": "python",
   "nbconvert_exporter": "python",
   "pygments_lexer": "ipython3",
   "version": "3.11.7"
  }
 },
 "nbformat": 4,
 "nbformat_minor": 5
}
